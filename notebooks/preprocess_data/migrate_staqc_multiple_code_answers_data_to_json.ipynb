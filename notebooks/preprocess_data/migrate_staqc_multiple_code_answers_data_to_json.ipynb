{
  "nbformat": 4,
  "nbformat_minor": 0,
  "metadata": {
    "colab": {
      "name": "migrate_staqc_multiple_code_answers_data_to_json.ipynb",
      "provenance": [],
      "collapsed_sections": []
    },
    "kernelspec": {
      "name": "python2",
      "display_name": "Python 2"
    },
    "accelerator": "GPU"
  },
  "cells": [
    {
      "cell_type": "markdown",
      "metadata": {
        "id": "J4anJAr4Bn8-",
        "colab_type": "text"
      },
      "source": [
        "Get StackOverflow QC Dataset"
      ]
    },
    {
      "cell_type": "code",
      "metadata": {
        "id": "jl6m02qsBD_2",
        "colab_type": "code",
        "outputId": "05a82185-5ab8-4a51-a3c4-64bd9dbf88d1",
        "colab": {
          "base_uri": "https://localhost:8080/",
          "height": 119
        }
      },
      "source": [
        "!git clone https://github.com/mrezende/StackOverflow-Question-Code-Dataset.git"
      ],
      "execution_count": 1,
      "outputs": [
        {
          "output_type": "stream",
          "text": [
            "Cloning into 'StackOverflow-Question-Code-Dataset'...\n",
            "remote: Enumerating objects: 688, done.\u001b[K\n",
            "remote: Total 688 (delta 0), reused 0 (delta 0), pack-reused 688\u001b[K\n",
            "Receiving objects: 100% (688/688), 518.69 MiB | 38.60 MiB/s, done.\n",
            "Resolving deltas: 100% (273/273), done.\n",
            "Checking out files: 100% (205/205), done.\n"
          ],
          "name": "stdout"
        }
      ]
    },
    {
      "cell_type": "markdown",
      "metadata": {
        "id": "Bz4QJBsy2_Ib",
        "colab_type": "text"
      },
      "source": [
        "Go to StackOverflow-Question-Code-Dataset home"
      ]
    },
    {
      "cell_type": "code",
      "metadata": {
        "id": "lQBj2mkn3HXl",
        "colab_type": "code",
        "outputId": "23c90b7e-558c-4e11-d816-05d40affaa1a",
        "colab": {
          "base_uri": "https://localhost:8080/",
          "height": 34
        }
      },
      "source": [
        "%cd /content/StackOverflow-Question-Code-Dataset/"
      ],
      "execution_count": 2,
      "outputs": [
        {
          "output_type": "stream",
          "text": [
            "/content/StackOverflow-Question-Code-Dataset\n"
          ],
          "name": "stdout"
        }
      ]
    },
    {
      "cell_type": "markdown",
      "metadata": {
        "id": "T6STBQy-2z_A",
        "colab_type": "text"
      },
      "source": [
        "Get question ids and codes labeled\n"
      ]
    },
    {
      "cell_type": "code",
      "metadata": {
        "id": "wLzEz8_NB03I",
        "colab_type": "code",
        "outputId": "358ee61a-5608-4872-e4a7-c2bb386a61dd",
        "colab": {
          "base_uri": "https://localhost:8080/",
          "height": 80
        }
      },
      "source": [
        "import matplotlib\n",
        "import pickle\n",
        "import sys\n",
        "from keras.preprocessing.text import Tokenizer\n",
        "from sklearn.model_selection import train_test_split\n",
        "import json\n",
        "from gensim.models import Word2Vec\n",
        "import random\n",
        "import numpy as np\n",
        "import os\n",
        "from data_processing.code_processing import *\n",
        "from keras.preprocessing.text import text_to_word_sequence\n",
        "from sklearn.manifold import TSNE\n",
        "import matplotlib.pyplot as plt\n",
        "from ast import literal_eval\n",
        "\n",
        "qid_to_title = pickle.load(open('annotation_tool/data/code_solution_labeled_data/source/python_how_to_do_it_by_classifier_multiple_qid_to_title.pickle','rb'))\n",
        "\n",
        "q_code_snippet = pickle.load(open('annotation_tool/data/code_solution_labeled_data/source/python_how_to_do_it_by_classifier_multiple_iid_to_code.pickle', 'rb'))\n",
        "\n",
        "iid_manually_labeled = pickle.load(open('annotation_tool/crowd_sourcing/python_annotator/all_agreed_iid_to_label.pickle','rb'))\n",
        "\n",
        "\n"
      ],
      "execution_count": 3,
      "outputs": [
        {
          "output_type": "stream",
          "text": [
            "Using TensorFlow backend.\n"
          ],
          "name": "stderr"
        },
        {
          "output_type": "display_data",
          "data": {
            "text/plain": [
              "<IPython.core.display.HTML object>"
            ],
            "text/html": [
              "<p style=\"color: red;\">\n",
              "The default version of TensorFlow in Colab will soon switch to TensorFlow 2.x.<br>\n",
              "We recommend you <a href=\"https://www.tensorflow.org/guide/migrate\" target=\"_blank\">upgrade</a> now \n",
              "or ensure your notebook will continue to use TensorFlow 1.x via the <code>%tensorflow_version 1.x</code> magic:\n",
              "<a href=\"https://colab.research.google.com/notebooks/tensorflow_version.ipynb\" target=\"_blank\">more info</a>.</p>\n"
            ]
          },
          "metadata": {
            "tags": []
          }
        }
      ]
    },
    {
      "cell_type": "code",
      "metadata": {
        "id": "n6hjEI5JgsOa",
        "colab_type": "code",
        "colab": {}
      },
      "source": [
        "\n",
        "def save_to_json_file(dict_obj, filename):\n",
        "  aux = {}\n",
        "  for key in dict_obj:\n",
        "    str_key = str(key)\n",
        "    value = dict_obj[key]\n",
        "    aux[str_key] = value\n",
        "  \n",
        "  if not os.path.exists(os.path.dirname(filename)):\n",
        "    os.makedirs(os.path.dirname(filename))\n",
        "  with open(filename, 'w') as file:\n",
        "    json.dump(aux, file)\n",
        "\n",
        "save_to_json_file(qid_to_title, 'data_json/python_how_to_do_it_by_classifier_multiple_qid_to_title.json')\n",
        "save_to_json_file(q_code_snippet, 'data_json/python_how_to_do_it_by_classifier_multiple_iid_to_code.json')\n",
        "save_to_json_file(iid_manually_labeled, 'data_json/all_agreed_iid_to_label.json')\n",
        "\n",
        "\n",
        "\n"
      ],
      "execution_count": 0,
      "outputs": []
    },
    {
      "cell_type": "markdown",
      "metadata": {
        "id": "AiAr9puJ-y_7",
        "colab_type": "text"
      },
      "source": [
        "Assert if json file was written correctly. Check if all keys and values are saved according to picke file\n",
        "\n"
      ]
    },
    {
      "cell_type": "code",
      "metadata": {
        "id": "_OVKpsCI0GF1",
        "colab_type": "code",
        "outputId": "4ab02287-e34b-4c03-ebfb-0e23d0d5edab",
        "colab": {
          "base_uri": "https://localhost:8080/",
          "height": 68
        }
      },
      "source": [
        "def load_json(filename):\n",
        "  aux = None\n",
        "  with open(filename, 'r') as read_file:\n",
        "    aux = json.load(read_file)\n",
        "  \n",
        "  map_obj = {}\n",
        "  for key in aux:\n",
        "    tuple_key = literal_eval(key)\n",
        "    value = aux[key]\n",
        "    map_obj[tuple_key] = value\n",
        "  return map_obj\n",
        "\n",
        "qid_to_title_from_file = load_json('data_json/python_how_to_do_it_by_classifier_multiple_qid_to_title.json')\n",
        "multiple_code_from_file = load_json('data_json/python_how_to_do_it_by_classifier_multiple_iid_to_code.json')\n",
        "agreed_code_from_file = load_json('data_json/all_agreed_iid_to_label.json')\n",
        "\n",
        "titles = [qid_to_title_from_file[key] for key in qid_to_title_from_file if key in qid_to_title and qid_to_title_from_file[key] == qid_to_title[key]]\n",
        "\n",
        "assert (len(titles) == len(qid_to_title)), \"qid_to_title error: json file is incosistent\"\n",
        "print (len(titles) == len(qid_to_title))\n",
        "\n",
        "multiple_codes = [multiple_code_from_file[key] for key in multiple_code_from_file if key in q_code_snippet and multiple_code_from_file[key] == q_code_snippet[key]]\n",
        "\n",
        "assert (len(multiple_codes) == len(q_code_snippet)), \"q_code_snippet error: json file is incosistent\"\n",
        "print (len(multiple_codes) == len(q_code_snippet))\n",
        "\n",
        "\n",
        "agreed_codes = [agreed_code_from_file[key] for key in agreed_code_from_file if key in iid_manually_labeled and agreed_code_from_file[key] == iid_manually_labeled[key]]\n",
        "\n",
        "assert (len(agreed_codes) == len(iid_manually_labeled)), \"iid_manually_labeled error: json file is incosistent\"\n",
        "print (len(agreed_codes) == len(iid_manually_labeled))\n",
        "\n",
        "\n",
        "\n"
      ],
      "execution_count": 5,
      "outputs": [
        {
          "output_type": "stream",
          "text": [
            "True\n",
            "True\n",
            "True\n"
          ],
          "name": "stdout"
        }
      ]
    },
    {
      "cell_type": "markdown",
      "metadata": {
        "id": "oTWqE5s1DbEW",
        "colab_type": "text"
      },
      "source": [
        "compress in a single file"
      ]
    },
    {
      "cell_type": "code",
      "metadata": {
        "id": "m-kdvbZyDgtD",
        "colab_type": "code",
        "outputId": "94d489de-e89e-4073-977e-e6186fbfc5ae",
        "colab": {
          "base_uri": "https://localhost:8080/",
          "height": 85
        }
      },
      "source": [
        "!tar -czvf data_json.tar.gz data_json/"
      ],
      "execution_count": 6,
      "outputs": [
        {
          "output_type": "stream",
          "text": [
            "data_json/\n",
            "data_json/all_agreed_iid_to_label.json\n",
            "data_json/python_how_to_do_it_by_classifier_multiple_qid_to_title.json\n",
            "data_json/python_how_to_do_it_by_classifier_multiple_iid_to_code.json\n"
          ],
          "name": "stdout"
        }
      ]
    }
  ]
}