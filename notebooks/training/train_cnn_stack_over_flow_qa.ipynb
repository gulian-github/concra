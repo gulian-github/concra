{
  "nbformat": 4,
  "nbformat_minor": 0,
  "metadata": {
    "colab": {
      "name": "train_cnn_stack_over_flow_qa.ipynb",
      "provenance": [],
      "collapsed_sections": [],
      "machine_shape": "hm"
    },
    "kernelspec": {
      "name": "python3",
      "display_name": "Python 3"
    },
    "accelerator": "GPU"
  },
  "cells": [
    {
      "cell_type": "markdown",
      "metadata": {
        "id": "oxuEMO3OMWZm",
        "colab_type": "text"
      },
      "source": [
        "Specifying tensorflow version"
      ]
    },
    {
      "cell_type": "code",
      "metadata": {
        "id": "F0BvjKT5Maob",
        "colab_type": "code",
        "colab": {
          "base_uri": "https://localhost:8080/",
          "height": 34
        },
        "outputId": "28a6ea47-f978-42ec-c0cb-152672576821"
      },
      "source": [
        "%tensorflow_version 1.x"
      ],
      "execution_count": null,
      "outputs": [
        {
          "output_type": "stream",
          "text": [
            "TensorFlow 1.x selected.\n"
          ],
          "name": "stdout"
        }
      ]
    },
    {
      "cell_type": "markdown",
      "metadata": {
        "id": "JquYQliaUJkZ",
        "colab_type": "text"
      },
      "source": [
        "Retrieving dataset repository"
      ]
    },
    {
      "cell_type": "code",
      "metadata": {
        "id": "1xx7efUpQxd-",
        "colab_type": "code",
        "colab": {
          "base_uri": "https://localhost:8080/",
          "height": 153
        },
        "outputId": "291cfda8-b3a5-4ee9-b7da-75a7b9b65e36"
      },
      "source": [
        "!git clone https://github.com/mrezende/concra.git"
      ],
      "execution_count": null,
      "outputs": [
        {
          "output_type": "stream",
          "text": [
            "Cloning into 'concra'...\n",
            "remote: Enumerating objects: 15, done.\u001b[K\n",
            "remote: Counting objects: 100% (15/15), done.\u001b[K\n",
            "remote: Compressing objects: 100% (15/15), done.\u001b[K\n",
            "remote: Total 707 (delta 0), reused 8 (delta 0), pack-reused 692\u001b[K\n",
            "Receiving objects: 100% (707/707), 1.89 GiB | 38.94 MiB/s, done.\n",
            "Resolving deltas: 100% (441/441), done.\n",
            "Checking out files: 100% (427/427), done.\n"
          ],
          "name": "stdout"
        }
      ]
    },
    {
      "cell_type": "markdown",
      "metadata": {
        "id": "LrcYsIKFRObs",
        "colab_type": "text"
      },
      "source": [
        "Setting STACK_OVER_FLOW_QA variable"
      ]
    },
    {
      "cell_type": "code",
      "metadata": {
        "id": "oRSoa6CeReSj",
        "colab_type": "code",
        "colab": {}
      },
      "source": [
        "import os\n",
        "os.environ['STACK_OVER_FLOW_QA'] = '/content/concra/data/'"
      ],
      "execution_count": null,
      "outputs": []
    },
    {
      "cell_type": "markdown",
      "metadata": {
        "id": "P--8gnq4SVqb",
        "colab_type": "text"
      },
      "source": [
        "Run code from yacra repository"
      ]
    },
    {
      "cell_type": "code",
      "metadata": {
        "id": "gqC5B_OuSdE8",
        "colab_type": "code",
        "colab": {
          "base_uri": "https://localhost:8080/",
          "height": 34
        },
        "outputId": "ad619b69-560a-41e3-df00-7ab66ed07aea"
      },
      "source": [
        "%cd concra/"
      ],
      "execution_count": null,
      "outputs": [
        {
          "output_type": "stream",
          "text": [
            "/content/concra\n"
          ],
          "name": "stdout"
        }
      ]
    },
    {
      "cell_type": "markdown",
      "metadata": {
        "id": "y8Qm0emE4_X7",
        "colab_type": "text"
      },
      "source": [
        "Define user and name to push files to Github"
      ]
    },
    {
      "cell_type": "code",
      "metadata": {
        "id": "CeoY9dAa41ej",
        "colab_type": "code",
        "colab": {}
      },
      "source": [
        "!git config --global user.email \"rezende.martins@gmail.com\"\n",
        "!git config --global user.name \"Marcelo Martins\""
      ],
      "execution_count": null,
      "outputs": []
    },
    {
      "cell_type": "code",
      "metadata": {
        "id": "QbKo_tiG6wUE",
        "colab_type": "code",
        "colab": {}
      },
      "source": [
        "!git remote rm origin"
      ],
      "execution_count": null,
      "outputs": []
    },
    {
      "cell_type": "code",
      "metadata": {
        "id": "z-mqhNrl-3ts",
        "colab_type": "code",
        "colab": {}
      },
      "source": [
        "!git remote add origin <Add remote origin>"
      ],
      "execution_count": null,
      "outputs": []
    },
    {
      "cell_type": "markdown",
      "metadata": {
        "id": "3j0UO368ylzg",
        "colab_type": "text"
      },
      "source": [
        "--------- cnn --------------"
      ]
    },
    {
      "cell_type": "code",
      "metadata": {
        "id": "wdvG2eHLylaz",
        "colab_type": "code",
        "colab": {}
      },
      "source": [
        "!python3 stack_over_flow_qa_eval.py --model cnn --conf_file conf/stack_over_flow_conf_f_50.json &> output/training/cnn-50-out.txt &"
      ],
      "execution_count": null,
      "outputs": []
    },
    {
      "cell_type": "code",
      "metadata": {
        "id": "HoaJSlK4ylPB",
        "colab_type": "code",
        "colab": {
          "base_uri": "https://localhost:8080/",
          "height": 1000
        },
        "outputId": "cc740157-db44-42ad-e21a-4fd96bb75acc"
      },
      "source": [
        "!while ! grep \"<Figure\" output/training/cnn-50-out.txt;do tail -n 30 output/training/cnn-50-out.txt; sleep 10;done"
      ],
      "execution_count": null,
      "outputs": []
    },
    {
      "cell_type": "code",
      "metadata": {
        "id": "isGymf90ylEj",
        "colab_type": "code",
        "colab": {
          "base_uri": "https://localhost:8080/",
          "height": 578
        },
        "outputId": "5a4f22bd-01cf-45d4-8a6d-047222db4171"
      },
      "source": [
        "!git status\n",
        "!git pull origin master\n",
        "!git add -A\n",
        "!git commit -am \"push cnn-50 results to github\"\n",
        "!git push origin master"
      ],
      "execution_count": null,
      "outputs": [
        {
          "output_type": "stream",
          "text": [
            "On branch master\n",
            "Untracked files:\n",
            "  (use \"git add <file>...\" to include in what will be committed)\n",
            "\n",
            "\t\u001b[31mmodels/\u001b[m\n",
            "\t\u001b[31moutput/\u001b[m\n",
            "\t\u001b[31mplots/\u001b[m\n",
            "\n",
            "nothing added to commit but untracked files present (use \"git add\" to track)\n",
            "From https://github.com/mrezende/concra\n",
            " * branch            master     -> FETCH_HEAD\n",
            " * [new branch]      master     -> origin/master\n",
            "Already up to date.\n",
            "[master cd09259] push cnn-50 results to github\n",
            " 10 files changed, 4135 insertions(+)\n",
            " create mode 100644 models/summary/plot_prediction_037a77_ConvolutionModel.png\n",
            " create mode 100644 models/summary/plot_training_037a77_ConvolutionModel.png\n",
            " create mode 100644 models/weights/json/config_037a77_ConvolutionModel.json\n",
            " create mode 100644 models/weights/json/config_037a77_ConvolutionModel_best.json\n",
            " create mode 100644 models/weights/weights_epoch_037a77_ConvolutionModel.h5\n",
            " create mode 100644 models/weights/weights_epoch_037a77_ConvolutionModel_aux.h5\n",
            " create mode 100644 models/weights/weights_epoch_037a77_ConvolutionModel_best.h5\n",
            " create mode 100644 output/conf_list_037a77.txt\n",
            " create mode 100644 output/training/cnn-50-out.txt\n",
            " create mode 100644 plots/037a77_ConvolutionModel_plot.png\n",
            "Counting objects: 18, done.\n",
            "Delta compression using up to 4 threads.\n",
            "Compressing objects: 100% (17/17), done.\n",
            "Writing objects: 100% (18/18), 32.39 MiB | 6.34 MiB/s, done.\n",
            "Total 18 (delta 3), reused 0 (delta 0)\n",
            "remote: Resolving deltas: 100% (3/3), completed with 1 local object.\u001b[K\n",
            "To https://github.com/mrezende/concra.git\n",
            "   c3e56ef..cd09259  master -> master\n"
          ],
          "name": "stdout"
        }
      ]
    },
    {
      "cell_type": "code",
      "metadata": {
        "id": "VonmWXOkykfu",
        "colab_type": "code",
        "colab": {}
      },
      "source": [
        "!python3 stack_over_flow_qa_eval.py --model cnn --conf_file conf/stack_over_flow_conf_f_50_k_2.json &> output/training/cnn-50-k-2-out.txt &"
      ],
      "execution_count": null,
      "outputs": []
    },
    {
      "cell_type": "code",
      "metadata": {
        "id": "r3bDYABqykUv",
        "colab_type": "code",
        "colab": {
          "base_uri": "https://localhost:8080/",
          "height": 1000
        },
        "outputId": "ec0b4ad5-7b6d-4cf5-b876-7ba4bb8212ee"
      },
      "source": [
        "!while ! grep \"<Figure\" output/training/cnn-50-k-2-out.txt;do tail -n 30 output/training/cnn-50-k-2-out.txt; sleep 10;done"
      ],
      "execution_count": null,
      "outputs": []
    },
    {
      "cell_type": "code",
      "metadata": {
        "id": "V29A5UlGykI-",
        "colab_type": "code",
        "colab": {
          "base_uri": "https://localhost:8080/",
          "height": 680
        },
        "outputId": "070f82c5-e64f-479f-f2ab-619c53238b55"
      },
      "source": [
        "!git status\n",
        "!git pull origin master\n",
        "!git add -A\n",
        "!git commit -am \"push cnn-50-k-2 results to github\"\n",
        "!git push origin master"
      ],
      "execution_count": null,
      "outputs": [
        {
          "output_type": "stream",
          "text": [
            "On branch master\n",
            "Untracked files:\n",
            "  (use \"git add <file>...\" to include in what will be committed)\n",
            "\n",
            "\t\u001b[31mmodels/summary/plot_prediction_1cc83f_ConvolutionModel.png\u001b[m\n",
            "\t\u001b[31mmodels/summary/plot_training_1cc83f_ConvolutionModel.png\u001b[m\n",
            "\t\u001b[31mmodels/weights/json/config_1cc83f_ConvolutionModel.json\u001b[m\n",
            "\t\u001b[31mmodels/weights/json/config_1cc83f_ConvolutionModel_best.json\u001b[m\n",
            "\t\u001b[31mmodels/weights/weights_epoch_1cc83f_ConvolutionModel.h5\u001b[m\n",
            "\t\u001b[31mmodels/weights/weights_epoch_1cc83f_ConvolutionModel_aux.h5\u001b[m\n",
            "\t\u001b[31mmodels/weights/weights_epoch_1cc83f_ConvolutionModel_best.h5\u001b[m\n",
            "\t\u001b[31moutput/conf_list_1cc83f.txt\u001b[m\n",
            "\t\u001b[31moutput/training/cnn-50-k-2-out.txt\u001b[m\n",
            "\t\u001b[31mplots/1cc83f_ConvolutionModel_plot.png\u001b[m\n",
            "\n",
            "nothing added to commit but untracked files present (use \"git add\" to track)\n",
            "From https://github.com/mrezende/concra\n",
            " * branch            master     -> FETCH_HEAD\n",
            "Already up to date.\n",
            "[master f7bbce1] push cnn-50-k-2 results to github\n",
            " 10 files changed, 3617 insertions(+)\n",
            " create mode 100644 models/summary/plot_prediction_1cc83f_ConvolutionModel.png\n",
            " create mode 100644 models/summary/plot_training_1cc83f_ConvolutionModel.png\n",
            " create mode 100644 models/weights/json/config_1cc83f_ConvolutionModel.json\n",
            " create mode 100644 models/weights/json/config_1cc83f_ConvolutionModel_best.json\n",
            " create mode 100644 models/weights/weights_epoch_1cc83f_ConvolutionModel.h5\n",
            " create mode 100644 models/weights/weights_epoch_1cc83f_ConvolutionModel_aux.h5\n",
            " create mode 100644 models/weights/weights_epoch_1cc83f_ConvolutionModel_best.h5\n",
            " create mode 100644 output/conf_list_1cc83f.txt\n",
            " create mode 100644 output/training/cnn-50-k-2-out.txt\n",
            " create mode 100644 plots/1cc83f_ConvolutionModel_plot.png\n",
            "Counting objects: 18, done.\n",
            "Delta compression using up to 4 threads.\n",
            "Compressing objects: 100% (18/18), done.\n",
            "Writing objects: 100% (18/18), 27.89 MiB | 6.63 MiB/s, done.\n",
            "Total 18 (delta 3), reused 0 (delta 0)\n",
            "remote: Resolving deltas: 100% (3/3), completed with 1 local object.\u001b[K\n",
            "To https://github.com/mrezende/concra.git\n",
            "   cd09259..f7bbce1  master -> master\n"
          ],
          "name": "stdout"
        }
      ]
    },
    {
      "cell_type": "code",
      "metadata": {
        "id": "ILw71gRoySgN",
        "colab_type": "code",
        "colab": {}
      },
      "source": [
        "!python3 stack_over_flow_qa_eval.py --model cnn --conf_file conf/stack_over_flow_conf_f_100.json &> output/training/cnn-100-out.txt &"
      ],
      "execution_count": null,
      "outputs": []
    },
    {
      "cell_type": "code",
      "metadata": {
        "id": "YDTsx1aIySWc",
        "colab_type": "code",
        "colab": {
          "base_uri": "https://localhost:8080/",
          "height": 1000
        },
        "outputId": "2432fcbd-6299-4fcd-e7e6-9a4ffce9a6f1"
      },
      "source": [
        "!while ! grep \"<Figure\" output/training/cnn-100-out.txt;do tail -n 30 output/training/cnn-100-out.txt; sleep 10;done"
      ],
      "execution_count": null,
      "outputs": []
    },
    {
      "cell_type": "code",
      "metadata": {
        "id": "wYP7YlHuySNK",
        "colab_type": "code",
        "colab": {
          "base_uri": "https://localhost:8080/",
          "height": 680
        },
        "outputId": "3bd8b1ca-1746-4189-9466-b17a1b76befe"
      },
      "source": [
        "!git status\n",
        "!git pull origin master\n",
        "!git add -A\n",
        "!git commit -am \"push cnn-100 results to github\"\n",
        "!git push origin master"
      ],
      "execution_count": null,
      "outputs": [
        {
          "output_type": "stream",
          "text": [
            "On branch master\n",
            "Untracked files:\n",
            "  (use \"git add <file>...\" to include in what will be committed)\n",
            "\n",
            "\t\u001b[31mmodels/summary/plot_prediction_1f3ad9_ConvolutionModel.png\u001b[m\n",
            "\t\u001b[31mmodels/summary/plot_training_1f3ad9_ConvolutionModel.png\u001b[m\n",
            "\t\u001b[31mmodels/weights/json/config_1f3ad9_ConvolutionModel.json\u001b[m\n",
            "\t\u001b[31mmodels/weights/json/config_1f3ad9_ConvolutionModel_best.json\u001b[m\n",
            "\t\u001b[31mmodels/weights/weights_epoch_1f3ad9_ConvolutionModel.h5\u001b[m\n",
            "\t\u001b[31mmodels/weights/weights_epoch_1f3ad9_ConvolutionModel_aux.h5\u001b[m\n",
            "\t\u001b[31mmodels/weights/weights_epoch_1f3ad9_ConvolutionModel_best.h5\u001b[m\n",
            "\t\u001b[31moutput/conf_list_1f3ad9.txt\u001b[m\n",
            "\t\u001b[31moutput/training/cnn-100-out.txt\u001b[m\n",
            "\t\u001b[31mplots/1f3ad9_ConvolutionModel_plot.png\u001b[m\n",
            "\n",
            "nothing added to commit but untracked files present (use \"git add\" to track)\n",
            "From https://github.com/mrezende/concra\n",
            " * branch            master     -> FETCH_HEAD\n",
            "Already up to date.\n",
            "[master 4c55f18] push cnn-100 results to github\n",
            " 10 files changed, 4565 insertions(+)\n",
            " create mode 100644 models/summary/plot_prediction_1f3ad9_ConvolutionModel.png\n",
            " create mode 100644 models/summary/plot_training_1f3ad9_ConvolutionModel.png\n",
            " create mode 100644 models/weights/json/config_1f3ad9_ConvolutionModel.json\n",
            " create mode 100644 models/weights/json/config_1f3ad9_ConvolutionModel_best.json\n",
            " create mode 100644 models/weights/weights_epoch_1f3ad9_ConvolutionModel.h5\n",
            " create mode 100644 models/weights/weights_epoch_1f3ad9_ConvolutionModel_aux.h5\n",
            " create mode 100644 models/weights/weights_epoch_1f3ad9_ConvolutionModel_best.h5\n",
            " create mode 100644 output/conf_list_1f3ad9.txt\n",
            " create mode 100644 output/training/cnn-100-out.txt\n",
            " create mode 100644 plots/1f3ad9_ConvolutionModel_plot.png\n",
            "Counting objects: 18, done.\n",
            "Delta compression using up to 4 threads.\n",
            "Compressing objects: 100% (18/18), done.\n",
            "Writing objects: 100% (18/18), 32.96 MiB | 6.02 MiB/s, done.\n",
            "Total 18 (delta 7), reused 0 (delta 0)\n",
            "remote: Resolving deltas: 100% (7/7), completed with 5 local objects.\u001b[K\n",
            "To https://github.com/mrezende/concra.git\n",
            "   f7bbce1..4c55f18  master -> master\n"
          ],
          "name": "stdout"
        }
      ]
    },
    {
      "cell_type": "code",
      "metadata": {
        "id": "7izxIMy2yR43",
        "colab_type": "code",
        "colab": {}
      },
      "source": [
        "!python3 stack_over_flow_qa_eval.py --model cnn --conf_file conf/stack_over_flow_conf_f_100_k_2.json &> output/training/cnn-100-k-2-out.txt &"
      ],
      "execution_count": null,
      "outputs": []
    },
    {
      "cell_type": "code",
      "metadata": {
        "id": "qM4KD2FKyRud",
        "colab_type": "code",
        "colab": {
          "base_uri": "https://localhost:8080/",
          "height": 1000
        },
        "outputId": "a6a70f25-56a1-4361-b4c2-8c198b79f904"
      },
      "source": [
        "!while ! grep \"<Figure\" output/training/cnn-100-k-2-out.txt;do tail -n 30 output/training/cnn-100-k-2-out.txt; sleep 10;done"
      ],
      "execution_count": null,
      "outputs": []
    },
    {
      "cell_type": "code",
      "metadata": {
        "id": "uXHh-UtDyRkz",
        "colab_type": "code",
        "colab": {}
      },
      "source": [
        "!git status\n",
        "!git pull origin master\n",
        "!git add -A\n",
        "!git commit -am \"push cnn-100-k-2 results to github\"\n",
        "!git push origin master"
      ],
      "execution_count": null,
      "outputs": []
    },
    {
      "cell_type": "code",
      "metadata": {
        "id": "ChTvDvcWyRUz",
        "colab_type": "code",
        "colab": {}
      },
      "source": [
        "!python3 stack_over_flow_qa_eval.py --model cnn --conf_file conf/stack_over_flow_conf_f_200.json &> output/training/cnn-200-out.txt &"
      ],
      "execution_count": null,
      "outputs": []
    },
    {
      "cell_type": "code",
      "metadata": {
        "id": "X34gf2TUyRJU",
        "colab_type": "code",
        "colab": {
          "base_uri": "https://localhost:8080/",
          "height": 1000
        },
        "outputId": "acde3f4f-49a7-4c04-b836-2f8e051203f7"
      },
      "source": [
        "!while ! grep \"<Figure\" output/training/cnn-200-out.txt;do tail -n 30 output/training/cnn-200-out.txt; sleep 10;done"
      ],
      "execution_count": null,
      "outputs": []
    },
    {
      "cell_type": "code",
      "metadata": {
        "id": "xuoS2xUVyQ_2",
        "colab_type": "code",
        "colab": {
          "base_uri": "https://localhost:8080/",
          "height": 680
        },
        "outputId": "9c0bc09c-60a9-4049-e753-d5695513227d"
      },
      "source": [
        "!git status\n",
        "!git pull origin master\n",
        "!git add -A\n",
        "!git commit -am \"push cnn-200 results to github\"\n",
        "!git push origin master"
      ],
      "execution_count": null,
      "outputs": [
        {
          "output_type": "stream",
          "text": [
            "On branch master\n",
            "Untracked files:\n",
            "  (use \"git add <file>...\" to include in what will be committed)\n",
            "\n",
            "\t\u001b[31mmodels/summary/plot_prediction_71b0e4_ConvolutionModel.png\u001b[m\n",
            "\t\u001b[31mmodels/summary/plot_training_71b0e4_ConvolutionModel.png\u001b[m\n",
            "\t\u001b[31mmodels/weights/json/config_71b0e4_ConvolutionModel.json\u001b[m\n",
            "\t\u001b[31mmodels/weights/json/config_71b0e4_ConvolutionModel_best.json\u001b[m\n",
            "\t\u001b[31mmodels/weights/weights_epoch_71b0e4_ConvolutionModel.h5\u001b[m\n",
            "\t\u001b[31mmodels/weights/weights_epoch_71b0e4_ConvolutionModel_aux.h5\u001b[m\n",
            "\t\u001b[31mmodels/weights/weights_epoch_71b0e4_ConvolutionModel_best.h5\u001b[m\n",
            "\t\u001b[31moutput/conf_list_71b0e4.txt\u001b[m\n",
            "\t\u001b[31moutput/training/cnn-200-out.txt\u001b[m\n",
            "\t\u001b[31mplots/71b0e4_ConvolutionModel_plot.png\u001b[m\n",
            "\n",
            "nothing added to commit but untracked files present (use \"git add\" to track)\n",
            "From https://github.com/mrezende/concra\n",
            " * branch            master     -> FETCH_HEAD\n",
            "Already up to date.\n",
            "[master 35b43a4] push cnn-200 results to github\n",
            " 10 files changed, 4301 insertions(+)\n",
            " create mode 100644 models/summary/plot_prediction_71b0e4_ConvolutionModel.png\n",
            " create mode 100644 models/summary/plot_training_71b0e4_ConvolutionModel.png\n",
            " create mode 100644 models/weights/json/config_71b0e4_ConvolutionModel.json\n",
            " create mode 100644 models/weights/json/config_71b0e4_ConvolutionModel_best.json\n",
            " create mode 100644 models/weights/weights_epoch_71b0e4_ConvolutionModel.h5\n",
            " create mode 100644 models/weights/weights_epoch_71b0e4_ConvolutionModel_aux.h5\n",
            " create mode 100644 models/weights/weights_epoch_71b0e4_ConvolutionModel_best.h5\n",
            " create mode 100644 output/conf_list_71b0e4.txt\n",
            " create mode 100644 output/training/cnn-200-out.txt\n",
            " create mode 100644 plots/71b0e4_ConvolutionModel_plot.png\n",
            "Counting objects: 18, done.\n",
            "Delta compression using up to 4 threads.\n",
            "Compressing objects: 100% (18/18), done.\n",
            "Writing objects: 100% (18/18), 40.43 MiB | 7.17 MiB/s, done.\n",
            "Total 18 (delta 9), reused 0 (delta 0)\n",
            "remote: Resolving deltas: 100% (9/9), completed with 7 local objects.\u001b[K\n",
            "To https://github.com/mrezende/concra.git\n",
            "   7eea172..35b43a4  master -> master\n"
          ],
          "name": "stdout"
        }
      ]
    },
    {
      "cell_type": "code",
      "metadata": {
        "id": "cP4Om99qyCo7",
        "colab_type": "code",
        "colab": {}
      },
      "source": [
        "!python3 stack_over_flow_qa_eval.py --model cnn --conf_file conf/stack_over_flow_conf_f_200_k_2.json &> output/training/cnn-200-k-2-out.txt &"
      ],
      "execution_count": null,
      "outputs": []
    },
    {
      "cell_type": "code",
      "metadata": {
        "id": "bYpJoYKIyCec",
        "colab_type": "code",
        "colab": {
          "base_uri": "https://localhost:8080/",
          "height": 1000
        },
        "outputId": "1cd3b26e-23d8-4665-dd4a-e83215ae3510"
      },
      "source": [
        "!while ! grep \"<Figure\" output/training/cnn-200-k-2-out.txt;do tail -n 30 output/training/cnn-200-k-2-out.txt; sleep 10;done"
      ],
      "execution_count": null,
      "outputs": []
    },
    {
      "cell_type": "code",
      "metadata": {
        "id": "_w2scP4ayCUP",
        "colab_type": "code",
        "colab": {
          "base_uri": "https://localhost:8080/",
          "height": 697
        },
        "outputId": "22884379-eb10-423e-8810-40a731962551"
      },
      "source": [
        "!git status\n",
        "!git pull origin master\n",
        "!git add -A\n",
        "!git commit -am \"push cnn-200-k-2 results to github\"\n",
        "!git push origin master"
      ],
      "execution_count": null,
      "outputs": [
        {
          "output_type": "stream",
          "text": [
            "On branch master\n",
            "Untracked files:\n",
            "  (use \"git add <file>...\" to include in what will be committed)\n",
            "\n",
            "\t\u001b[31mmodels/summary/plot_prediction_22cfac_ConvolutionModel.png\u001b[m\n",
            "\t\u001b[31mmodels/summary/plot_training_22cfac_ConvolutionModel.png\u001b[m\n",
            "\t\u001b[31mmodels/weights/json/config_22cfac_ConvolutionModel.json\u001b[m\n",
            "\t\u001b[31mmodels/weights/json/config_22cfac_ConvolutionModel_best.json\u001b[m\n",
            "\t\u001b[31mmodels/weights/weights_epoch_22cfac_ConvolutionModel.h5\u001b[m\n",
            "\t\u001b[31mmodels/weights/weights_epoch_22cfac_ConvolutionModel_aux.h5\u001b[m\n",
            "\t\u001b[31mmodels/weights/weights_epoch_22cfac_ConvolutionModel_best.h5\u001b[m\n",
            "\t\u001b[31moutput/conf_list_22cfac.txt\u001b[m\n",
            "\t\u001b[31moutput/training/cnn-200-k-2-out.txt\u001b[m\n",
            "\t\u001b[31mplots/22cfac_ConvolutionModel_plot.png\u001b[m\n",
            "\n",
            "nothing added to commit but untracked files present (use \"git add\" to track)\n",
            "From https://github.com/mrezende/concra\n",
            " * branch            master     -> FETCH_HEAD\n",
            " * [new branch]      master     -> origin/master\n",
            "Already up to date.\n",
            "[master 67165a4] push cnn-200-k-2 results to github\n",
            " 10 files changed, 3439 insertions(+)\n",
            " create mode 100644 models/summary/plot_prediction_22cfac_ConvolutionModel.png\n",
            " create mode 100644 models/summary/plot_training_22cfac_ConvolutionModel.png\n",
            " create mode 100644 models/weights/json/config_22cfac_ConvolutionModel.json\n",
            " create mode 100644 models/weights/json/config_22cfac_ConvolutionModel_best.json\n",
            " create mode 100644 models/weights/weights_epoch_22cfac_ConvolutionModel.h5\n",
            " create mode 100644 models/weights/weights_epoch_22cfac_ConvolutionModel_aux.h5\n",
            " create mode 100644 models/weights/weights_epoch_22cfac_ConvolutionModel_best.h5\n",
            " create mode 100644 output/conf_list_22cfac.txt\n",
            " create mode 100644 output/training/cnn-200-k-2-out.txt\n",
            " create mode 100644 plots/22cfac_ConvolutionModel_plot.png\n",
            "Counting objects: 18, done.\n",
            "Delta compression using up to 4 threads.\n",
            "Compressing objects: 100% (18/18), done.\n",
            "Writing objects: 100% (18/18), 33.14 MiB | 1.58 MiB/s, done.\n",
            "Total 18 (delta 9), reused 0 (delta 0)\n",
            "remote: Resolving deltas: 100% (9/9), completed with 7 local objects.\u001b[K\n",
            "To https://github.com/mrezende/concra.git\n",
            "   35b43a4..67165a4  master -> master\n"
          ],
          "name": "stdout"
        }
      ]
    },
    {
      "cell_type": "code",
      "metadata": {
        "id": "qclKcm2_yCFs",
        "colab_type": "code",
        "colab": {}
      },
      "source": [
        "!python3 stack_over_flow_qa_eval.py --model cnn --conf_file conf/stack_over_flow_conf_f_500.json &> output/training/cnn-500-out.txt &"
      ],
      "execution_count": null,
      "outputs": []
    },
    {
      "cell_type": "code",
      "metadata": {
        "id": "1ubZ8TGMyB66",
        "colab_type": "code",
        "colab": {
          "base_uri": "https://localhost:8080/",
          "height": 1000
        },
        "outputId": "5d6f0871-a1b0-4434-e7ac-b640fdbf9afb"
      },
      "source": [
        "!while ! grep \"<Figure\" output/training/cnn-500-out.txt;do tail -n 30 output/training/cnn-500-out.txt; sleep 10;done"
      ],
      "execution_count": null,
      "outputs": []
    },
    {
      "cell_type": "code",
      "metadata": {
        "id": "JD9-DYqJyBw3",
        "colab_type": "code",
        "colab": {
          "base_uri": "https://localhost:8080/",
          "height": 680
        },
        "outputId": "fa736a17-92da-46e0-fc93-35c5356ebf12"
      },
      "source": [
        "!git status\n",
        "!git pull origin master\n",
        "!git add -A\n",
        "!git commit -am \"push cnn-500 results to github\"\n",
        "!git push origin master"
      ],
      "execution_count": null,
      "outputs": [
        {
          "output_type": "stream",
          "text": [
            "On branch master\n",
            "Untracked files:\n",
            "  (use \"git add <file>...\" to include in what will be committed)\n",
            "\n",
            "\t\u001b[31mmodels/summary/plot_prediction_6530dd_ConvolutionModel.png\u001b[m\n",
            "\t\u001b[31mmodels/summary/plot_training_6530dd_ConvolutionModel.png\u001b[m\n",
            "\t\u001b[31mmodels/weights/json/config_6530dd_ConvolutionModel.json\u001b[m\n",
            "\t\u001b[31mmodels/weights/json/config_6530dd_ConvolutionModel_best.json\u001b[m\n",
            "\t\u001b[31mmodels/weights/weights_epoch_6530dd_ConvolutionModel.h5\u001b[m\n",
            "\t\u001b[31mmodels/weights/weights_epoch_6530dd_ConvolutionModel_aux.h5\u001b[m\n",
            "\t\u001b[31mmodels/weights/weights_epoch_6530dd_ConvolutionModel_best.h5\u001b[m\n",
            "\t\u001b[31moutput/conf_list_6530dd.txt\u001b[m\n",
            "\t\u001b[31moutput/training/cnn-500-out.txt\u001b[m\n",
            "\t\u001b[31mplots/6530dd_ConvolutionModel_plot.png\u001b[m\n",
            "\n",
            "nothing added to commit but untracked files present (use \"git add\" to track)\n",
            "From https://github.com/mrezende/concra\n",
            " * branch            master     -> FETCH_HEAD\n",
            "Already up to date.\n",
            "[master 814c382] push cnn-500 results to github\n",
            " 10 files changed, 3947 insertions(+)\n",
            " create mode 100644 models/summary/plot_prediction_6530dd_ConvolutionModel.png\n",
            " create mode 100644 models/summary/plot_training_6530dd_ConvolutionModel.png\n",
            " create mode 100644 models/weights/json/config_6530dd_ConvolutionModel.json\n",
            " create mode 100644 models/weights/json/config_6530dd_ConvolutionModel_best.json\n",
            " create mode 100644 models/weights/weights_epoch_6530dd_ConvolutionModel.h5\n",
            " create mode 100644 models/weights/weights_epoch_6530dd_ConvolutionModel_aux.h5\n",
            " create mode 100644 models/weights/weights_epoch_6530dd_ConvolutionModel_best.h5\n",
            " create mode 100644 output/conf_list_6530dd.txt\n",
            " create mode 100644 output/training/cnn-500-out.txt\n",
            " create mode 100644 plots/6530dd_ConvolutionModel_plot.png\n",
            "Counting objects: 18, done.\n",
            "Delta compression using up to 4 threads.\n",
            "Compressing objects: 100% (18/18), done.\n",
            "Writing objects: 100% (18/18), 53.22 MiB | 2.25 MiB/s, done.\n",
            "Total 18 (delta 8), reused 0 (delta 0)\n",
            "remote: Resolving deltas: 100% (8/8), completed with 7 local objects.\u001b[K\n",
            "To https://github.com/mrezende/concra.git\n",
            "   67165a4..814c382  master -> master\n"
          ],
          "name": "stdout"
        }
      ]
    },
    {
      "cell_type": "code",
      "metadata": {
        "id": "vIBRMriOyBfx",
        "colab_type": "code",
        "colab": {}
      },
      "source": [
        "!python3 stack_over_flow_qa_eval.py --model cnn --conf_file conf/stack_over_flow_conf_f_500_k_2.json &> output/training/cnn-500-k-2-out.txt &"
      ],
      "execution_count": null,
      "outputs": []
    },
    {
      "cell_type": "code",
      "metadata": {
        "id": "BEsaVly2yBUf",
        "colab_type": "code",
        "colab": {
          "base_uri": "https://localhost:8080/",
          "height": 1000
        },
        "outputId": "b6a01374-4f41-4cfc-cb0f-74e8b961d3f0"
      },
      "source": [
        "!while ! grep \"<Figure\" output/training/cnn-500-k-2-out.txt;do tail -n 30 output/training/cnn-500-k-2-out.txt; sleep 10;done"
      ],
      "execution_count": null,
      "outputs": []
    },
    {
      "cell_type": "code",
      "metadata": {
        "id": "6gslDfX6yBJQ",
        "colab_type": "code",
        "colab": {
          "base_uri": "https://localhost:8080/",
          "height": 680
        },
        "outputId": "8a84ce55-32b3-4939-d0c0-103ce4ad0291"
      },
      "source": [
        "!git status\n",
        "!git pull origin master\n",
        "!git add -A\n",
        "!git commit -am \"push cnn-500-k-2 results to github\"\n",
        "!git push origin master"
      ],
      "execution_count": null,
      "outputs": [
        {
          "output_type": "stream",
          "text": [
            "On branch master\n",
            "Untracked files:\n",
            "  (use \"git add <file>...\" to include in what will be committed)\n",
            "\n",
            "\t\u001b[31mmodels/summary/plot_prediction_4a6042_ConvolutionModel.png\u001b[m\n",
            "\t\u001b[31mmodels/summary/plot_training_4a6042_ConvolutionModel.png\u001b[m\n",
            "\t\u001b[31mmodels/weights/json/config_4a6042_ConvolutionModel.json\u001b[m\n",
            "\t\u001b[31mmodels/weights/json/config_4a6042_ConvolutionModel_best.json\u001b[m\n",
            "\t\u001b[31mmodels/weights/weights_epoch_4a6042_ConvolutionModel.h5\u001b[m\n",
            "\t\u001b[31mmodels/weights/weights_epoch_4a6042_ConvolutionModel_aux.h5\u001b[m\n",
            "\t\u001b[31mmodels/weights/weights_epoch_4a6042_ConvolutionModel_best.h5\u001b[m\n",
            "\t\u001b[31moutput/conf_list_4a6042.txt\u001b[m\n",
            "\t\u001b[31moutput/training/cnn-500-k-2-out.txt\u001b[m\n",
            "\t\u001b[31mplots/4a6042_ConvolutionModel_plot.png\u001b[m\n",
            "\n",
            "nothing added to commit but untracked files present (use \"git add\" to track)\n",
            "From https://github.com/mrezende/concra\n",
            " * branch            master     -> FETCH_HEAD\n",
            "Already up to date.\n",
            "[master 560aa85] push cnn-500-k-2 results to github\n",
            " 10 files changed, 3599 insertions(+)\n",
            " create mode 100644 models/summary/plot_prediction_4a6042_ConvolutionModel.png\n",
            " create mode 100644 models/summary/plot_training_4a6042_ConvolutionModel.png\n",
            " create mode 100644 models/weights/json/config_4a6042_ConvolutionModel.json\n",
            " create mode 100644 models/weights/json/config_4a6042_ConvolutionModel_best.json\n",
            " create mode 100644 models/weights/weights_epoch_4a6042_ConvolutionModel.h5\n",
            " create mode 100644 models/weights/weights_epoch_4a6042_ConvolutionModel_aux.h5\n",
            " create mode 100644 models/weights/weights_epoch_4a6042_ConvolutionModel_best.h5\n",
            " create mode 100644 output/conf_list_4a6042.txt\n",
            " create mode 100644 output/training/cnn-500-k-2-out.txt\n",
            " create mode 100644 plots/4a6042_ConvolutionModel_plot.png\n",
            "Counting objects: 18, done.\n",
            "Delta compression using up to 4 threads.\n",
            "Compressing objects: 100% (18/18), done.\n",
            "Writing objects: 100% (18/18), 31.45 MiB | 4.26 MiB/s, done.\n",
            "Total 18 (delta 9), reused 0 (delta 0)\n",
            "remote: Resolving deltas: 100% (9/9), completed with 7 local objects.\u001b[K\n",
            "To https://github.com/mrezende/concra.git\n",
            "   814c382..560aa85  master -> master\n"
          ],
          "name": "stdout"
        }
      ]
    },
    {
      "cell_type": "code",
      "metadata": {
        "id": "J8mMrJp6xytk",
        "colab_type": "code",
        "colab": {}
      },
      "source": [
        "!python3 stack_over_flow_qa_eval.py --model cnn --conf_file conf/stack_over_flow_conf_f_1000.json &> output/training/cnn-1000-out.txt &"
      ],
      "execution_count": null,
      "outputs": []
    },
    {
      "cell_type": "code",
      "metadata": {
        "id": "OR9xqtcbxyjG",
        "colab_type": "code",
        "colab": {
          "base_uri": "https://localhost:8080/",
          "height": 1000
        },
        "outputId": "d614c896-1401-4119-e85c-840bf51a8f56"
      },
      "source": [
        "!while ! grep \"<Figure\" output/training/cnn-1000-out.txt;do tail -n 30 output/training/cnn-1000-out.txt; sleep 10;done"
      ],
      "execution_count": null,
      "outputs": []
    },
    {
      "cell_type": "code",
      "metadata": {
        "id": "9_45PkZZxyZ_",
        "colab_type": "code",
        "colab": {
          "base_uri": "https://localhost:8080/",
          "height": 680
        },
        "outputId": "80065d13-0e67-4cea-db2d-24004c76da3b"
      },
      "source": [
        "!git status\n",
        "!git pull origin master\n",
        "!git add -A\n",
        "!git commit -am \"push cnn-1000 results to github\"\n",
        "!git push origin master"
      ],
      "execution_count": null,
      "outputs": [
        {
          "output_type": "stream",
          "text": [
            "On branch master\n",
            "Untracked files:\n",
            "  (use \"git add <file>...\" to include in what will be committed)\n",
            "\n",
            "\t\u001b[31mmodels/summary/plot_prediction_08999c_ConvolutionModel.png\u001b[m\n",
            "\t\u001b[31mmodels/summary/plot_training_08999c_ConvolutionModel.png\u001b[m\n",
            "\t\u001b[31mmodels/weights/json/config_08999c_ConvolutionModel.json\u001b[m\n",
            "\t\u001b[31mmodels/weights/json/config_08999c_ConvolutionModel_best.json\u001b[m\n",
            "\t\u001b[31mmodels/weights/weights_epoch_08999c_ConvolutionModel.h5\u001b[m\n",
            "\t\u001b[31mmodels/weights/weights_epoch_08999c_ConvolutionModel_aux.h5\u001b[m\n",
            "\t\u001b[31mmodels/weights/weights_epoch_08999c_ConvolutionModel_best.h5\u001b[m\n",
            "\t\u001b[31moutput/conf_list_08999c.txt\u001b[m\n",
            "\t\u001b[31moutput/training/cnn-1000-out.txt\u001b[m\n",
            "\t\u001b[31mplots/08999c_ConvolutionModel_plot.png\u001b[m\n",
            "\n",
            "nothing added to commit but untracked files present (use \"git add\" to track)\n",
            "From https://github.com/mrezende/concra\n",
            " * branch            master     -> FETCH_HEAD\n",
            "Already up to date.\n",
            "[master 7723b09] push cnn-1000 results to github\n",
            " 10 files changed, 5595 insertions(+)\n",
            " create mode 100644 models/summary/plot_prediction_08999c_ConvolutionModel.png\n",
            " create mode 100644 models/summary/plot_training_08999c_ConvolutionModel.png\n",
            " create mode 100644 models/weights/json/config_08999c_ConvolutionModel.json\n",
            " create mode 100644 models/weights/json/config_08999c_ConvolutionModel_best.json\n",
            " create mode 100644 models/weights/weights_epoch_08999c_ConvolutionModel.h5\n",
            " create mode 100644 models/weights/weights_epoch_08999c_ConvolutionModel_aux.h5\n",
            " create mode 100644 models/weights/weights_epoch_08999c_ConvolutionModel_best.h5\n",
            " create mode 100644 output/conf_list_08999c.txt\n",
            " create mode 100644 output/training/cnn-1000-out.txt\n",
            " create mode 100644 plots/08999c_ConvolutionModel_plot.png\n",
            "Counting objects: 18, done.\n",
            "Delta compression using up to 4 threads.\n",
            "Compressing objects: 100% (18/18), done.\n",
            "Writing objects: 100% (18/18), 73.06 MiB | 2.60 MiB/s, done.\n",
            "Total 18 (delta 8), reused 0 (delta 0)\n",
            "remote: Resolving deltas: 100% (8/8), completed with 7 local objects.\u001b[K\n",
            "To https://github.com/mrezende/concra.git\n",
            "   560aa85..7723b09  master -> master\n"
          ],
          "name": "stdout"
        }
      ]
    },
    {
      "cell_type": "code",
      "metadata": {
        "id": "syuzBuu6xyL3",
        "colab_type": "code",
        "colab": {}
      },
      "source": [
        "!python3 stack_over_flow_qa_eval.py --model cnn --conf_file conf/stack_over_flow_conf_f_1000_k_2.json &> output/training/cnn-1000-k-2-out.txt &"
      ],
      "execution_count": null,
      "outputs": []
    },
    {
      "cell_type": "code",
      "metadata": {
        "id": "8srGmFkfxyBa",
        "colab_type": "code",
        "colab": {
          "base_uri": "https://localhost:8080/",
          "height": 1000
        },
        "outputId": "3a52135e-f7aa-4a81-ecb3-ed5a451330ad"
      },
      "source": [
        "!while ! grep \"<Figure\" output/training/cnn-1000-k-2-out.txt;do tail -n 30 output/training/cnn-1000-k-2-out.txt; sleep 10;done"
      ],
      "execution_count": null,
      "outputs": []
    },
    {
      "cell_type": "code",
      "metadata": {
        "id": "zTTO41hDxx4t",
        "colab_type": "code",
        "colab": {
          "base_uri": "https://localhost:8080/",
          "height": 680
        },
        "outputId": "15eb670b-d048-428d-fd54-11e9e2cffcc8"
      },
      "source": [
        "!git status\n",
        "!git pull origin master\n",
        "!git add -A\n",
        "!git commit -am \"push cnn-1000-k-2 results to github\"\n",
        "!git push origin master"
      ],
      "execution_count": null,
      "outputs": [
        {
          "output_type": "stream",
          "text": [
            "On branch master\n",
            "Untracked files:\n",
            "  (use \"git add <file>...\" to include in what will be committed)\n",
            "\n",
            "\t\u001b[31mmodels/summary/plot_prediction_4ce271_ConvolutionModel.png\u001b[m\n",
            "\t\u001b[31mmodels/summary/plot_training_4ce271_ConvolutionModel.png\u001b[m\n",
            "\t\u001b[31mmodels/weights/json/config_4ce271_ConvolutionModel.json\u001b[m\n",
            "\t\u001b[31mmodels/weights/json/config_4ce271_ConvolutionModel_best.json\u001b[m\n",
            "\t\u001b[31mmodels/weights/weights_epoch_4ce271_ConvolutionModel.h5\u001b[m\n",
            "\t\u001b[31mmodels/weights/weights_epoch_4ce271_ConvolutionModel_aux.h5\u001b[m\n",
            "\t\u001b[31mmodels/weights/weights_epoch_4ce271_ConvolutionModel_best.h5\u001b[m\n",
            "\t\u001b[31moutput/conf_list_4ce271.txt\u001b[m\n",
            "\t\u001b[31moutput/training/cnn-1000-k-2-out.txt\u001b[m\n",
            "\t\u001b[31mplots/4ce271_ConvolutionModel_plot.png\u001b[m\n",
            "\n",
            "nothing added to commit but untracked files present (use \"git add\" to track)\n",
            "From https://github.com/mrezende/concra\n",
            " * branch            master     -> FETCH_HEAD\n",
            "Already up to date.\n",
            "[master a480edd] push cnn-1000-k-2 results to github\n",
            " 10 files changed, 3945 insertions(+)\n",
            " create mode 100644 models/summary/plot_prediction_4ce271_ConvolutionModel.png\n",
            " create mode 100644 models/summary/plot_training_4ce271_ConvolutionModel.png\n",
            " create mode 100644 models/weights/json/config_4ce271_ConvolutionModel.json\n",
            " create mode 100644 models/weights/json/config_4ce271_ConvolutionModel_best.json\n",
            " create mode 100644 models/weights/weights_epoch_4ce271_ConvolutionModel.h5\n",
            " create mode 100644 models/weights/weights_epoch_4ce271_ConvolutionModel_aux.h5\n",
            " create mode 100644 models/weights/weights_epoch_4ce271_ConvolutionModel_best.h5\n",
            " create mode 100644 output/conf_list_4ce271.txt\n",
            " create mode 100644 output/training/cnn-1000-k-2-out.txt\n",
            " create mode 100644 plots/4ce271_ConvolutionModel_plot.png\n",
            "Counting objects: 18, done.\n",
            "Delta compression using up to 4 threads.\n",
            "Compressing objects: 100% (18/18), done.\n",
            "Writing objects: 100% (18/18), 34.73 MiB | 1.62 MiB/s, done.\n",
            "Total 18 (delta 9), reused 0 (delta 0)\n",
            "remote: Resolving deltas: 100% (9/9), completed with 7 local objects.\u001b[K\n",
            "To https://github.com/mrezende/concra.git\n",
            "   7723b09..a480edd  master -> master\n"
          ],
          "name": "stdout"
        }
      ]
    },
    {
      "cell_type": "code",
      "metadata": {
        "id": "xKrRlLxXxxsG",
        "colab_type": "code",
        "colab": {}
      },
      "source": [
        "!python3 stack_over_flow_qa_eval.py --model cnn --conf_file conf/stack_over_flow_conf_f_1000_k_2_m_005.json &> output/training/cnn-1000-k-2-m-005-out.txt &"
      ],
      "execution_count": null,
      "outputs": []
    },
    {
      "cell_type": "code",
      "metadata": {
        "id": "yl2Zg2mdxxkN",
        "colab_type": "code",
        "colab": {
          "base_uri": "https://localhost:8080/",
          "height": 1000
        },
        "outputId": "ce0bf73f-0070-4c29-b95b-3bbca91a1b36"
      },
      "source": [
        "!while ! grep \"<Figure\" output/training/cnn-1000-k-2-m-005-out.txt;do tail -n 30 output/training/cnn-1000-k-2-m-005-out.txt; sleep 10;done"
      ],
      "execution_count": null,
      "outputs": []
    },
    {
      "cell_type": "code",
      "metadata": {
        "id": "yJO40Rb3xxbX",
        "colab_type": "code",
        "colab": {
          "base_uri": "https://localhost:8080/",
          "height": 680
        },
        "outputId": "410335b8-579f-47bd-b209-4dd8ec3dfb41"
      },
      "source": [
        "!git status\n",
        "!git pull origin master\n",
        "!git add -A\n",
        "!git commit -am \"push cnn-1000-k-2-m-005 results to github\"\n",
        "!git push origin master"
      ],
      "execution_count": null,
      "outputs": [
        {
          "output_type": "stream",
          "text": [
            "On branch master\n",
            "Untracked files:\n",
            "  (use \"git add <file>...\" to include in what will be committed)\n",
            "\n",
            "\t\u001b[31mmodels/summary/plot_prediction_fa6f46_ConvolutionModel.png\u001b[m\n",
            "\t\u001b[31mmodels/summary/plot_training_fa6f46_ConvolutionModel.png\u001b[m\n",
            "\t\u001b[31mmodels/weights/json/config_fa6f46_ConvolutionModel.json\u001b[m\n",
            "\t\u001b[31mmodels/weights/json/config_fa6f46_ConvolutionModel_best.json\u001b[m\n",
            "\t\u001b[31mmodels/weights/weights_epoch_fa6f46_ConvolutionModel.h5\u001b[m\n",
            "\t\u001b[31mmodels/weights/weights_epoch_fa6f46_ConvolutionModel_aux.h5\u001b[m\n",
            "\t\u001b[31mmodels/weights/weights_epoch_fa6f46_ConvolutionModel_best.h5\u001b[m\n",
            "\t\u001b[31moutput/conf_list_fa6f46.txt\u001b[m\n",
            "\t\u001b[31moutput/training/cnn-1000-k-2-m-005-out.txt\u001b[m\n",
            "\t\u001b[31mplots/fa6f46_ConvolutionModel_plot.png\u001b[m\n",
            "\n",
            "nothing added to commit but untracked files present (use \"git add\" to track)\n",
            "From https://github.com/mrezende/concra\n",
            " * branch            master     -> FETCH_HEAD\n",
            "Already up to date.\n",
            "[master 48bfd71] push cnn-1000-k-2-m-005 results to github\n",
            " 10 files changed, 3693 insertions(+)\n",
            " create mode 100644 models/summary/plot_prediction_fa6f46_ConvolutionModel.png\n",
            " create mode 100644 models/summary/plot_training_fa6f46_ConvolutionModel.png\n",
            " create mode 100644 models/weights/json/config_fa6f46_ConvolutionModel.json\n",
            " create mode 100644 models/weights/json/config_fa6f46_ConvolutionModel_best.json\n",
            " create mode 100644 models/weights/weights_epoch_fa6f46_ConvolutionModel.h5\n",
            " create mode 100644 models/weights/weights_epoch_fa6f46_ConvolutionModel_aux.h5\n",
            " create mode 100644 models/weights/weights_epoch_fa6f46_ConvolutionModel_best.h5\n",
            " create mode 100644 output/conf_list_fa6f46.txt\n",
            " create mode 100644 output/training/cnn-1000-k-2-m-005-out.txt\n",
            " create mode 100644 plots/fa6f46_ConvolutionModel_plot.png\n",
            "Counting objects: 15, done.\n",
            "Delta compression using up to 4 threads.\n",
            "Compressing objects: 100% (15/15), done.\n",
            "Writing objects: 100% (15/15), 39.11 MiB | 1.74 MiB/s, done.\n",
            "Total 15 (delta 9), reused 0 (delta 0)\n",
            "remote: Resolving deltas: 100% (9/9), completed with 7 local objects.\u001b[K\n",
            "To https://github.com/mrezende/concra.git\n",
            "   a480edd..48bfd71  master -> master\n"
          ],
          "name": "stdout"
        }
      ]
    },
    {
      "cell_type": "code",
      "metadata": {
        "id": "XXm0EP23xZJn",
        "colab_type": "code",
        "colab": {}
      },
      "source": [
        "!python3 stack_over_flow_qa_eval.py --model cnn --conf_file conf/stack_over_flow_conf_f_1000_k_2_m_01.json &> output/training/cnn-1000-k-2-m-01-out.txt &"
      ],
      "execution_count": null,
      "outputs": []
    },
    {
      "cell_type": "code",
      "metadata": {
        "id": "e8P_KEyAxY_L",
        "colab_type": "code",
        "colab": {
          "base_uri": "https://localhost:8080/",
          "height": 1000
        },
        "outputId": "912e6258-1253-4874-de62-f8d046b7ccfd"
      },
      "source": [
        "!while ! grep \"<Figure\" output/training/cnn-1000-k-2-m-01-out.txt;do tail -n 30 output/training/cnn-1000-k-2-m-01-out.txt; sleep 10;done"
      ],
      "execution_count": null,
      "outputs": []
    },
    {
      "cell_type": "code",
      "metadata": {
        "id": "0F2s7VOnxY2N",
        "colab_type": "code",
        "colab": {
          "base_uri": "https://localhost:8080/",
          "height": 680
        },
        "outputId": "8d478246-d2d2-470f-86a5-d0fe09124e61"
      },
      "source": [
        "!git status\n",
        "!git pull origin master\n",
        "!git add -A\n",
        "!git commit -am \"push cnn-1000-k-2-m-01 results to github\"\n",
        "!git push origin master"
      ],
      "execution_count": null,
      "outputs": [
        {
          "output_type": "stream",
          "text": [
            "On branch master\n",
            "Untracked files:\n",
            "  (use \"git add <file>...\" to include in what will be committed)\n",
            "\n",
            "\t\u001b[31mmodels/summary/plot_prediction_2af0e3_ConvolutionModel.png\u001b[m\n",
            "\t\u001b[31mmodels/summary/plot_training_2af0e3_ConvolutionModel.png\u001b[m\n",
            "\t\u001b[31mmodels/weights/json/config_2af0e3_ConvolutionModel.json\u001b[m\n",
            "\t\u001b[31mmodels/weights/json/config_2af0e3_ConvolutionModel_best.json\u001b[m\n",
            "\t\u001b[31mmodels/weights/weights_epoch_2af0e3_ConvolutionModel.h5\u001b[m\n",
            "\t\u001b[31mmodels/weights/weights_epoch_2af0e3_ConvolutionModel_aux.h5\u001b[m\n",
            "\t\u001b[31mmodels/weights/weights_epoch_2af0e3_ConvolutionModel_best.h5\u001b[m\n",
            "\t\u001b[31moutput/conf_list_2af0e3.txt\u001b[m\n",
            "\t\u001b[31moutput/training/cnn-1000-k-2-m-01-out.txt\u001b[m\n",
            "\t\u001b[31mplots/2af0e3_ConvolutionModel_plot.png\u001b[m\n",
            "\n",
            "nothing added to commit but untracked files present (use \"git add\" to track)\n",
            "From https://github.com/mrezende/concra\n",
            " * branch            master     -> FETCH_HEAD\n",
            "Already up to date.\n",
            "[master 9330a0d] push cnn-1000-k-2-m-01 results to github\n",
            " 10 files changed, 3695 insertions(+)\n",
            " create mode 100644 models/summary/plot_prediction_2af0e3_ConvolutionModel.png\n",
            " create mode 100644 models/summary/plot_training_2af0e3_ConvolutionModel.png\n",
            " create mode 100644 models/weights/json/config_2af0e3_ConvolutionModel.json\n",
            " create mode 100644 models/weights/json/config_2af0e3_ConvolutionModel_best.json\n",
            " create mode 100644 models/weights/weights_epoch_2af0e3_ConvolutionModel.h5\n",
            " create mode 100644 models/weights/weights_epoch_2af0e3_ConvolutionModel_aux.h5\n",
            " create mode 100644 models/weights/weights_epoch_2af0e3_ConvolutionModel_best.h5\n",
            " create mode 100644 output/conf_list_2af0e3.txt\n",
            " create mode 100644 output/training/cnn-1000-k-2-m-01-out.txt\n",
            " create mode 100644 plots/2af0e3_ConvolutionModel_plot.png\n",
            "Counting objects: 15, done.\n",
            "Delta compression using up to 4 threads.\n",
            "Compressing objects: 100% (15/15), done.\n",
            "Writing objects: 100% (15/15), 39.47 MiB | 1.77 MiB/s, done.\n",
            "Total 15 (delta 9), reused 0 (delta 0)\n",
            "remote: Resolving deltas: 100% (9/9), completed with 7 local objects.\u001b[K\n",
            "To https://github.com/mrezende/concra.git\n",
            "   48bfd71..9330a0d  master -> master\n"
          ],
          "name": "stdout"
        }
      ]
    },
    {
      "cell_type": "code",
      "metadata": {
        "id": "4LQ7RZVsxYpc",
        "colab_type": "code",
        "colab": {}
      },
      "source": [
        "!python3 stack_over_flow_qa_eval.py --model cnn --conf_file conf/stack_over_flow_conf_f_1000_k_2_m_02.json &> output/training/cnn-1000-k-2-m-02-out.txt &"
      ],
      "execution_count": null,
      "outputs": []
    },
    {
      "cell_type": "code",
      "metadata": {
        "id": "Y3DnLyQZxYfr",
        "colab_type": "code",
        "colab": {
          "base_uri": "https://localhost:8080/",
          "height": 1000
        },
        "outputId": "72eae559-a32d-4b2a-917b-f5bc1f0f2f3b"
      },
      "source": [
        "!while ! grep \"<Figure\" output/training/cnn-1000-k-2-m-02-out.txt;do tail -n 30 output/training/cnn-1000-k-2-m-02-out.txt; sleep 10;done"
      ],
      "execution_count": null,
      "outputs": []
    },
    {
      "cell_type": "code",
      "metadata": {
        "id": "hcPwK4Y2xYWp",
        "colab_type": "code",
        "colab": {
          "base_uri": "https://localhost:8080/",
          "height": 680
        },
        "outputId": "747f8856-a097-43db-d45d-b65251b018b1"
      },
      "source": [
        "!git status\n",
        "!git pull origin master\n",
        "!git add -A\n",
        "!git commit -am \"push cnn-1000-k-2-m-02 results to github\"\n",
        "!git push origin master"
      ],
      "execution_count": null,
      "outputs": [
        {
          "output_type": "stream",
          "text": [
            "On branch master\n",
            "Untracked files:\n",
            "  (use \"git add <file>...\" to include in what will be committed)\n",
            "\n",
            "\t\u001b[31mmodels/summary/plot_prediction_4de9b3_ConvolutionModel.png\u001b[m\n",
            "\t\u001b[31mmodels/summary/plot_training_4de9b3_ConvolutionModel.png\u001b[m\n",
            "\t\u001b[31mmodels/weights/json/config_4de9b3_ConvolutionModel.json\u001b[m\n",
            "\t\u001b[31mmodels/weights/json/config_4de9b3_ConvolutionModel_best.json\u001b[m\n",
            "\t\u001b[31mmodels/weights/weights_epoch_4de9b3_ConvolutionModel.h5\u001b[m\n",
            "\t\u001b[31mmodels/weights/weights_epoch_4de9b3_ConvolutionModel_aux.h5\u001b[m\n",
            "\t\u001b[31mmodels/weights/weights_epoch_4de9b3_ConvolutionModel_best.h5\u001b[m\n",
            "\t\u001b[31moutput/conf_list_4de9b3.txt\u001b[m\n",
            "\t\u001b[31moutput/training/cnn-1000-k-2-m-02-out.txt\u001b[m\n",
            "\t\u001b[31mplots/4de9b3_ConvolutionModel_plot.png\u001b[m\n",
            "\n",
            "nothing added to commit but untracked files present (use \"git add\" to track)\n",
            "From https://github.com/mrezende/concra\n",
            " * branch            master     -> FETCH_HEAD\n",
            "Already up to date.\n",
            "[master 44e21ca] push cnn-1000-k-2-m-02 results to github\n",
            " 10 files changed, 2813 insertions(+)\n",
            " create mode 100644 models/summary/plot_prediction_4de9b3_ConvolutionModel.png\n",
            " create mode 100644 models/summary/plot_training_4de9b3_ConvolutionModel.png\n",
            " create mode 100644 models/weights/json/config_4de9b3_ConvolutionModel.json\n",
            " create mode 100644 models/weights/json/config_4de9b3_ConvolutionModel_best.json\n",
            " create mode 100644 models/weights/weights_epoch_4de9b3_ConvolutionModel.h5\n",
            " create mode 100644 models/weights/weights_epoch_4de9b3_ConvolutionModel_aux.h5\n",
            " create mode 100644 models/weights/weights_epoch_4de9b3_ConvolutionModel_best.h5\n",
            " create mode 100644 output/conf_list_4de9b3.txt\n",
            " create mode 100644 output/training/cnn-1000-k-2-m-02-out.txt\n",
            " create mode 100644 plots/4de9b3_ConvolutionModel_plot.png\n",
            "Counting objects: 15, done.\n",
            "Delta compression using up to 4 threads.\n",
            "Compressing objects: 100% (15/15), done.\n",
            "Writing objects: 100% (15/15), 39.73 MiB | 4.48 MiB/s, done.\n",
            "Total 15 (delta 9), reused 0 (delta 0)\n",
            "remote: Resolving deltas: 100% (9/9), completed with 7 local objects.\u001b[K\n",
            "To https://github.com/mrezende/concra.git\n",
            "   9330a0d..44e21ca  master -> master\n"
          ],
          "name": "stdout"
        }
      ]
    },
    {
      "cell_type": "code",
      "metadata": {
        "id": "0McgCDLhxYKg",
        "colab_type": "code",
        "colab": {}
      },
      "source": [
        "!python3 stack_over_flow_qa_eval.py --model cnn --conf_file conf/stack_over_flow_conf_f_1000_k_3.json &> output/training/cnn-1000-k-3-out.txt &"
      ],
      "execution_count": null,
      "outputs": []
    },
    {
      "cell_type": "code",
      "metadata": {
        "id": "VhP05h6hxYAr",
        "colab_type": "code",
        "colab": {
          "base_uri": "https://localhost:8080/",
          "height": 1000
        },
        "outputId": "2e826e42-99bc-451b-a064-0d6be251fe9f"
      },
      "source": [
        "!while ! grep \"<Figure\" output/training/cnn-1000-k-3-out.txt;do tail -n 30 output/training/cnn-1000-k-3-out.txt; sleep 10;done"
      ],
      "execution_count": null,
      "outputs": []
    },
    {
      "cell_type": "code",
      "metadata": {
        "id": "rrEl4GoOxX0q",
        "colab_type": "code",
        "colab": {
          "base_uri": "https://localhost:8080/",
          "height": 680
        },
        "outputId": "f1cd30ae-1f66-40a1-8475-9c7ff7066649"
      },
      "source": [
        "!git status\n",
        "!git pull origin master\n",
        "!git add -A\n",
        "!git commit -am \"push cnn-1000-k-3 results to github\"\n",
        "!git push origin master"
      ],
      "execution_count": null,
      "outputs": [
        {
          "output_type": "stream",
          "text": [
            "On branch master\n",
            "Untracked files:\n",
            "  (use \"git add <file>...\" to include in what will be committed)\n",
            "\n",
            "\t\u001b[31mmodels/summary/plot_prediction_539a21_ConvolutionModel.png\u001b[m\n",
            "\t\u001b[31mmodels/summary/plot_training_539a21_ConvolutionModel.png\u001b[m\n",
            "\t\u001b[31mmodels/weights/json/config_539a21_ConvolutionModel.json\u001b[m\n",
            "\t\u001b[31mmodels/weights/json/config_539a21_ConvolutionModel_best.json\u001b[m\n",
            "\t\u001b[31mmodels/weights/weights_epoch_539a21_ConvolutionModel.h5\u001b[m\n",
            "\t\u001b[31mmodels/weights/weights_epoch_539a21_ConvolutionModel_aux.h5\u001b[m\n",
            "\t\u001b[31mmodels/weights/weights_epoch_539a21_ConvolutionModel_best.h5\u001b[m\n",
            "\t\u001b[31moutput/conf_list_539a21.txt\u001b[m\n",
            "\t\u001b[31moutput/training/cnn-1000-k-3-out.txt\u001b[m\n",
            "\t\u001b[31mplots/539a21_ConvolutionModel_plot.png\u001b[m\n",
            "\n",
            "nothing added to commit but untracked files present (use \"git add\" to track)\n",
            "From https://github.com/mrezende/concra\n",
            " * branch            master     -> FETCH_HEAD\n",
            "Already up to date.\n",
            "[master 554856f] push cnn-1000-k-3 results to github\n",
            " 10 files changed, 3081 insertions(+)\n",
            " create mode 100644 models/summary/plot_prediction_539a21_ConvolutionModel.png\n",
            " create mode 100644 models/summary/plot_training_539a21_ConvolutionModel.png\n",
            " create mode 100644 models/weights/json/config_539a21_ConvolutionModel.json\n",
            " create mode 100644 models/weights/json/config_539a21_ConvolutionModel_best.json\n",
            " create mode 100644 models/weights/weights_epoch_539a21_ConvolutionModel.h5\n",
            " create mode 100644 models/weights/weights_epoch_539a21_ConvolutionModel_aux.h5\n",
            " create mode 100644 models/weights/weights_epoch_539a21_ConvolutionModel_best.h5\n",
            " create mode 100644 output/conf_list_539a21.txt\n",
            " create mode 100644 output/training/cnn-1000-k-3-out.txt\n",
            " create mode 100644 plots/539a21_ConvolutionModel_plot.png\n",
            "Counting objects: 18, done.\n",
            "Delta compression using up to 4 threads.\n",
            "Compressing objects: 100% (18/18), done.\n",
            "Writing objects: 100% (18/18), 37.42 MiB | 4.27 MiB/s, done.\n",
            "Total 18 (delta 9), reused 0 (delta 0)\n",
            "remote: Resolving deltas: 100% (9/9), completed with 7 local objects.\u001b[K\n",
            "To https://github.com/mrezende/concra.git\n",
            "   44e21ca..554856f  master -> master\n"
          ],
          "name": "stdout"
        }
      ]
    },
    {
      "cell_type": "code",
      "metadata": {
        "id": "6TKZeWgQxJAf",
        "colab_type": "code",
        "colab": {}
      },
      "source": [
        "!python3 stack_over_flow_qa_eval.py --model cnn --conf_file conf/stack_over_flow_conf_f_1000_k_4.json &> output/training/cnn-1000-k-4-out.txt &"
      ],
      "execution_count": null,
      "outputs": []
    },
    {
      "cell_type": "code",
      "metadata": {
        "id": "u2gvaAQmxI19",
        "colab_type": "code",
        "colab": {
          "base_uri": "https://localhost:8080/",
          "height": 1000
        },
        "outputId": "c4ccf201-53c5-4e1c-9e48-6fa9a07f11c8"
      },
      "source": [
        "!while ! grep \"<Figure\" output/training/cnn-1000-k-4-out.txt;do tail -n 30 output/training/cnn-1000-k-4-out.txt; sleep 10;done"
      ],
      "execution_count": null,
      "outputs": []
    },
    {
      "cell_type": "code",
      "metadata": {
        "id": "qKVbAR9zxIrG",
        "colab_type": "code",
        "colab": {
          "base_uri": "https://localhost:8080/",
          "height": 680
        },
        "outputId": "bb7323bc-87ed-4155-a252-16111e965668"
      },
      "source": [
        "!git status\n",
        "!git pull origin master\n",
        "!git add -A\n",
        "!git commit -am \"push cnn-1000-k-4 results to github\"\n",
        "!git push origin master"
      ],
      "execution_count": null,
      "outputs": [
        {
          "output_type": "stream",
          "text": [
            "On branch master\n",
            "Untracked files:\n",
            "  (use \"git add <file>...\" to include in what will be committed)\n",
            "\n",
            "\t\u001b[31mmodels/summary/plot_prediction_0ff5dc_ConvolutionModel.png\u001b[m\n",
            "\t\u001b[31mmodels/summary/plot_training_0ff5dc_ConvolutionModel.png\u001b[m\n",
            "\t\u001b[31mmodels/weights/json/config_0ff5dc_ConvolutionModel.json\u001b[m\n",
            "\t\u001b[31mmodels/weights/json/config_0ff5dc_ConvolutionModel_best.json\u001b[m\n",
            "\t\u001b[31mmodels/weights/weights_epoch_0ff5dc_ConvolutionModel.h5\u001b[m\n",
            "\t\u001b[31mmodels/weights/weights_epoch_0ff5dc_ConvolutionModel_aux.h5\u001b[m\n",
            "\t\u001b[31mmodels/weights/weights_epoch_0ff5dc_ConvolutionModel_best.h5\u001b[m\n",
            "\t\u001b[31moutput/conf_list_0ff5dc.txt\u001b[m\n",
            "\t\u001b[31moutput/training/cnn-1000-k-4-out.txt\u001b[m\n",
            "\t\u001b[31mplots/0ff5dc_ConvolutionModel_plot.png\u001b[m\n",
            "\n",
            "nothing added to commit but untracked files present (use \"git add\" to track)\n",
            "From https://github.com/mrezende/concra\n",
            " * branch            master     -> FETCH_HEAD\n",
            "Already up to date.\n",
            "[master 5a51a34] push cnn-1000-k-4 results to github\n",
            " 10 files changed, 4557 insertions(+)\n",
            " create mode 100644 models/summary/plot_prediction_0ff5dc_ConvolutionModel.png\n",
            " create mode 100644 models/summary/plot_training_0ff5dc_ConvolutionModel.png\n",
            " create mode 100644 models/weights/json/config_0ff5dc_ConvolutionModel.json\n",
            " create mode 100644 models/weights/json/config_0ff5dc_ConvolutionModel_best.json\n",
            " create mode 100644 models/weights/weights_epoch_0ff5dc_ConvolutionModel.h5\n",
            " create mode 100644 models/weights/weights_epoch_0ff5dc_ConvolutionModel_aux.h5\n",
            " create mode 100644 models/weights/weights_epoch_0ff5dc_ConvolutionModel_best.h5\n",
            " create mode 100644 output/conf_list_0ff5dc.txt\n",
            " create mode 100644 output/training/cnn-1000-k-4-out.txt\n",
            " create mode 100644 plots/0ff5dc_ConvolutionModel_plot.png\n",
            "Counting objects: 18, done.\n",
            "Delta compression using up to 4 threads.\n",
            "Compressing objects: 100% (18/18), done.\n",
            "Writing objects: 100% (18/18), 39.68 MiB | 4.67 MiB/s, done.\n",
            "Total 18 (delta 9), reused 0 (delta 0)\n",
            "remote: Resolving deltas: 100% (9/9), completed with 7 local objects.\u001b[K\n",
            "To https://github.com/mrezende/concra.git\n",
            "   554856f..5a51a34  master -> master\n"
          ],
          "name": "stdout"
        }
      ]
    },
    {
      "cell_type": "code",
      "metadata": {
        "id": "KvCVb9gLxIeL",
        "colab_type": "code",
        "colab": {}
      },
      "source": [
        "!python3 stack_over_flow_qa_eval.py --model cnn --conf_file conf/stack_over_flow_conf_f_2000.json &> output/training/cnn-2000-out.txt &"
      ],
      "execution_count": null,
      "outputs": []
    },
    {
      "cell_type": "code",
      "metadata": {
        "id": "qGuRx17UxITy",
        "colab_type": "code",
        "colab": {
          "base_uri": "https://localhost:8080/",
          "height": 1000
        },
        "outputId": "1473bf7a-486e-4361-9e06-114056cb897d"
      },
      "source": [
        "!while ! grep \"<Figure\" output/training/cnn-2000-out.txt;do tail -n 30 output/training/cnn-2000-out.txt; sleep 10;done"
      ],
      "execution_count": null,
      "outputs": []
    },
    {
      "cell_type": "code",
      "metadata": {
        "id": "ctEriOPxxIKV",
        "colab_type": "code",
        "colab": {
          "base_uri": "https://localhost:8080/",
          "height": 765
        },
        "outputId": "2f1670cd-c6da-46e2-fc95-e8e0981bf19e"
      },
      "source": [
        "!git status\n",
        "!git pull origin master\n",
        "!git add -A\n",
        "!git commit -am \"push cnn-2000 results to github\"\n",
        "!git push origin master"
      ],
      "execution_count": null,
      "outputs": [
        {
          "output_type": "stream",
          "text": [
            "On branch master\n",
            "Untracked files:\n",
            "  (use \"git add <file>...\" to include in what will be committed)\n",
            "\n",
            "\t\u001b[31mmodels/summary/plot_prediction_b8d24f_ConvolutionModel.png\u001b[m\n",
            "\t\u001b[31mmodels/summary/plot_training_b8d24f_ConvolutionModel.png\u001b[m\n",
            "\t\u001b[31mmodels/weights/json/config_b8d24f_ConvolutionModel.json\u001b[m\n",
            "\t\u001b[31mmodels/weights/json/config_b8d24f_ConvolutionModel_best.json\u001b[m\n",
            "\t\u001b[31mmodels/weights/weights_epoch_b8d24f_ConvolutionModel.h5\u001b[m\n",
            "\t\u001b[31mmodels/weights/weights_epoch_b8d24f_ConvolutionModel_aux.h5\u001b[m\n",
            "\t\u001b[31mmodels/weights/weights_epoch_b8d24f_ConvolutionModel_best.h5\u001b[m\n",
            "\t\u001b[31moutput/conf_list_b8d24f.txt\u001b[m\n",
            "\t\u001b[31moutput/training/cnn-2000-out.txt\u001b[m\n",
            "\t\u001b[31mplots/b8d24f_ConvolutionModel_plot.png\u001b[m\n",
            "\n",
            "nothing added to commit but untracked files present (use \"git add\" to track)\n",
            "From https://github.com/mrezende/concra\n",
            " * branch            master     -> FETCH_HEAD\n",
            "Already up to date.\n",
            "[master f19d992] push cnn-2000 results to github\n",
            " 10 files changed, 3943 insertions(+)\n",
            " create mode 100644 models/summary/plot_prediction_b8d24f_ConvolutionModel.png\n",
            " create mode 100644 models/summary/plot_training_b8d24f_ConvolutionModel.png\n",
            " create mode 100644 models/weights/json/config_b8d24f_ConvolutionModel.json\n",
            " create mode 100644 models/weights/json/config_b8d24f_ConvolutionModel_best.json\n",
            " create mode 100644 models/weights/weights_epoch_b8d24f_ConvolutionModel.h5\n",
            " create mode 100644 models/weights/weights_epoch_b8d24f_ConvolutionModel_aux.h5\n",
            " create mode 100644 models/weights/weights_epoch_b8d24f_ConvolutionModel_best.h5\n",
            " create mode 100644 output/conf_list_b8d24f.txt\n",
            " create mode 100644 output/training/cnn-2000-out.txt\n",
            " create mode 100644 plots/b8d24f_ConvolutionModel_plot.png\n",
            "Counting objects: 18, done.\n",
            "Delta compression using up to 4 threads.\n",
            "Compressing objects: 100% (18/18), done.\n",
            "Writing objects: 100% (18/18), 79.49 MiB | 2.88 MiB/s, done.\n",
            "Total 18 (delta 8), reused 0 (delta 0)\n",
            "remote: Resolving deltas: 100% (8/8), completed with 7 local objects.\u001b[K\n",
            "remote: warning: GH001: Large files detected. You may want to try Git Large File Storage - https://git-lfs.github.com.\u001b[K\n",
            "remote: warning: See http://git.io/iEPt8g for more information.\u001b[K\n",
            "remote: warning: File models/weights/weights_epoch_b8d24f_ConvolutionModel_best.h5 is 52.57 MB; this is larger than GitHub's recommended maximum file size of 50.00 MB\u001b[K\n",
            "remote: warning: File models/weights/weights_epoch_b8d24f_ConvolutionModel_aux.h5 is 52.57 MB; this is larger than GitHub's recommended maximum file size of 50.00 MB\u001b[K\n",
            "remote: warning: File models/weights/weights_epoch_b8d24f_ConvolutionModel.h5 is 52.57 MB; this is larger than GitHub's recommended maximum file size of 50.00 MB\u001b[K\n",
            "To https://github.com/mrezende/concra.git\n",
            "   5a51a34..f19d992  master -> master\n"
          ],
          "name": "stdout"
        }
      ]
    },
    {
      "cell_type": "code",
      "metadata": {
        "id": "6XlYR9m0xHyq",
        "colab_type": "code",
        "colab": {}
      },
      "source": [
        "!python3 stack_over_flow_qa_eval.py --model cnn --conf_file conf/stack_over_flow_conf_f_2000_k_2.json &> output/training/cnn-2000-k-2-out.txt &"
      ],
      "execution_count": null,
      "outputs": []
    },
    {
      "cell_type": "code",
      "metadata": {
        "id": "wc7WJXXwxHoD",
        "colab_type": "code",
        "colab": {
          "base_uri": "https://localhost:8080/",
          "height": 1000
        },
        "outputId": "32d83839-d634-45ab-ec57-b1f9adc297a9"
      },
      "source": [
        "!while ! grep \"<Figure\" output/training/cnn-2000-k-2-out.txt;do tail -n 30 output/training/cnn-2000-k-2-out.txt; sleep 10;done"
      ],
      "execution_count": null,
      "outputs": []
    },
    {
      "cell_type": "code",
      "metadata": {
        "id": "wbbbzHIXxHdB",
        "colab_type": "code",
        "colab": {
          "base_uri": "https://localhost:8080/",
          "height": 680
        },
        "outputId": "805a30ec-b6fc-4033-943d-92ed5fa014db"
      },
      "source": [
        "!git status\n",
        "!git pull origin master\n",
        "!git add -A\n",
        "!git commit -am \"push cnn-2000-k-2 results to github\"\n",
        "!git push origin master"
      ],
      "execution_count": null,
      "outputs": [
        {
          "output_type": "stream",
          "text": [
            "On branch master\n",
            "Untracked files:\n",
            "  (use \"git add <file>...\" to include in what will be committed)\n",
            "\n",
            "\t\u001b[31mmodels/summary/plot_prediction_75f501_ConvolutionModel.png\u001b[m\n",
            "\t\u001b[31mmodels/summary/plot_training_75f501_ConvolutionModel.png\u001b[m\n",
            "\t\u001b[31mmodels/weights/json/config_75f501_ConvolutionModel.json\u001b[m\n",
            "\t\u001b[31mmodels/weights/json/config_75f501_ConvolutionModel_best.json\u001b[m\n",
            "\t\u001b[31mmodels/weights/weights_epoch_75f501_ConvolutionModel.h5\u001b[m\n",
            "\t\u001b[31mmodels/weights/weights_epoch_75f501_ConvolutionModel_aux.h5\u001b[m\n",
            "\t\u001b[31mmodels/weights/weights_epoch_75f501_ConvolutionModel_best.h5\u001b[m\n",
            "\t\u001b[31moutput/conf_list_75f501.txt\u001b[m\n",
            "\t\u001b[31moutput/training/cnn-2000-k-2-out.txt\u001b[m\n",
            "\t\u001b[31mplots/75f501_ConvolutionModel_plot.png\u001b[m\n",
            "\n",
            "nothing added to commit but untracked files present (use \"git add\" to track)\n",
            "From https://github.com/mrezende/concra\n",
            " * branch            master     -> FETCH_HEAD\n",
            "Already up to date.\n",
            "[master af72ec5] push cnn-2000-k-2 results to github\n",
            " 10 files changed, 3777 insertions(+)\n",
            " create mode 100644 models/summary/plot_prediction_75f501_ConvolutionModel.png\n",
            " create mode 100644 models/summary/plot_training_75f501_ConvolutionModel.png\n",
            " create mode 100644 models/weights/json/config_75f501_ConvolutionModel.json\n",
            " create mode 100644 models/weights/json/config_75f501_ConvolutionModel_best.json\n",
            " create mode 100644 models/weights/weights_epoch_75f501_ConvolutionModel.h5\n",
            " create mode 100644 models/weights/weights_epoch_75f501_ConvolutionModel_aux.h5\n",
            " create mode 100644 models/weights/weights_epoch_75f501_ConvolutionModel_best.h5\n",
            " create mode 100644 output/conf_list_75f501.txt\n",
            " create mode 100644 output/training/cnn-2000-k-2-out.txt\n",
            " create mode 100644 plots/75f501_ConvolutionModel_plot.png\n",
            "Counting objects: 18, done.\n",
            "Delta compression using up to 4 threads.\n",
            "Compressing objects: 100% (18/18), done.\n",
            "Writing objects: 100% (18/18), 38.28 MiB | 1.74 MiB/s, done.\n",
            "Total 18 (delta 9), reused 0 (delta 0)\n",
            "remote: Resolving deltas: 100% (9/9), completed with 7 local objects.\u001b[K\n",
            "To https://github.com/mrezende/concra.git\n",
            "   f19d992..af72ec5  master -> master\n"
          ],
          "name": "stdout"
        }
      ]
    },
    {
      "cell_type": "code",
      "metadata": {
        "id": "u_BOiJw6w4rv",
        "colab_type": "code",
        "colab": {}
      },
      "source": [
        "!python3 stack_over_flow_qa_eval.py --model cnn --conf_file conf/stack_over_flow_conf_f_2000_k_2_m_005.json &> output/training/cnn-2000-k-2-m-005-out.txt &"
      ],
      "execution_count": null,
      "outputs": []
    },
    {
      "cell_type": "code",
      "metadata": {
        "id": "sh7r3-03w4dd",
        "colab_type": "code",
        "colab": {
          "base_uri": "https://localhost:8080/",
          "height": 1000
        },
        "outputId": "5a55c0c2-1c7e-4533-fd13-7541198aef2a"
      },
      "source": [
        "!while ! grep \"<Figure\" output/training/cnn-2000-k-2-m-005-out.txt;do tail -n 30 output/training/cnn-2000-k-2-m-005-out.txt; sleep 10;done"
      ],
      "execution_count": null,
      "outputs": []
    },
    {
      "cell_type": "code",
      "metadata": {
        "id": "ysVDtwehw4Um",
        "colab_type": "code",
        "colab": {
          "base_uri": "https://localhost:8080/",
          "height": 680
        },
        "outputId": "9376c93b-378a-4a12-b12e-c9491bcaf4b7"
      },
      "source": [
        "!git status\n",
        "!git pull origin master\n",
        "!git add -A\n",
        "!git commit -am \"push cnn-2000-k-2-m-005 results to github\"\n",
        "!git push origin master"
      ],
      "execution_count": null,
      "outputs": [
        {
          "output_type": "stream",
          "text": [
            "On branch master\n",
            "Untracked files:\n",
            "  (use \"git add <file>...\" to include in what will be committed)\n",
            "\n",
            "\t\u001b[31mmodels/summary/plot_prediction_ccdf0f_ConvolutionModel.png\u001b[m\n",
            "\t\u001b[31mmodels/summary/plot_training_ccdf0f_ConvolutionModel.png\u001b[m\n",
            "\t\u001b[31mmodels/weights/json/config_ccdf0f_ConvolutionModel.json\u001b[m\n",
            "\t\u001b[31mmodels/weights/json/config_ccdf0f_ConvolutionModel_best.json\u001b[m\n",
            "\t\u001b[31mmodels/weights/weights_epoch_ccdf0f_ConvolutionModel.h5\u001b[m\n",
            "\t\u001b[31mmodels/weights/weights_epoch_ccdf0f_ConvolutionModel_aux.h5\u001b[m\n",
            "\t\u001b[31mmodels/weights/weights_epoch_ccdf0f_ConvolutionModel_best.h5\u001b[m\n",
            "\t\u001b[31moutput/conf_list_ccdf0f.txt\u001b[m\n",
            "\t\u001b[31moutput/training/cnn-2000-k-2-m-005-out.txt\u001b[m\n",
            "\t\u001b[31mplots/ccdf0f_ConvolutionModel_plot.png\u001b[m\n",
            "\n",
            "nothing added to commit but untracked files present (use \"git add\" to track)\n",
            "From https://github.com/mrezende/concra\n",
            " * branch            master     -> FETCH_HEAD\n",
            "Already up to date.\n",
            "[master 34990d4] push cnn-2000-k-2-m-005 results to github\n",
            " 10 files changed, 2985 insertions(+)\n",
            " create mode 100644 models/summary/plot_prediction_ccdf0f_ConvolutionModel.png\n",
            " create mode 100644 models/summary/plot_training_ccdf0f_ConvolutionModel.png\n",
            " create mode 100644 models/weights/json/config_ccdf0f_ConvolutionModel.json\n",
            " create mode 100644 models/weights/json/config_ccdf0f_ConvolutionModel_best.json\n",
            " create mode 100644 models/weights/weights_epoch_ccdf0f_ConvolutionModel.h5\n",
            " create mode 100644 models/weights/weights_epoch_ccdf0f_ConvolutionModel_aux.h5\n",
            " create mode 100644 models/weights/weights_epoch_ccdf0f_ConvolutionModel_best.h5\n",
            " create mode 100644 output/conf_list_ccdf0f.txt\n",
            " create mode 100644 output/training/cnn-2000-k-2-m-005-out.txt\n",
            " create mode 100644 plots/ccdf0f_ConvolutionModel_plot.png\n",
            "Counting objects: 15, done.\n",
            "Delta compression using up to 4 threads.\n",
            "Compressing objects: 100% (15/15), done.\n",
            "Writing objects: 100% (15/15), 42.31 MiB | 1.60 MiB/s, done.\n",
            "Total 15 (delta 9), reused 0 (delta 0)\n",
            "remote: Resolving deltas: 100% (9/9), completed with 7 local objects.\u001b[K\n",
            "To https://github.com/mrezende/concra.git\n",
            "   af72ec5..34990d4  master -> master\n"
          ],
          "name": "stdout"
        }
      ]
    },
    {
      "cell_type": "code",
      "metadata": {
        "id": "n1RxtH0lw4Et",
        "colab_type": "code",
        "colab": {}
      },
      "source": [
        "!python3 stack_over_flow_qa_eval.py --model cnn --conf_file conf/stack_over_flow_conf_f_2000_k_2_m_01.json &> output/training/cnn-2000-k-2-m-01-out.txt &"
      ],
      "execution_count": null,
      "outputs": []
    },
    {
      "cell_type": "code",
      "metadata": {
        "id": "QKSl2g8Yw37u",
        "colab_type": "code",
        "colab": {
          "base_uri": "https://localhost:8080/",
          "height": 1000
        },
        "outputId": "29f3445c-09dc-4de0-ea74-21be03c751c9"
      },
      "source": [
        "!while ! grep \"<Figure\" output/training/cnn-2000-k-2-m-01-out.txt;do tail -n 30 output/training/cnn-2000-k-2-m-01-out.txt; sleep 10;done"
      ],
      "execution_count": null,
      "outputs": []
    },
    {
      "cell_type": "code",
      "metadata": {
        "id": "rtKqrvU_w3za",
        "colab_type": "code",
        "colab": {
          "base_uri": "https://localhost:8080/",
          "height": 697
        },
        "outputId": "f246f78b-94b0-42bc-cc1b-05c814fa9760"
      },
      "source": [
        "!git status\n",
        "!git pull origin master\n",
        "!git add -A\n",
        "!git commit -am \"push cnn-2000-k-2-m-01 results to github\"\n",
        "!git push origin master"
      ],
      "execution_count": null,
      "outputs": [
        {
          "output_type": "stream",
          "text": [
            "On branch master\n",
            "Untracked files:\n",
            "  (use \"git add <file>...\" to include in what will be committed)\n",
            "\n",
            "\t\u001b[31mmodels/summary/plot_prediction_452b42_ConvolutionModel.png\u001b[m\n",
            "\t\u001b[31mmodels/summary/plot_training_452b42_ConvolutionModel.png\u001b[m\n",
            "\t\u001b[31mmodels/weights/json/config_452b42_ConvolutionModel.json\u001b[m\n",
            "\t\u001b[31mmodels/weights/json/config_452b42_ConvolutionModel_best.json\u001b[m\n",
            "\t\u001b[31mmodels/weights/weights_epoch_452b42_ConvolutionModel.h5\u001b[m\n",
            "\t\u001b[31mmodels/weights/weights_epoch_452b42_ConvolutionModel_aux.h5\u001b[m\n",
            "\t\u001b[31mmodels/weights/weights_epoch_452b42_ConvolutionModel_best.h5\u001b[m\n",
            "\t\u001b[31moutput/conf_list_452b42.txt\u001b[m\n",
            "\t\u001b[31moutput/training/cnn-2000-k-2-m-01-out.txt\u001b[m\n",
            "\t\u001b[31mplots/452b42_ConvolutionModel_plot.png\u001b[m\n",
            "\n",
            "nothing added to commit but untracked files present (use \"git add\" to track)\n",
            "From https://github.com/mrezende/concra\n",
            " * branch            master     -> FETCH_HEAD\n",
            " * [new branch]      master     -> origin/master\n",
            "Already up to date.\n",
            "[master 51459d0] push cnn-2000-k-2-m-01 results to github\n",
            " 10 files changed, 3343 insertions(+)\n",
            " create mode 100644 models/summary/plot_prediction_452b42_ConvolutionModel.png\n",
            " create mode 100644 models/summary/plot_training_452b42_ConvolutionModel.png\n",
            " create mode 100644 models/weights/json/config_452b42_ConvolutionModel.json\n",
            " create mode 100644 models/weights/json/config_452b42_ConvolutionModel_best.json\n",
            " create mode 100644 models/weights/weights_epoch_452b42_ConvolutionModel.h5\n",
            " create mode 100644 models/weights/weights_epoch_452b42_ConvolutionModel_aux.h5\n",
            " create mode 100644 models/weights/weights_epoch_452b42_ConvolutionModel_best.h5\n",
            " create mode 100644 output/conf_list_452b42.txt\n",
            " create mode 100644 output/training/cnn-2000-k-2-m-01-out.txt\n",
            " create mode 100644 plots/452b42_ConvolutionModel_plot.png\n",
            "Counting objects: 16, done.\n",
            "Delta compression using up to 4 threads.\n",
            "Compressing objects: 100% (16/16), done.\n",
            "Writing objects: 100% (16/16), 48.70 MiB | 2.08 MiB/s, done.\n",
            "Total 16 (delta 8), reused 0 (delta 0)\n",
            "remote: Resolving deltas: 100% (8/8), completed with 7 local objects.\u001b[K\n",
            "To https://github.com/mrezende/concra.git\n",
            "   34990d4..51459d0  master -> master\n"
          ],
          "name": "stdout"
        }
      ]
    },
    {
      "cell_type": "code",
      "metadata": {
        "id": "6MkCRspaw3nk",
        "colab_type": "code",
        "colab": {}
      },
      "source": [
        "!python3 stack_over_flow_qa_eval.py --model cnn --conf_file conf/stack_over_flow_conf_f_2000_k_2_m_02.json &> output/training/cnn-2000-k-2-m-02-out.txt &"
      ],
      "execution_count": null,
      "outputs": []
    },
    {
      "cell_type": "code",
      "metadata": {
        "id": "A8bU_2Ulw3eT",
        "colab_type": "code",
        "colab": {
          "base_uri": "https://localhost:8080/",
          "height": 1000
        },
        "outputId": "134581b4-8e81-4242-f4ee-bcca35d60e4a"
      },
      "source": [
        "!while ! grep \"<Figure\" output/training/cnn-2000-k-2-m-02-out.txt;do tail -n 30 output/training/cnn-2000-k-2-m-02-out.txt; sleep 10;done"
      ],
      "execution_count": null,
      "outputs": []
    },
    {
      "cell_type": "code",
      "metadata": {
        "id": "JVWJeKgAw3VN",
        "colab_type": "code",
        "colab": {
          "base_uri": "https://localhost:8080/",
          "height": 680
        },
        "outputId": "dd31a040-6433-4c77-ac7e-f247b83aafc5"
      },
      "source": [
        "!git status\n",
        "!git pull origin master\n",
        "!git add -A\n",
        "!git commit -am \"push cnn-2000-k-2-m-02 results to github\"\n",
        "!git push origin master"
      ],
      "execution_count": null,
      "outputs": [
        {
          "output_type": "stream",
          "text": [
            "On branch master\n",
            "Untracked files:\n",
            "  (use \"git add <file>...\" to include in what will be committed)\n",
            "\n",
            "\t\u001b[31mmodels/summary/plot_prediction_c790da_ConvolutionModel.png\u001b[m\n",
            "\t\u001b[31mmodels/summary/plot_training_c790da_ConvolutionModel.png\u001b[m\n",
            "\t\u001b[31mmodels/weights/json/config_c790da_ConvolutionModel.json\u001b[m\n",
            "\t\u001b[31mmodels/weights/json/config_c790da_ConvolutionModel_best.json\u001b[m\n",
            "\t\u001b[31mmodels/weights/weights_epoch_c790da_ConvolutionModel.h5\u001b[m\n",
            "\t\u001b[31mmodels/weights/weights_epoch_c790da_ConvolutionModel_aux.h5\u001b[m\n",
            "\t\u001b[31mmodels/weights/weights_epoch_c790da_ConvolutionModel_best.h5\u001b[m\n",
            "\t\u001b[31moutput/conf_list_c790da.txt\u001b[m\n",
            "\t\u001b[31moutput/training/cnn-2000-k-2-m-02-out.txt\u001b[m\n",
            "\t\u001b[31mplots/c790da_ConvolutionModel_plot.png\u001b[m\n",
            "\n",
            "nothing added to commit but untracked files present (use \"git add\" to track)\n",
            "From https://github.com/mrezende/concra\n",
            " * branch            master     -> FETCH_HEAD\n",
            "Already up to date.\n",
            "[master ad98a63] push cnn-2000-k-2-m-02 results to github\n",
            " 10 files changed, 2819 insertions(+)\n",
            " create mode 100644 models/summary/plot_prediction_c790da_ConvolutionModel.png\n",
            " create mode 100644 models/summary/plot_training_c790da_ConvolutionModel.png\n",
            " create mode 100644 models/weights/json/config_c790da_ConvolutionModel.json\n",
            " create mode 100644 models/weights/json/config_c790da_ConvolutionModel_best.json\n",
            " create mode 100644 models/weights/weights_epoch_c790da_ConvolutionModel.h5\n",
            " create mode 100644 models/weights/weights_epoch_c790da_ConvolutionModel_aux.h5\n",
            " create mode 100644 models/weights/weights_epoch_c790da_ConvolutionModel_best.h5\n",
            " create mode 100644 output/conf_list_c790da.txt\n",
            " create mode 100644 output/training/cnn-2000-k-2-m-02-out.txt\n",
            " create mode 100644 plots/c790da_ConvolutionModel_plot.png\n",
            "Counting objects: 15, done.\n",
            "Delta compression using up to 4 threads.\n",
            "Compressing objects: 100% (15/15), done.\n",
            "Writing objects: 100% (15/15), 44.68 MiB | 2.01 MiB/s, done.\n",
            "Total 15 (delta 8), reused 0 (delta 0)\n",
            "remote: Resolving deltas: 100% (8/8), completed with 7 local objects.\u001b[K\n",
            "To https://github.com/mrezende/concra.git\n",
            "   51459d0..ad98a63  master -> master\n"
          ],
          "name": "stdout"
        }
      ]
    },
    {
      "cell_type": "code",
      "metadata": {
        "id": "73Y6y3-1wfpy",
        "colab_type": "code",
        "colab": {}
      },
      "source": [
        "!python3 stack_over_flow_qa_eval.py --model cnn --conf_file conf/stack_over_flow_conf_f_2000_k_3.json &> output/training/cnn-2000-k-3-out.txt &"
      ],
      "execution_count": null,
      "outputs": []
    },
    {
      "cell_type": "code",
      "metadata": {
        "id": "o9U7qce0wfhS",
        "colab_type": "code",
        "colab": {
          "base_uri": "https://localhost:8080/",
          "height": 1000
        },
        "outputId": "8ac634ee-98e0-484f-b976-b4bf6d4d4a36"
      },
      "source": [
        "!while ! grep \"<Figure\" output/training/cnn-2000-k-3-out.txt;do tail -n 30 output/training/cnn-2000-k-3-out.txt; sleep 10;done"
      ],
      "execution_count": null,
      "outputs": []
    },
    {
      "cell_type": "code",
      "metadata": {
        "id": "g3ObM5JfwfX3",
        "colab_type": "code",
        "colab": {
          "base_uri": "https://localhost:8080/",
          "height": 680
        },
        "outputId": "0f4ff44a-e173-4ee9-ad4c-a3b6b1d051b5"
      },
      "source": [
        "!git status\n",
        "!git pull origin master\n",
        "!git add -A\n",
        "!git commit -am \"push cnn-2000-k-3 results to github\"\n",
        "!git push origin master"
      ],
      "execution_count": null,
      "outputs": [
        {
          "output_type": "stream",
          "text": [
            "On branch master\n",
            "Untracked files:\n",
            "  (use \"git add <file>...\" to include in what will be committed)\n",
            "\n",
            "\t\u001b[31mmodels/summary/plot_prediction_c3965d_ConvolutionModel.png\u001b[m\n",
            "\t\u001b[31mmodels/summary/plot_training_c3965d_ConvolutionModel.png\u001b[m\n",
            "\t\u001b[31mmodels/weights/json/config_c3965d_ConvolutionModel.json\u001b[m\n",
            "\t\u001b[31mmodels/weights/json/config_c3965d_ConvolutionModel_best.json\u001b[m\n",
            "\t\u001b[31mmodels/weights/weights_epoch_c3965d_ConvolutionModel.h5\u001b[m\n",
            "\t\u001b[31mmodels/weights/weights_epoch_c3965d_ConvolutionModel_aux.h5\u001b[m\n",
            "\t\u001b[31mmodels/weights/weights_epoch_c3965d_ConvolutionModel_best.h5\u001b[m\n",
            "\t\u001b[31moutput/conf_list_c3965d.txt\u001b[m\n",
            "\t\u001b[31moutput/training/cnn-2000-k-3-out.txt\u001b[m\n",
            "\t\u001b[31mplots/c3965d_ConvolutionModel_plot.png\u001b[m\n",
            "\n",
            "nothing added to commit but untracked files present (use \"git add\" to track)\n",
            "From https://github.com/mrezende/concra\n",
            " * branch            master     -> FETCH_HEAD\n",
            "Already up to date.\n",
            "[master cf62f68] push cnn-2000-k-3 results to github\n",
            " 10 files changed, 4207 insertions(+)\n",
            " create mode 100644 models/summary/plot_prediction_c3965d_ConvolutionModel.png\n",
            " create mode 100644 models/summary/plot_training_c3965d_ConvolutionModel.png\n",
            " create mode 100644 models/weights/json/config_c3965d_ConvolutionModel.json\n",
            " create mode 100644 models/weights/json/config_c3965d_ConvolutionModel_best.json\n",
            " create mode 100644 models/weights/weights_epoch_c3965d_ConvolutionModel.h5\n",
            " create mode 100644 models/weights/weights_epoch_c3965d_ConvolutionModel_aux.h5\n",
            " create mode 100644 models/weights/weights_epoch_c3965d_ConvolutionModel_best.h5\n",
            " create mode 100644 output/conf_list_c3965d.txt\n",
            " create mode 100644 output/training/cnn-2000-k-3-out.txt\n",
            " create mode 100644 plots/c3965d_ConvolutionModel_plot.png\n",
            "Counting objects: 18, done.\n",
            "Delta compression using up to 4 threads.\n",
            "Compressing objects: 100% (18/18), done.\n",
            "Writing objects: 100% (18/18), 34.74 MiB | 1.67 MiB/s, done.\n",
            "Total 18 (delta 9), reused 0 (delta 0)\n",
            "remote: Resolving deltas: 100% (9/9), completed with 7 local objects.\u001b[K\n",
            "To https://github.com/mrezende/concra.git\n",
            "   ad98a63..cf62f68  master -> master\n"
          ],
          "name": "stdout"
        }
      ]
    },
    {
      "cell_type": "code",
      "metadata": {
        "id": "m8mDKVlGwfKw",
        "colab_type": "code",
        "colab": {}
      },
      "source": [
        "!python3 stack_over_flow_qa_eval.py --model cnn --conf_file conf/stack_over_flow_conf_f_2000_k_4.json &> output/training/cnn-2000-k-4-out.txt &"
      ],
      "execution_count": null,
      "outputs": []
    },
    {
      "cell_type": "code",
      "metadata": {
        "id": "3fkZ39EPwfAy",
        "colab_type": "code",
        "colab": {
          "base_uri": "https://localhost:8080/",
          "height": 1000
        },
        "outputId": "86d8182b-0f3a-46d9-e79e-866243b5f575"
      },
      "source": [
        "!while ! grep \"<Figure\" output/training/cnn-2000-k-4-out.txt;do tail -n 30 output/training/cnn-2000-k-4-out.txt; sleep 10;done"
      ],
      "execution_count": null,
      "outputs": []
    },
    {
      "cell_type": "code",
      "metadata": {
        "id": "9hfAhUFfwe3X",
        "colab_type": "code",
        "colab": {
          "base_uri": "https://localhost:8080/",
          "height": 680
        },
        "outputId": "b4035697-c3fc-443f-a628-fc716a0a0686"
      },
      "source": [
        "!git status\n",
        "!git pull origin master\n",
        "!git add -A\n",
        "!git commit -am \"push cnn-2000-k-4 results to github\"\n",
        "!git push origin master"
      ],
      "execution_count": null,
      "outputs": [
        {
          "output_type": "stream",
          "text": [
            "On branch master\n",
            "Untracked files:\n",
            "  (use \"git add <file>...\" to include in what will be committed)\n",
            "\n",
            "\t\u001b[31mmodels/summary/plot_prediction_ae9824_ConvolutionModel.png\u001b[m\n",
            "\t\u001b[31mmodels/summary/plot_training_ae9824_ConvolutionModel.png\u001b[m\n",
            "\t\u001b[31mmodels/weights/json/config_ae9824_ConvolutionModel.json\u001b[m\n",
            "\t\u001b[31mmodels/weights/json/config_ae9824_ConvolutionModel_best.json\u001b[m\n",
            "\t\u001b[31mmodels/weights/weights_epoch_ae9824_ConvolutionModel.h5\u001b[m\n",
            "\t\u001b[31mmodels/weights/weights_epoch_ae9824_ConvolutionModel_aux.h5\u001b[m\n",
            "\t\u001b[31mmodels/weights/weights_epoch_ae9824_ConvolutionModel_best.h5\u001b[m\n",
            "\t\u001b[31moutput/conf_list_ae9824.txt\u001b[m\n",
            "\t\u001b[31moutput/training/cnn-2000-k-4-out.txt\u001b[m\n",
            "\t\u001b[31mplots/ae9824_ConvolutionModel_plot.png\u001b[m\n",
            "\n",
            "nothing added to commit but untracked files present (use \"git add\" to track)\n",
            "From https://github.com/mrezende/concra\n",
            " * branch            master     -> FETCH_HEAD\n",
            "Already up to date.\n",
            "[master 267981d] push cnn-2000-k-4 results to github\n",
            " 10 files changed, 5071 insertions(+)\n",
            " create mode 100644 models/summary/plot_prediction_ae9824_ConvolutionModel.png\n",
            " create mode 100644 models/summary/plot_training_ae9824_ConvolutionModel.png\n",
            " create mode 100644 models/weights/json/config_ae9824_ConvolutionModel.json\n",
            " create mode 100644 models/weights/json/config_ae9824_ConvolutionModel_best.json\n",
            " create mode 100644 models/weights/weights_epoch_ae9824_ConvolutionModel.h5\n",
            " create mode 100644 models/weights/weights_epoch_ae9824_ConvolutionModel_aux.h5\n",
            " create mode 100644 models/weights/weights_epoch_ae9824_ConvolutionModel_best.h5\n",
            " create mode 100644 output/conf_list_ae9824.txt\n",
            " create mode 100644 output/training/cnn-2000-k-4-out.txt\n",
            " create mode 100644 plots/ae9824_ConvolutionModel_plot.png\n",
            "Counting objects: 18, done.\n",
            "Delta compression using up to 4 threads.\n",
            "Compressing objects: 100% (18/18), done.\n",
            "Writing objects: 100% (18/18), 49.03 MiB | 4.34 MiB/s, done.\n",
            "Total 18 (delta 9), reused 0 (delta 0)\n",
            "remote: Resolving deltas: 100% (9/9), completed with 7 local objects.\u001b[K\n",
            "To https://github.com/mrezende/concra.git\n",
            "   cf62f68..267981d  master -> master\n"
          ],
          "name": "stdout"
        }
      ]
    },
    {
      "cell_type": "code",
      "metadata": {
        "id": "95uBGkBLweoC",
        "colab_type": "code",
        "colab": {}
      },
      "source": [
        "!python3 stack_over_flow_qa_eval.py --model cnn --conf_file conf/stack_over_flow_conf_f_4000.json &> output/training/cnn-4000-out.txt &"
      ],
      "execution_count": null,
      "outputs": []
    },
    {
      "cell_type": "code",
      "metadata": {
        "id": "vyf0Nf-1wefJ",
        "colab_type": "code",
        "colab": {
          "base_uri": "https://localhost:8080/",
          "height": 1000
        },
        "outputId": "ab2932ce-71e1-403d-9ed6-043d65e92db9"
      },
      "source": [
        "!while ! grep \"<Figure\" output/training/cnn-4000-out.txt;do tail -n 30 output/training/cnn-4000-out.txt; sleep 10;done"
      ],
      "execution_count": null,
      "outputs": []
    },
    {
      "cell_type": "code",
      "metadata": {
        "id": "QLLhEuKWweUy",
        "colab_type": "code",
        "colab": {
          "base_uri": "https://localhost:8080/",
          "height": 765
        },
        "outputId": "f1415572-9900-4b42-9c04-1a7f83d83212"
      },
      "source": [
        "!git status\n",
        "!git pull origin master\n",
        "!git add -A\n",
        "!git commit -am \"push cnn-4000 results to github\"\n",
        "!git push origin master"
      ],
      "execution_count": null,
      "outputs": [
        {
          "output_type": "stream",
          "text": [
            "On branch master\n",
            "Untracked files:\n",
            "  (use \"git add <file>...\" to include in what will be committed)\n",
            "\n",
            "\t\u001b[31mmodels/summary/plot_prediction_61818f_ConvolutionModel.png\u001b[m\n",
            "\t\u001b[31mmodels/summary/plot_training_61818f_ConvolutionModel.png\u001b[m\n",
            "\t\u001b[31mmodels/weights/json/config_61818f_ConvolutionModel.json\u001b[m\n",
            "\t\u001b[31mmodels/weights/json/config_61818f_ConvolutionModel_best.json\u001b[m\n",
            "\t\u001b[31mmodels/weights/weights_epoch_61818f_ConvolutionModel.h5\u001b[m\n",
            "\t\u001b[31mmodels/weights/weights_epoch_61818f_ConvolutionModel_aux.h5\u001b[m\n",
            "\t\u001b[31mmodels/weights/weights_epoch_61818f_ConvolutionModel_best.h5\u001b[m\n",
            "\t\u001b[31moutput/conf_list_61818f.txt\u001b[m\n",
            "\t\u001b[31moutput/training/cnn-4000-out.txt\u001b[m\n",
            "\t\u001b[31mplots/61818f_ConvolutionModel_plot.png\u001b[m\n",
            "\n",
            "nothing added to commit but untracked files present (use \"git add\" to track)\n",
            "From https://github.com/mrezende/concra\n",
            " * branch            master     -> FETCH_HEAD\n",
            "Already up to date.\n",
            "[master 66c62f0] push cnn-4000 results to github\n",
            " 10 files changed, 3861 insertions(+)\n",
            " create mode 100644 models/summary/plot_prediction_61818f_ConvolutionModel.png\n",
            " create mode 100644 models/summary/plot_training_61818f_ConvolutionModel.png\n",
            " create mode 100644 models/weights/json/config_61818f_ConvolutionModel.json\n",
            " create mode 100644 models/weights/json/config_61818f_ConvolutionModel_best.json\n",
            " create mode 100644 models/weights/weights_epoch_61818f_ConvolutionModel.h5\n",
            " create mode 100644 models/weights/weights_epoch_61818f_ConvolutionModel_aux.h5\n",
            " create mode 100644 models/weights/weights_epoch_61818f_ConvolutionModel_best.h5\n",
            " create mode 100644 output/conf_list_61818f.txt\n",
            " create mode 100644 output/training/cnn-4000-out.txt\n",
            " create mode 100644 plots/61818f_ConvolutionModel_plot.png\n",
            "Counting objects: 18, done.\n",
            "Delta compression using up to 4 threads.\n",
            "Compressing objects: 100% (18/18), done.\n",
            "Writing objects: 100% (18/18), 191.13 MiB | 5.41 MiB/s, done.\n",
            "Total 18 (delta 7), reused 0 (delta 0)\n",
            "remote: Resolving deltas: 100% (7/7), completed with 7 local objects.\u001b[K\n",
            "remote: warning: GH001: Large files detected. You may want to try Git Large File Storage - https://git-lfs.github.com.\u001b[K\n",
            "remote: warning: See http://git.io/iEPt8g for more information.\u001b[K\n",
            "remote: warning: File models/weights/weights_epoch_61818f_ConvolutionModel.h5 is 78.57 MB; this is larger than GitHub's recommended maximum file size of 50.00 MB\u001b[K\n",
            "remote: warning: File models/weights/weights_epoch_61818f_ConvolutionModel_aux.h5 is 78.57 MB; this is larger than GitHub's recommended maximum file size of 50.00 MB\u001b[K\n",
            "remote: warning: File models/weights/weights_epoch_61818f_ConvolutionModel_best.h5 is 78.57 MB; this is larger than GitHub's recommended maximum file size of 50.00 MB\u001b[K\n",
            "To https://github.com/mrezende/concra.git\n",
            "   267981d..66c62f0  master -> master\n"
          ],
          "name": "stdout"
        }
      ]
    },
    {
      "cell_type": "code",
      "metadata": {
        "id": "XSiOLsFMwNjg",
        "colab_type": "code",
        "colab": {}
      },
      "source": [
        "!python3 stack_over_flow_qa_eval.py --model cnn --conf_file conf/stack_over_flow_conf_f_4000_k_2.json &> output/training/cnn-4000-k-2-out.txt &"
      ],
      "execution_count": null,
      "outputs": []
    },
    {
      "cell_type": "code",
      "metadata": {
        "id": "hP0E0p8pwNay",
        "colab_type": "code",
        "colab": {
          "base_uri": "https://localhost:8080/",
          "height": 1000
        },
        "outputId": "7d9a073d-2da9-4213-bc83-9f0913668e5b"
      },
      "source": [
        "!while ! grep \"<Figure\" output/training/cnn-4000-k-2-out.txt;do tail -n 30 output/training/cnn-4000-k-2-out.txt; sleep 10;done"
      ],
      "execution_count": null,
      "outputs": []
    },
    {
      "cell_type": "code",
      "metadata": {
        "id": "7LrdcQOdwNSj",
        "colab_type": "code",
        "colab": {
          "base_uri": "https://localhost:8080/",
          "height": 680
        },
        "outputId": "5f0a6d76-e679-416c-d40f-e96b6cad829d"
      },
      "source": [
        "!git status\n",
        "!git pull origin master\n",
        "!git add -A\n",
        "!git commit -am \"push cnn-4000-k-2 results to github\"\n",
        "!git push origin master"
      ],
      "execution_count": null,
      "outputs": [
        {
          "output_type": "stream",
          "text": [
            "On branch master\n",
            "Untracked files:\n",
            "  (use \"git add <file>...\" to include in what will be committed)\n",
            "\n",
            "\t\u001b[31mmodels/summary/plot_prediction_5f3100_ConvolutionModel.png\u001b[m\n",
            "\t\u001b[31mmodels/summary/plot_training_5f3100_ConvolutionModel.png\u001b[m\n",
            "\t\u001b[31mmodels/weights/json/config_5f3100_ConvolutionModel.json\u001b[m\n",
            "\t\u001b[31mmodels/weights/json/config_5f3100_ConvolutionModel_best.json\u001b[m\n",
            "\t\u001b[31mmodels/weights/weights_epoch_5f3100_ConvolutionModel.h5\u001b[m\n",
            "\t\u001b[31mmodels/weights/weights_epoch_5f3100_ConvolutionModel_aux.h5\u001b[m\n",
            "\t\u001b[31mmodels/weights/weights_epoch_5f3100_ConvolutionModel_best.h5\u001b[m\n",
            "\t\u001b[31moutput/conf_list_5f3100.txt\u001b[m\n",
            "\t\u001b[31moutput/training/cnn-4000-k-2-out.txt\u001b[m\n",
            "\t\u001b[31mplots/5f3100_ConvolutionModel_plot.png\u001b[m\n",
            "\n",
            "nothing added to commit but untracked files present (use \"git add\" to track)\n",
            "From https://github.com/mrezende/concra\n",
            " * branch            master     -> FETCH_HEAD\n",
            "Already up to date.\n",
            "[master e42db41] push cnn-4000-k-2 results to github\n",
            " 10 files changed, 4209 insertions(+)\n",
            " create mode 100644 models/summary/plot_prediction_5f3100_ConvolutionModel.png\n",
            " create mode 100644 models/summary/plot_training_5f3100_ConvolutionModel.png\n",
            " create mode 100644 models/weights/json/config_5f3100_ConvolutionModel.json\n",
            " create mode 100644 models/weights/json/config_5f3100_ConvolutionModel_best.json\n",
            " create mode 100644 models/weights/weights_epoch_5f3100_ConvolutionModel.h5\n",
            " create mode 100644 models/weights/weights_epoch_5f3100_ConvolutionModel_aux.h5\n",
            " create mode 100644 models/weights/weights_epoch_5f3100_ConvolutionModel_best.h5\n",
            " create mode 100644 output/conf_list_5f3100.txt\n",
            " create mode 100644 output/training/cnn-4000-k-2-out.txt\n",
            " create mode 100644 plots/5f3100_ConvolutionModel_plot.png\n",
            "Counting objects: 18, done.\n",
            "Delta compression using up to 4 threads.\n",
            "Compressing objects: 100% (18/18), done.\n",
            "Writing objects: 100% (18/18), 52.06 MiB | 1.81 MiB/s, done.\n",
            "Total 18 (delta 8), reused 0 (delta 0)\n",
            "remote: Resolving deltas: 100% (8/8), completed with 7 local objects.\u001b[K\n",
            "To https://github.com/mrezende/concra.git\n",
            "   66c62f0..e42db41  master -> master\n"
          ],
          "name": "stdout"
        }
      ]
    },
    {
      "cell_type": "code",
      "metadata": {
        "id": "20igUu4YwNFr",
        "colab_type": "code",
        "colab": {}
      },
      "source": [
        "!python3 stack_over_flow_qa_eval.py --model cnn --conf_file conf/stack_over_flow_conf_f_4000_k_2_m_005.json &> output/training/cnn-4000-k-2-m-005-out.txt &"
      ],
      "execution_count": null,
      "outputs": []
    },
    {
      "cell_type": "code",
      "metadata": {
        "id": "XOnJv-K5wM8y",
        "colab_type": "code",
        "colab": {
          "base_uri": "https://localhost:8080/",
          "height": 1000
        },
        "outputId": "7f8a82b0-ff9b-45b2-80c4-eef5f983f295"
      },
      "source": [
        "!while ! grep \"<Figure\" output/training/cnn-4000-k-2-m-005-out.txt;do tail -n 30 output/training/cnn-4000-k-2-m-005-out.txt; sleep 10;done"
      ],
      "execution_count": null,
      "outputs": []
    },
    {
      "cell_type": "code",
      "metadata": {
        "id": "3OhPGjJQwM08",
        "colab_type": "code",
        "colab": {
          "base_uri": "https://localhost:8080/",
          "height": 697
        },
        "outputId": "21b69ef7-37d7-4fde-9006-65102845ba48"
      },
      "source": [
        "!git status\n",
        "!git pull origin master\n",
        "!git add -A\n",
        "!git commit -am \"push cnn-4000-k-2-m-005 results to github\"\n",
        "!git push origin master"
      ],
      "execution_count": null,
      "outputs": [
        {
          "output_type": "stream",
          "text": [
            "On branch master\n",
            "Untracked files:\n",
            "  (use \"git add <file>...\" to include in what will be committed)\n",
            "\n",
            "\t\u001b[31mmodels/summary/plot_prediction_ca8cf5_ConvolutionModel.png\u001b[m\n",
            "\t\u001b[31mmodels/summary/plot_training_ca8cf5_ConvolutionModel.png\u001b[m\n",
            "\t\u001b[31mmodels/weights/json/config_ca8cf5_ConvolutionModel.json\u001b[m\n",
            "\t\u001b[31mmodels/weights/json/config_ca8cf5_ConvolutionModel_best.json\u001b[m\n",
            "\t\u001b[31mmodels/weights/weights_epoch_ca8cf5_ConvolutionModel.h5\u001b[m\n",
            "\t\u001b[31mmodels/weights/weights_epoch_ca8cf5_ConvolutionModel_aux.h5\u001b[m\n",
            "\t\u001b[31mmodels/weights/weights_epoch_ca8cf5_ConvolutionModel_best.h5\u001b[m\n",
            "\t\u001b[31moutput/conf_list_ca8cf5.txt\u001b[m\n",
            "\t\u001b[31moutput/training/cnn-4000-k-2-m-005-out.txt\u001b[m\n",
            "\t\u001b[31mplots/ca8cf5_ConvolutionModel_plot.png\u001b[m\n",
            "\n",
            "nothing added to commit but untracked files present (use \"git add\" to track)\n",
            "From https://github.com/mrezende/concra\n",
            " * branch            master     -> FETCH_HEAD\n",
            " * [new branch]      master     -> origin/master\n",
            "Already up to date.\n",
            "[master 7723c46] push cnn-4000-k-2-m-005 results to github\n",
            " 10 files changed, 3169 insertions(+)\n",
            " create mode 100644 models/summary/plot_prediction_ca8cf5_ConvolutionModel.png\n",
            " create mode 100644 models/summary/plot_training_ca8cf5_ConvolutionModel.png\n",
            " create mode 100644 models/weights/json/config_ca8cf5_ConvolutionModel.json\n",
            " create mode 100644 models/weights/json/config_ca8cf5_ConvolutionModel_best.json\n",
            " create mode 100644 models/weights/weights_epoch_ca8cf5_ConvolutionModel.h5\n",
            " create mode 100644 models/weights/weights_epoch_ca8cf5_ConvolutionModel_aux.h5\n",
            " create mode 100644 models/weights/weights_epoch_ca8cf5_ConvolutionModel_best.h5\n",
            " create mode 100644 output/conf_list_ca8cf5.txt\n",
            " create mode 100644 output/training/cnn-4000-k-2-m-005-out.txt\n",
            " create mode 100644 plots/ca8cf5_ConvolutionModel_plot.png\n",
            "Counting objects: 16, done.\n",
            "Delta compression using up to 4 threads.\n",
            "Compressing objects: 100% (16/16), done.\n",
            "Writing objects: 100% (16/16), 50.61 MiB | 5.30 MiB/s, done.\n",
            "Total 16 (delta 8), reused 0 (delta 0)\n",
            "remote: Resolving deltas: 100% (8/8), completed with 7 local objects.\u001b[K\n",
            "To https://github.com/mrezende/concra.git\n",
            "   72016b4..7723c46  master -> master\n"
          ],
          "name": "stdout"
        }
      ]
    },
    {
      "cell_type": "code",
      "metadata": {
        "id": "74PKmQRIwMk_",
        "colab_type": "code",
        "colab": {}
      },
      "source": [
        "!python3 stack_over_flow_qa_eval.py --model cnn --conf_file conf/stack_over_flow_conf_f_4000_k_2_m_01.json &> output/training/cnn-4000-k-2-m-01-out.txt &"
      ],
      "execution_count": null,
      "outputs": []
    },
    {
      "cell_type": "code",
      "metadata": {
        "id": "Cpmct9QSwMc6",
        "colab_type": "code",
        "colab": {
          "base_uri": "https://localhost:8080/",
          "height": 1000
        },
        "outputId": "345cb865-8b1a-4a74-8026-c832011f7d1d"
      },
      "source": [
        "!while ! grep \"<Figure\" output/training/cnn-4000-k-2-m-01-out.txt;do tail -n 30 output/training/cnn-4000-k-2-m-01-out.txt; sleep 10;done"
      ],
      "execution_count": null,
      "outputs": []
    },
    {
      "cell_type": "code",
      "metadata": {
        "id": "z7F9WgVDwMTa",
        "colab_type": "code",
        "colab": {
          "base_uri": "https://localhost:8080/",
          "height": 680
        },
        "outputId": "92a923be-a0ad-480e-9637-b09542e4c70d"
      },
      "source": [
        "!git status\n",
        "!git pull origin master\n",
        "!git add -A\n",
        "!git commit -am \"push cnn-4000-k-2-m-01 results to github\"\n",
        "!git push origin master"
      ],
      "execution_count": null,
      "outputs": [
        {
          "output_type": "stream",
          "text": [
            "On branch master\n",
            "Untracked files:\n",
            "  (use \"git add <file>...\" to include in what will be committed)\n",
            "\n",
            "\t\u001b[31mmodels/summary/plot_prediction_3b34a4_ConvolutionModel.png\u001b[m\n",
            "\t\u001b[31mmodels/summary/plot_training_3b34a4_ConvolutionModel.png\u001b[m\n",
            "\t\u001b[31mmodels/weights/json/config_3b34a4_ConvolutionModel.json\u001b[m\n",
            "\t\u001b[31mmodels/weights/json/config_3b34a4_ConvolutionModel_best.json\u001b[m\n",
            "\t\u001b[31mmodels/weights/weights_epoch_3b34a4_ConvolutionModel.h5\u001b[m\n",
            "\t\u001b[31mmodels/weights/weights_epoch_3b34a4_ConvolutionModel_aux.h5\u001b[m\n",
            "\t\u001b[31mmodels/weights/weights_epoch_3b34a4_ConvolutionModel_best.h5\u001b[m\n",
            "\t\u001b[31moutput/conf_list_3b34a4.txt\u001b[m\n",
            "\t\u001b[31moutput/training/cnn-4000-k-2-m-01-out.txt\u001b[m\n",
            "\t\u001b[31mplots/3b34a4_ConvolutionModel_plot.png\u001b[m\n",
            "\n",
            "nothing added to commit but untracked files present (use \"git add\" to track)\n",
            "From https://github.com/mrezende/concra\n",
            " * branch            master     -> FETCH_HEAD\n",
            "Already up to date.\n",
            "[master c7a7827] push cnn-4000-k-2-m-01 results to github\n",
            " 10 files changed, 3343 insertions(+)\n",
            " create mode 100644 models/summary/plot_prediction_3b34a4_ConvolutionModel.png\n",
            " create mode 100644 models/summary/plot_training_3b34a4_ConvolutionModel.png\n",
            " create mode 100644 models/weights/json/config_3b34a4_ConvolutionModel.json\n",
            " create mode 100644 models/weights/json/config_3b34a4_ConvolutionModel_best.json\n",
            " create mode 100644 models/weights/weights_epoch_3b34a4_ConvolutionModel.h5\n",
            " create mode 100644 models/weights/weights_epoch_3b34a4_ConvolutionModel_aux.h5\n",
            " create mode 100644 models/weights/weights_epoch_3b34a4_ConvolutionModel_best.h5\n",
            " create mode 100644 output/conf_list_3b34a4.txt\n",
            " create mode 100644 output/training/cnn-4000-k-2-m-01-out.txt\n",
            " create mode 100644 plots/3b34a4_ConvolutionModel_plot.png\n",
            "Counting objects: 15, done.\n",
            "Delta compression using up to 4 threads.\n",
            "Compressing objects: 100% (15/15), done.\n",
            "Writing objects: 100% (15/15), 52.51 MiB | 1.90 MiB/s, done.\n",
            "Total 15 (delta 8), reused 0 (delta 0)\n",
            "remote: Resolving deltas: 100% (8/8), completed with 7 local objects.\u001b[K\n",
            "To https://github.com/mrezende/concra.git\n",
            "   7723c46..c7a7827  master -> master\n"
          ],
          "name": "stdout"
        }
      ]
    },
    {
      "cell_type": "code",
      "metadata": {
        "id": "3HW8li0Pv8WQ",
        "colab_type": "code",
        "colab": {}
      },
      "source": [
        "!python3 stack_over_flow_qa_eval.py --model cnn --conf_file conf/stack_over_flow_conf_f_4000_k_2_m_02.json &> output/training/cnn-4000-k-2-m-02-out.txt &"
      ],
      "execution_count": null,
      "outputs": []
    },
    {
      "cell_type": "code",
      "metadata": {
        "id": "qP9RZPTUv8LK",
        "colab_type": "code",
        "colab": {
          "base_uri": "https://localhost:8080/",
          "height": 1000
        },
        "outputId": "716962ec-c16f-4f5d-83e9-2bc9ec6fa644"
      },
      "source": [
        "!while ! grep \"<Figure\" output/training/cnn-4000-k-2-m-02-out.txt;do tail -n 30 output/training/cnn-4000-k-2-m-02-out.txt; sleep 10;done"
      ],
      "execution_count": null,
      "outputs": []
    },
    {
      "cell_type": "code",
      "metadata": {
        "id": "LbZemPXLv8Cn",
        "colab_type": "code",
        "colab": {
          "base_uri": "https://localhost:8080/",
          "height": 680
        },
        "outputId": "221e171e-10f2-482b-ac6d-79af610de5e1"
      },
      "source": [
        "!git status\n",
        "!git pull origin master\n",
        "!git add -A\n",
        "!git commit -am \"push cnn-4000-k-2-m-02 results to github\"\n",
        "!git push origin master"
      ],
      "execution_count": null,
      "outputs": [
        {
          "output_type": "stream",
          "text": [
            "On branch master\n",
            "Untracked files:\n",
            "  (use \"git add <file>...\" to include in what will be committed)\n",
            "\n",
            "\t\u001b[31mmodels/summary/plot_prediction_19af70_ConvolutionModel.png\u001b[m\n",
            "\t\u001b[31mmodels/summary/plot_training_19af70_ConvolutionModel.png\u001b[m\n",
            "\t\u001b[31mmodels/weights/json/config_19af70_ConvolutionModel.json\u001b[m\n",
            "\t\u001b[31mmodels/weights/json/config_19af70_ConvolutionModel_best.json\u001b[m\n",
            "\t\u001b[31mmodels/weights/weights_epoch_19af70_ConvolutionModel.h5\u001b[m\n",
            "\t\u001b[31mmodels/weights/weights_epoch_19af70_ConvolutionModel_aux.h5\u001b[m\n",
            "\t\u001b[31mmodels/weights/weights_epoch_19af70_ConvolutionModel_best.h5\u001b[m\n",
            "\t\u001b[31moutput/conf_list_19af70.txt\u001b[m\n",
            "\t\u001b[31moutput/training/cnn-4000-k-2-m-02-out.txt\u001b[m\n",
            "\t\u001b[31mplots/19af70_ConvolutionModel_plot.png\u001b[m\n",
            "\n",
            "nothing added to commit but untracked files present (use \"git add\" to track)\n",
            "From https://github.com/mrezende/concra\n",
            " * branch            master     -> FETCH_HEAD\n",
            "Already up to date.\n",
            "[master e1b3fc6] push cnn-4000-k-2-m-02 results to github\n",
            " 10 files changed, 3243 insertions(+)\n",
            " create mode 100644 models/summary/plot_prediction_19af70_ConvolutionModel.png\n",
            " create mode 100644 models/summary/plot_training_19af70_ConvolutionModel.png\n",
            " create mode 100644 models/weights/json/config_19af70_ConvolutionModel.json\n",
            " create mode 100644 models/weights/json/config_19af70_ConvolutionModel_best.json\n",
            " create mode 100644 models/weights/weights_epoch_19af70_ConvolutionModel.h5\n",
            " create mode 100644 models/weights/weights_epoch_19af70_ConvolutionModel_aux.h5\n",
            " create mode 100644 models/weights/weights_epoch_19af70_ConvolutionModel_best.h5\n",
            " create mode 100644 output/conf_list_19af70.txt\n",
            " create mode 100644 output/training/cnn-4000-k-2-m-02-out.txt\n",
            " create mode 100644 plots/19af70_ConvolutionModel_plot.png\n",
            "Counting objects: 15, done.\n",
            "Delta compression using up to 4 threads.\n",
            "Compressing objects: 100% (15/15), done.\n",
            "Writing objects: 100% (15/15), 62.91 MiB | 2.57 MiB/s, done.\n",
            "Total 15 (delta 7), reused 0 (delta 0)\n",
            "remote: Resolving deltas: 100% (7/7), completed with 7 local objects.\u001b[K\n",
            "To https://github.com/mrezende/concra.git\n",
            "   c7a7827..e1b3fc6  master -> master\n"
          ],
          "name": "stdout"
        }
      ]
    },
    {
      "cell_type": "code",
      "metadata": {
        "id": "GXbEDw-Sv7y3",
        "colab_type": "code",
        "colab": {}
      },
      "source": [
        "!python3 stack_over_flow_qa_eval.py --model cnn --conf_file conf/stack_over_flow_conf_f_4000_k_3.json &> output/training/cnn-4000-k-3-out.txt &"
      ],
      "execution_count": null,
      "outputs": []
    },
    {
      "cell_type": "code",
      "metadata": {
        "id": "PMYgbzE9v7pB",
        "colab_type": "code",
        "colab": {
          "base_uri": "https://localhost:8080/",
          "height": 1000
        },
        "outputId": "689cb542-5818-463d-e360-3b1e7072a00e"
      },
      "source": [
        "!while ! grep \"<Figure\" output/training/cnn-4000-k-3-out.txt;do tail -n 30 output/training/cnn-4000-k-3-out.txt; sleep 10;done"
      ],
      "execution_count": null,
      "outputs": []
    },
    {
      "cell_type": "code",
      "metadata": {
        "id": "TxHq34VJv7g9",
        "colab_type": "code",
        "colab": {
          "base_uri": "https://localhost:8080/",
          "height": 680
        },
        "outputId": "d2c69410-b23b-4aa6-d0d6-16369b906e70"
      },
      "source": [
        "!git status\n",
        "!git pull origin master\n",
        "!git add -A\n",
        "!git commit -am \"push cnn-4000-k-3 results to github\"\n",
        "!git push origin master"
      ],
      "execution_count": null,
      "outputs": [
        {
          "output_type": "stream",
          "text": [
            "On branch master\n",
            "Untracked files:\n",
            "  (use \"git add <file>...\" to include in what will be committed)\n",
            "\n",
            "\t\u001b[31mmodels/summary/plot_prediction_f06d07_ConvolutionModel.png\u001b[m\n",
            "\t\u001b[31mmodels/summary/plot_training_f06d07_ConvolutionModel.png\u001b[m\n",
            "\t\u001b[31mmodels/weights/json/config_f06d07_ConvolutionModel.json\u001b[m\n",
            "\t\u001b[31mmodels/weights/json/config_f06d07_ConvolutionModel_best.json\u001b[m\n",
            "\t\u001b[31mmodels/weights/weights_epoch_f06d07_ConvolutionModel.h5\u001b[m\n",
            "\t\u001b[31mmodels/weights/weights_epoch_f06d07_ConvolutionModel_aux.h5\u001b[m\n",
            "\t\u001b[31mmodels/weights/weights_epoch_f06d07_ConvolutionModel_best.h5\u001b[m\n",
            "\t\u001b[31moutput/conf_list_f06d07.txt\u001b[m\n",
            "\t\u001b[31moutput/training/cnn-4000-k-3-out.txt\u001b[m\n",
            "\t\u001b[31mplots/f06d07_ConvolutionModel_plot.png\u001b[m\n",
            "\n",
            "nothing added to commit but untracked files present (use \"git add\" to track)\n",
            "From https://github.com/mrezende/concra\n",
            " * branch            master     -> FETCH_HEAD\n",
            "Already up to date.\n",
            "[master aa2e108] push cnn-4000-k-3 results to github\n",
            " 10 files changed, 3343 insertions(+)\n",
            " create mode 100644 models/summary/plot_prediction_f06d07_ConvolutionModel.png\n",
            " create mode 100644 models/summary/plot_training_f06d07_ConvolutionModel.png\n",
            " create mode 100644 models/weights/json/config_f06d07_ConvolutionModel.json\n",
            " create mode 100644 models/weights/json/config_f06d07_ConvolutionModel_best.json\n",
            " create mode 100644 models/weights/weights_epoch_f06d07_ConvolutionModel.h5\n",
            " create mode 100644 models/weights/weights_epoch_f06d07_ConvolutionModel_aux.h5\n",
            " create mode 100644 models/weights/weights_epoch_f06d07_ConvolutionModel_best.h5\n",
            " create mode 100644 output/conf_list_f06d07.txt\n",
            " create mode 100644 output/training/cnn-4000-k-3-out.txt\n",
            " create mode 100644 plots/f06d07_ConvolutionModel_plot.png\n",
            "Counting objects: 18, done.\n",
            "Delta compression using up to 4 threads.\n",
            "Compressing objects: 100% (18/18), done.\n",
            "Writing objects: 100% (18/18), 64.03 MiB | 5.17 MiB/s, done.\n",
            "Total 18 (delta 8), reused 0 (delta 0)\n",
            "remote: Resolving deltas: 100% (8/8), completed with 7 local objects.\u001b[K\n",
            "To https://github.com/mrezende/concra.git\n",
            "   e1b3fc6..aa2e108  master -> master\n"
          ],
          "name": "stdout"
        }
      ]
    },
    {
      "cell_type": "code",
      "metadata": {
        "id": "ABDYsYxXv7O0",
        "colab_type": "code",
        "colab": {}
      },
      "source": [
        "!python3 stack_over_flow_qa_eval.py --model cnn --conf_file conf/stack_over_flow_conf_f_4000_k_4.json &> output/training/cnn-4000-k-4-out.txt &"
      ],
      "execution_count": null,
      "outputs": []
    },
    {
      "cell_type": "code",
      "metadata": {
        "id": "gypDi74Gv7Fm",
        "colab_type": "code",
        "colab": {
          "base_uri": "https://localhost:8080/",
          "height": 1000
        },
        "outputId": "ff7f10db-ff2b-4a1a-a8ee-f36fdd4d2aec"
      },
      "source": [
        "!while ! grep \"<Figure\" output/training/cnn-4000-k-4-out.txt;do tail -n 30 output/training/cnn-4000-k-4-out.txt; sleep 10;done"
      ],
      "execution_count": null,
      "outputs": []
    },
    {
      "cell_type": "code",
      "metadata": {
        "id": "pc-4cmSjv66S",
        "colab_type": "code",
        "colab": {
          "base_uri": "https://localhost:8080/",
          "height": 680
        },
        "outputId": "43cd1a7f-4a8e-40ca-a7a2-fdf4d61cf02c"
      },
      "source": [
        "!git status\n",
        "!git pull origin master\n",
        "!git add -A\n",
        "!git commit -am \"push cnn-4000-k-4 results to github\"\n",
        "!git push origin master"
      ],
      "execution_count": null,
      "outputs": [
        {
          "output_type": "stream",
          "text": [
            "On branch master\n",
            "Untracked files:\n",
            "  (use \"git add <file>...\" to include in what will be committed)\n",
            "\n",
            "\t\u001b[31mmodels/summary/plot_prediction_b643c4_ConvolutionModel.png\u001b[m\n",
            "\t\u001b[31mmodels/summary/plot_training_b643c4_ConvolutionModel.png\u001b[m\n",
            "\t\u001b[31mmodels/weights/json/config_b643c4_ConvolutionModel.json\u001b[m\n",
            "\t\u001b[31mmodels/weights/json/config_b643c4_ConvolutionModel_best.json\u001b[m\n",
            "\t\u001b[31mmodels/weights/weights_epoch_b643c4_ConvolutionModel.h5\u001b[m\n",
            "\t\u001b[31mmodels/weights/weights_epoch_b643c4_ConvolutionModel_aux.h5\u001b[m\n",
            "\t\u001b[31mmodels/weights/weights_epoch_b643c4_ConvolutionModel_best.h5\u001b[m\n",
            "\t\u001b[31moutput/conf_list_b643c4.txt\u001b[m\n",
            "\t\u001b[31moutput/training/cnn-4000-k-4-out.txt\u001b[m\n",
            "\t\u001b[31mplots/b643c4_ConvolutionModel_plot.png\u001b[m\n",
            "\n",
            "nothing added to commit but untracked files present (use \"git add\" to track)\n",
            "From https://github.com/mrezende/concra\n",
            " * branch            master     -> FETCH_HEAD\n",
            "Already up to date.\n",
            "[master 57dc4a2] push cnn-4000-k-4 results to github\n",
            " 10 files changed, 4813 insertions(+)\n",
            " create mode 100644 models/summary/plot_prediction_b643c4_ConvolutionModel.png\n",
            " create mode 100644 models/summary/plot_training_b643c4_ConvolutionModel.png\n",
            " create mode 100644 models/weights/json/config_b643c4_ConvolutionModel.json\n",
            " create mode 100644 models/weights/json/config_b643c4_ConvolutionModel_best.json\n",
            " create mode 100644 models/weights/weights_epoch_b643c4_ConvolutionModel.h5\n",
            " create mode 100644 models/weights/weights_epoch_b643c4_ConvolutionModel_aux.h5\n",
            " create mode 100644 models/weights/weights_epoch_b643c4_ConvolutionModel_best.h5\n",
            " create mode 100644 output/conf_list_b643c4.txt\n",
            " create mode 100644 output/training/cnn-4000-k-4-out.txt\n",
            " create mode 100644 plots/b643c4_ConvolutionModel_plot.png\n",
            "Counting objects: 18, done.\n",
            "Delta compression using up to 4 threads.\n",
            "Compressing objects: 100% (18/18), done.\n",
            "Writing objects: 100% (18/18), 69.17 MiB | 2.44 MiB/s, done.\n",
            "Total 18 (delta 8), reused 0 (delta 0)\n",
            "remote: Resolving deltas: 100% (8/8), completed with 7 local objects.\u001b[K\n",
            "To https://github.com/mrezende/concra.git\n",
            "   aa2e108..57dc4a2  master -> master\n"
          ],
          "name": "stdout"
        }
      ]
    },
    {
      "cell_type": "markdown",
      "metadata": {
        "id": "RznynH_fy3Pm",
        "colab_type": "text"
      },
      "source": [
        "--------- cnn with bn --------------"
      ]
    },
    {
      "cell_type": "code",
      "metadata": {
        "id": "T2JKf7qTzw7U",
        "colab_type": "code",
        "colab": {}
      },
      "source": [
        "!python3 stack_over_flow_qa_eval.py --model cnn-with-bn --conf_file conf/stack_over_flow_conf_f_1000_k_2.json &> output/training/cnn-with-bn-1000-k-2-out.txt &"
      ],
      "execution_count": null,
      "outputs": []
    },
    {
      "cell_type": "code",
      "metadata": {
        "id": "We0CCduCzwvD",
        "colab_type": "code",
        "colab": {
          "base_uri": "https://localhost:8080/",
          "height": 1000
        },
        "outputId": "2dad3cbd-3ed0-4423-839b-2c6faedc588f"
      },
      "source": [
        "!while ! grep \"<Figure\" output/training/cnn-with-bn-1000-k-2-out.txt;do tail -n 30 output/training/cnn-with-bn-1000-k-2-out.txt; sleep 10;done"
      ],
      "execution_count": null,
      "outputs": []
    },
    {
      "cell_type": "code",
      "metadata": {
        "id": "LqyvUK4lzwh9",
        "colab_type": "code",
        "colab": {
          "base_uri": "https://localhost:8080/",
          "height": 748
        },
        "outputId": "cd601ad3-da2e-4f6a-cacf-037ecd7d4fd6"
      },
      "source": [
        "!git status\n",
        "!git pull origin master\n",
        "!git add -A\n",
        "!git commit -am \"push cnn-with-bn-1000-k-2 results to github\"\n",
        "!git push origin master"
      ],
      "execution_count": null,
      "outputs": [
        {
          "output_type": "stream",
          "text": [
            "On branch master\n",
            "Changes not staged for commit:\n",
            "  (use \"git add <file>...\" to update what will be committed)\n",
            "  (use \"git checkout -- <file>...\" to discard changes in working directory)\n",
            "\n",
            "\t\u001b[31mmodified:   output/conf_list_4ce271.txt\u001b[m\n",
            "\n",
            "Untracked files:\n",
            "  (use \"git add <file>...\" to include in what will be committed)\n",
            "\n",
            "\t\u001b[31mmodels/summary/plot_prediction_4ce271_ConvolutionModelWithBatchNormalization.png\u001b[m\n",
            "\t\u001b[31mmodels/summary/plot_training_4ce271_ConvolutionModelWithBatchNormalization.png\u001b[m\n",
            "\t\u001b[31mmodels/weights/json/config_4ce271_ConvolutionModelWithBatchNormalization.json\u001b[m\n",
            "\t\u001b[31mmodels/weights/json/config_4ce271_ConvolutionModelWithBatchNormalization_best.json\u001b[m\n",
            "\t\u001b[31mmodels/weights/weights_epoch_4ce271_ConvolutionModelWithBatchNormalization.h5\u001b[m\n",
            "\t\u001b[31mmodels/weights/weights_epoch_4ce271_ConvolutionModelWithBatchNormalization_aux.h5\u001b[m\n",
            "\t\u001b[31mmodels/weights/weights_epoch_4ce271_ConvolutionModelWithBatchNormalization_best.h5\u001b[m\n",
            "\t\u001b[31moutput/training/cnn-with-bn-1000-k-2-out.txt\u001b[m\n",
            "\t\u001b[31mplots/4ce271_ConvolutionModelWithBatchNormalization_plot.png\u001b[m\n",
            "\n",
            "no changes added to commit (use \"git add\" and/or \"git commit -a\")\n",
            "From https://github.com/mrezende/concra\n",
            " * branch            master     -> FETCH_HEAD\n",
            "Already up to date.\n",
            "[master f17c1fe] push cnn-with-bn-1000-k-2 results to github\n",
            " 10 files changed, 3339 insertions(+)\n",
            " create mode 100644 models/summary/plot_prediction_4ce271_ConvolutionModelWithBatchNormalization.png\n",
            " create mode 100644 models/summary/plot_training_4ce271_ConvolutionModelWithBatchNormalization.png\n",
            " create mode 100644 models/weights/json/config_4ce271_ConvolutionModelWithBatchNormalization.json\n",
            " create mode 100644 models/weights/json/config_4ce271_ConvolutionModelWithBatchNormalization_best.json\n",
            " create mode 100644 models/weights/weights_epoch_4ce271_ConvolutionModelWithBatchNormalization.h5\n",
            " create mode 100644 models/weights/weights_epoch_4ce271_ConvolutionModelWithBatchNormalization_aux.h5\n",
            " create mode 100644 models/weights/weights_epoch_4ce271_ConvolutionModelWithBatchNormalization_best.h5\n",
            " create mode 100644 output/training/cnn-with-bn-1000-k-2-out.txt\n",
            " create mode 100644 plots/4ce271_ConvolutionModelWithBatchNormalization_plot.png\n",
            "Counting objects: 18, done.\n",
            "Delta compression using up to 4 threads.\n",
            "Compressing objects: 100% (18/18), done.\n",
            "Writing objects: 100% (18/18), 51.64 MiB | 5.75 MiB/s, done.\n",
            "Total 18 (delta 7), reused 0 (delta 0)\n",
            "remote: Resolving deltas: 100% (7/7), completed with 7 local objects.\u001b[K\n",
            "To https://github.com/mrezende/concra.git\n",
            "   57dc4a2..f17c1fe  master -> master\n"
          ],
          "name": "stdout"
        }
      ]
    },
    {
      "cell_type": "code",
      "metadata": {
        "id": "t1Hj4hhpzwU4",
        "colab_type": "code",
        "colab": {}
      },
      "source": [
        "!python3 stack_over_flow_qa_eval.py --model cnn-with-bn --conf_file conf/stack_over_flow_conf_f_1000_k_2_m_005.json &> output/training/cnn-with-bn-1000-k-2-m-005-out.txt &"
      ],
      "execution_count": null,
      "outputs": []
    },
    {
      "cell_type": "code",
      "metadata": {
        "id": "71OHiZ8izwKJ",
        "colab_type": "code",
        "colab": {
          "base_uri": "https://localhost:8080/",
          "height": 1000
        },
        "outputId": "54d669f5-2fac-4ea9-e39b-8b9d724d5175"
      },
      "source": [
        "!while ! grep \"<Figure\" output/training/cnn-with-bn-1000-k-2-m-005-out.txt;do tail -n 30 output/training/cnn-with-bn-1000-k-2-m-005-out.txt; sleep 10;done"
      ],
      "execution_count": null,
      "outputs": []
    },
    {
      "cell_type": "code",
      "metadata": {
        "id": "rH74Cy2pzwAO",
        "colab_type": "code",
        "colab": {
          "base_uri": "https://localhost:8080/",
          "height": 748
        },
        "outputId": "b05f9cfb-799c-4586-9a92-3a5ad73c441c"
      },
      "source": [
        "!git status\n",
        "!git pull origin master\n",
        "!git add -A\n",
        "!git commit -am \"push cnn-with-bn-1000-k-2-m-005 results to github\"\n",
        "!git push origin master"
      ],
      "execution_count": null,
      "outputs": [
        {
          "output_type": "stream",
          "text": [
            "On branch master\n",
            "Changes not staged for commit:\n",
            "  (use \"git add <file>...\" to update what will be committed)\n",
            "  (use \"git checkout -- <file>...\" to discard changes in working directory)\n",
            "\n",
            "\t\u001b[31mmodified:   output/conf_list_fa6f46.txt\u001b[m\n",
            "\n",
            "Untracked files:\n",
            "  (use \"git add <file>...\" to include in what will be committed)\n",
            "\n",
            "\t\u001b[31mmodels/summary/plot_prediction_fa6f46_ConvolutionModelWithBatchNormalization.png\u001b[m\n",
            "\t\u001b[31mmodels/summary/plot_training_fa6f46_ConvolutionModelWithBatchNormalization.png\u001b[m\n",
            "\t\u001b[31mmodels/weights/json/config_fa6f46_ConvolutionModelWithBatchNormalization.json\u001b[m\n",
            "\t\u001b[31mmodels/weights/json/config_fa6f46_ConvolutionModelWithBatchNormalization_best.json\u001b[m\n",
            "\t\u001b[31mmodels/weights/weights_epoch_fa6f46_ConvolutionModelWithBatchNormalization.h5\u001b[m\n",
            "\t\u001b[31mmodels/weights/weights_epoch_fa6f46_ConvolutionModelWithBatchNormalization_aux.h5\u001b[m\n",
            "\t\u001b[31mmodels/weights/weights_epoch_fa6f46_ConvolutionModelWithBatchNormalization_best.h5\u001b[m\n",
            "\t\u001b[31moutput/training/cnn-with-bn-1000-k-2-m-005-out.txt\u001b[m\n",
            "\t\u001b[31mplots/fa6f46_ConvolutionModelWithBatchNormalization_plot.png\u001b[m\n",
            "\n",
            "no changes added to commit (use \"git add\" and/or \"git commit -a\")\n",
            "From https://github.com/mrezende/concra\n",
            " * branch            master     -> FETCH_HEAD\n",
            "Already up to date.\n",
            "[master 12e13af] push cnn-with-bn-1000-k-2-m-005 results to github\n",
            " 10 files changed, 3433 insertions(+)\n",
            " create mode 100644 models/summary/plot_prediction_fa6f46_ConvolutionModelWithBatchNormalization.png\n",
            " create mode 100644 models/summary/plot_training_fa6f46_ConvolutionModelWithBatchNormalization.png\n",
            " create mode 100644 models/weights/json/config_fa6f46_ConvolutionModelWithBatchNormalization.json\n",
            " create mode 100644 models/weights/json/config_fa6f46_ConvolutionModelWithBatchNormalization_best.json\n",
            " create mode 100644 models/weights/weights_epoch_fa6f46_ConvolutionModelWithBatchNormalization.h5\n",
            " create mode 100644 models/weights/weights_epoch_fa6f46_ConvolutionModelWithBatchNormalization_aux.h5\n",
            " create mode 100644 models/weights/weights_epoch_fa6f46_ConvolutionModelWithBatchNormalization_best.h5\n",
            " create mode 100644 output/training/cnn-with-bn-1000-k-2-m-005-out.txt\n",
            " create mode 100644 plots/fa6f46_ConvolutionModelWithBatchNormalization_plot.png\n",
            "Counting objects: 15, done.\n",
            "Delta compression using up to 4 threads.\n",
            "Compressing objects: 100% (15/15), done.\n",
            "Writing objects: 100% (15/15), 51.34 MiB | 2.32 MiB/s, done.\n",
            "Total 15 (delta 7), reused 0 (delta 0)\n",
            "remote: Resolving deltas: 100% (7/7), completed with 7 local objects.\u001b[K\n",
            "To https://github.com/mrezende/concra.git\n",
            "   f17c1fe..12e13af  master -> master\n"
          ],
          "name": "stdout"
        }
      ]
    },
    {
      "cell_type": "code",
      "metadata": {
        "id": "NmitkaO0zvxo",
        "colab_type": "code",
        "colab": {}
      },
      "source": [
        "!python3 stack_over_flow_qa_eval.py --model cnn-with-bn --conf_file conf/stack_over_flow_conf_f_1000_k_2_m_01.json &> output/training/cnn-with-bn-1000-k-2-m-01-out.txt &"
      ],
      "execution_count": null,
      "outputs": []
    },
    {
      "cell_type": "code",
      "metadata": {
        "id": "V1p-8MddzvjQ",
        "colab_type": "code",
        "colab": {
          "base_uri": "https://localhost:8080/",
          "height": 1000
        },
        "outputId": "602401b2-fe02-49ba-e83b-20f104bd288f"
      },
      "source": [
        "!while ! grep \"<Figure\" output/training/cnn-with-bn-1000-k-2-m-01-out.txt;do tail -n 30 output/training/cnn-with-bn-1000-k-2-m-01-out.txt; sleep 10;done"
      ],
      "execution_count": null,
      "outputs": []
    },
    {
      "cell_type": "code",
      "metadata": {
        "id": "bS32zzf6zvZC",
        "colab_type": "code",
        "colab": {
          "base_uri": "https://localhost:8080/",
          "height": 748
        },
        "outputId": "fbcfc6a1-f978-46a2-8953-e6530e132c2e"
      },
      "source": [
        "!git status\n",
        "!git pull origin master\n",
        "!git add -A\n",
        "!git commit -am \"push cnn-with-bn-1000-k-2-m-01 results to github\"\n",
        "!git push origin master"
      ],
      "execution_count": null,
      "outputs": [
        {
          "output_type": "stream",
          "text": [
            "On branch master\n",
            "Changes not staged for commit:\n",
            "  (use \"git add <file>...\" to update what will be committed)\n",
            "  (use \"git checkout -- <file>...\" to discard changes in working directory)\n",
            "\n",
            "\t\u001b[31mmodified:   output/conf_list_2af0e3.txt\u001b[m\n",
            "\n",
            "Untracked files:\n",
            "  (use \"git add <file>...\" to include in what will be committed)\n",
            "\n",
            "\t\u001b[31mmodels/summary/plot_prediction_2af0e3_ConvolutionModelWithBatchNormalization.png\u001b[m\n",
            "\t\u001b[31mmodels/summary/plot_training_2af0e3_ConvolutionModelWithBatchNormalization.png\u001b[m\n",
            "\t\u001b[31mmodels/weights/json/config_2af0e3_ConvolutionModelWithBatchNormalization.json\u001b[m\n",
            "\t\u001b[31mmodels/weights/json/config_2af0e3_ConvolutionModelWithBatchNormalization_best.json\u001b[m\n",
            "\t\u001b[31mmodels/weights/weights_epoch_2af0e3_ConvolutionModelWithBatchNormalization.h5\u001b[m\n",
            "\t\u001b[31mmodels/weights/weights_epoch_2af0e3_ConvolutionModelWithBatchNormalization_aux.h5\u001b[m\n",
            "\t\u001b[31mmodels/weights/weights_epoch_2af0e3_ConvolutionModelWithBatchNormalization_best.h5\u001b[m\n",
            "\t\u001b[31moutput/training/cnn-with-bn-1000-k-2-m-01-out.txt\u001b[m\n",
            "\t\u001b[31mplots/2af0e3_ConvolutionModelWithBatchNormalization_plot.png\u001b[m\n",
            "\n",
            "no changes added to commit (use \"git add\" and/or \"git commit -a\")\n",
            "From https://github.com/mrezende/concra\n",
            " * branch            master     -> FETCH_HEAD\n",
            "Already up to date.\n",
            "[master f98b658] push cnn-with-bn-1000-k-2-m-01 results to github\n",
            " 10 files changed, 3611 insertions(+)\n",
            " create mode 100644 models/summary/plot_prediction_2af0e3_ConvolutionModelWithBatchNormalization.png\n",
            " create mode 100644 models/summary/plot_training_2af0e3_ConvolutionModelWithBatchNormalization.png\n",
            " create mode 100644 models/weights/json/config_2af0e3_ConvolutionModelWithBatchNormalization.json\n",
            " create mode 100644 models/weights/json/config_2af0e3_ConvolutionModelWithBatchNormalization_best.json\n",
            " create mode 100644 models/weights/weights_epoch_2af0e3_ConvolutionModelWithBatchNormalization.h5\n",
            " create mode 100644 models/weights/weights_epoch_2af0e3_ConvolutionModelWithBatchNormalization_aux.h5\n",
            " create mode 100644 models/weights/weights_epoch_2af0e3_ConvolutionModelWithBatchNormalization_best.h5\n",
            " create mode 100644 output/training/cnn-with-bn-1000-k-2-m-01-out.txt\n",
            " create mode 100644 plots/2af0e3_ConvolutionModelWithBatchNormalization_plot.png\n",
            "Counting objects: 15, done.\n",
            "Delta compression using up to 4 threads.\n",
            "Compressing objects: 100% (15/15), done.\n",
            "Writing objects: 100% (15/15), 51.37 MiB | 2.15 MiB/s, done.\n",
            "Total 15 (delta 7), reused 0 (delta 0)\n",
            "remote: Resolving deltas: 100% (7/7), completed with 7 local objects.\u001b[K\n",
            "To https://github.com/mrezende/concra.git\n",
            "   12e13af..f98b658  master -> master\n"
          ],
          "name": "stdout"
        }
      ]
    },
    {
      "cell_type": "code",
      "metadata": {
        "id": "jtDv7Q6RzgxA",
        "colab_type": "code",
        "colab": {}
      },
      "source": [
        "!python3 stack_over_flow_qa_eval.py --model cnn-with-bn --conf_file conf/stack_over_flow_conf_f_1000_k_2_m_02.json &> output/training/cnn-with-bn-1000-k-2-m-02-out.txt &"
      ],
      "execution_count": null,
      "outputs": []
    },
    {
      "cell_type": "code",
      "metadata": {
        "id": "eOF7aMS4zgly",
        "colab_type": "code",
        "colab": {
          "base_uri": "https://localhost:8080/",
          "height": 1000
        },
        "outputId": "d36ddd30-614a-46a1-94e8-3b0cd71f7263"
      },
      "source": [
        "!while ! grep \"<Figure\" output/training/cnn-with-bn-1000-k-2-m-02-out.txt;do tail -n 30 output/training/cnn-with-bn-1000-k-2-m-02-out.txt; sleep 10;done"
      ],
      "execution_count": null,
      "outputs": []
    },
    {
      "cell_type": "code",
      "metadata": {
        "id": "T7YnAobPzgbV",
        "colab_type": "code",
        "colab": {
          "base_uri": "https://localhost:8080/",
          "height": 748
        },
        "outputId": "a6247af3-1109-4837-a64e-0e5d7c3ab5db"
      },
      "source": [
        "!git status\n",
        "!git pull origin master\n",
        "!git add -A\n",
        "!git commit -am \"push cnn-with-bn-1000-k-2-m-02 results to github\"\n",
        "!git push origin master"
      ],
      "execution_count": null,
      "outputs": [
        {
          "output_type": "stream",
          "text": [
            "On branch master\n",
            "Changes not staged for commit:\n",
            "  (use \"git add <file>...\" to update what will be committed)\n",
            "  (use \"git checkout -- <file>...\" to discard changes in working directory)\n",
            "\n",
            "\t\u001b[31mmodified:   output/conf_list_4de9b3.txt\u001b[m\n",
            "\n",
            "Untracked files:\n",
            "  (use \"git add <file>...\" to include in what will be committed)\n",
            "\n",
            "\t\u001b[31mmodels/summary/plot_prediction_4de9b3_ConvolutionModelWithBatchNormalization.png\u001b[m\n",
            "\t\u001b[31mmodels/summary/plot_training_4de9b3_ConvolutionModelWithBatchNormalization.png\u001b[m\n",
            "\t\u001b[31mmodels/weights/json/config_4de9b3_ConvolutionModelWithBatchNormalization.json\u001b[m\n",
            "\t\u001b[31mmodels/weights/json/config_4de9b3_ConvolutionModelWithBatchNormalization_best.json\u001b[m\n",
            "\t\u001b[31mmodels/weights/weights_epoch_4de9b3_ConvolutionModelWithBatchNormalization.h5\u001b[m\n",
            "\t\u001b[31mmodels/weights/weights_epoch_4de9b3_ConvolutionModelWithBatchNormalization_aux.h5\u001b[m\n",
            "\t\u001b[31mmodels/weights/weights_epoch_4de9b3_ConvolutionModelWithBatchNormalization_best.h5\u001b[m\n",
            "\t\u001b[31moutput/training/cnn-with-bn-1000-k-2-m-02-out.txt\u001b[m\n",
            "\t\u001b[31mplots/4de9b3_ConvolutionModelWithBatchNormalization_plot.png\u001b[m\n",
            "\n",
            "no changes added to commit (use \"git add\" and/or \"git commit -a\")\n",
            "From https://github.com/mrezende/concra\n",
            " * branch            master     -> FETCH_HEAD\n",
            "Already up to date.\n",
            "[master f5ccf2b] push cnn-with-bn-1000-k-2-m-02 results to github\n",
            " 10 files changed, 2821 insertions(+)\n",
            " create mode 100644 models/summary/plot_prediction_4de9b3_ConvolutionModelWithBatchNormalization.png\n",
            " create mode 100644 models/summary/plot_training_4de9b3_ConvolutionModelWithBatchNormalization.png\n",
            " create mode 100644 models/weights/json/config_4de9b3_ConvolutionModelWithBatchNormalization.json\n",
            " create mode 100644 models/weights/json/config_4de9b3_ConvolutionModelWithBatchNormalization_best.json\n",
            " create mode 100644 models/weights/weights_epoch_4de9b3_ConvolutionModelWithBatchNormalization.h5\n",
            " create mode 100644 models/weights/weights_epoch_4de9b3_ConvolutionModelWithBatchNormalization_aux.h5\n",
            " create mode 100644 models/weights/weights_epoch_4de9b3_ConvolutionModelWithBatchNormalization_best.h5\n",
            " create mode 100644 output/training/cnn-with-bn-1000-k-2-m-02-out.txt\n",
            " create mode 100644 plots/4de9b3_ConvolutionModelWithBatchNormalization_plot.png\n",
            "Counting objects: 15, done.\n",
            "Delta compression using up to 4 threads.\n",
            "Compressing objects: 100% (15/15), done.\n",
            "Writing objects: 100% (15/15), 51.26 MiB | 2.20 MiB/s, done.\n",
            "Total 15 (delta 7), reused 0 (delta 0)\n",
            "remote: Resolving deltas: 100% (7/7), completed with 7 local objects.\u001b[K\n",
            "To https://github.com/mrezende/concra.git\n",
            "   f98b658..f5ccf2b  master -> master\n"
          ],
          "name": "stdout"
        }
      ]
    },
    {
      "cell_type": "code",
      "metadata": {
        "id": "6atZFYIqzgOI",
        "colab_type": "code",
        "colab": {}
      },
      "source": [
        "!python3 stack_over_flow_qa_eval.py --model cnn-with-bn --conf_file conf/stack_over_flow_conf_f_2000_k_2.json &> output/training/cnn-with-bn-2000-k-2-out.txt &"
      ],
      "execution_count": null,
      "outputs": []
    },
    {
      "cell_type": "code",
      "metadata": {
        "id": "iFWBZL_8zgCx",
        "colab_type": "code",
        "colab": {
          "base_uri": "https://localhost:8080/",
          "height": 1000
        },
        "outputId": "af0900f3-af37-491b-84bd-335b69bfe4c5"
      },
      "source": [
        "!while ! grep \"<Figure\" output/training/cnn-with-bn-2000-k-2-out.txt;do tail -n 30 output/training/cnn-with-bn-2000-k-2-out.txt; sleep 10;done"
      ],
      "execution_count": null,
      "outputs": []
    },
    {
      "cell_type": "code",
      "metadata": {
        "id": "a9dbhzTqzf40",
        "colab_type": "code",
        "colab": {
          "base_uri": "https://localhost:8080/",
          "height": 748
        },
        "outputId": "56143446-9b61-49d9-f7ed-e3d035dc6e99"
      },
      "source": [
        "!git status\n",
        "!git pull origin master\n",
        "!git add -A\n",
        "!git commit -am \"push cnn-with-bn-2000-k-2 results to github\"\n",
        "!git push origin master"
      ],
      "execution_count": null,
      "outputs": [
        {
          "output_type": "stream",
          "text": [
            "On branch master\n",
            "Changes not staged for commit:\n",
            "  (use \"git add <file>...\" to update what will be committed)\n",
            "  (use \"git checkout -- <file>...\" to discard changes in working directory)\n",
            "\n",
            "\t\u001b[31mmodified:   output/conf_list_75f501.txt\u001b[m\n",
            "\n",
            "Untracked files:\n",
            "  (use \"git add <file>...\" to include in what will be committed)\n",
            "\n",
            "\t\u001b[31mmodels/summary/plot_prediction_75f501_ConvolutionModelWithBatchNormalization.png\u001b[m\n",
            "\t\u001b[31mmodels/summary/plot_training_75f501_ConvolutionModelWithBatchNormalization.png\u001b[m\n",
            "\t\u001b[31mmodels/weights/json/config_75f501_ConvolutionModelWithBatchNormalization.json\u001b[m\n",
            "\t\u001b[31mmodels/weights/json/config_75f501_ConvolutionModelWithBatchNormalization_best.json\u001b[m\n",
            "\t\u001b[31mmodels/weights/weights_epoch_75f501_ConvolutionModelWithBatchNormalization.h5\u001b[m\n",
            "\t\u001b[31mmodels/weights/weights_epoch_75f501_ConvolutionModelWithBatchNormalization_aux.h5\u001b[m\n",
            "\t\u001b[31mmodels/weights/weights_epoch_75f501_ConvolutionModelWithBatchNormalization_best.h5\u001b[m\n",
            "\t\u001b[31moutput/training/cnn-with-bn-2000-k-2-out.txt\u001b[m\n",
            "\t\u001b[31mplots/75f501_ConvolutionModelWithBatchNormalization_plot.png\u001b[m\n",
            "\n",
            "no changes added to commit (use \"git add\" and/or \"git commit -a\")\n",
            "From https://github.com/mrezende/concra\n",
            " * branch            master     -> FETCH_HEAD\n",
            "Already up to date.\n",
            "[master dcc423c] push cnn-with-bn-2000-k-2 results to github\n",
            " 10 files changed, 4809 insertions(+)\n",
            " create mode 100644 models/summary/plot_prediction_75f501_ConvolutionModelWithBatchNormalization.png\n",
            " create mode 100644 models/summary/plot_training_75f501_ConvolutionModelWithBatchNormalization.png\n",
            " create mode 100644 models/weights/json/config_75f501_ConvolutionModelWithBatchNormalization.json\n",
            " create mode 100644 models/weights/json/config_75f501_ConvolutionModelWithBatchNormalization_best.json\n",
            " create mode 100644 models/weights/weights_epoch_75f501_ConvolutionModelWithBatchNormalization.h5\n",
            " create mode 100644 models/weights/weights_epoch_75f501_ConvolutionModelWithBatchNormalization_aux.h5\n",
            " create mode 100644 models/weights/weights_epoch_75f501_ConvolutionModelWithBatchNormalization_best.h5\n",
            " create mode 100644 output/training/cnn-with-bn-2000-k-2-out.txt\n",
            " create mode 100644 plots/75f501_ConvolutionModelWithBatchNormalization_plot.png\n",
            "Counting objects: 18, done.\n",
            "Delta compression using up to 4 threads.\n",
            "Compressing objects: 100% (18/18), done.\n",
            "Writing objects: 100% (18/18), 56.22 MiB | 2.28 MiB/s, done.\n",
            "Total 18 (delta 7), reused 0 (delta 0)\n",
            "remote: Resolving deltas: 100% (7/7), completed with 7 local objects.\u001b[K\n",
            "To https://github.com/mrezende/concra.git\n",
            "   f5ccf2b..dcc423c  master -> master\n"
          ],
          "name": "stdout"
        }
      ]
    },
    {
      "cell_type": "code",
      "metadata": {
        "id": "Wsx3l0Nkzfqk",
        "colab_type": "code",
        "colab": {}
      },
      "source": [
        "!python3 stack_over_flow_qa_eval.py --model cnn-with-bn --conf_file conf/stack_over_flow_conf_f_2000_k_2_m_005.json &> output/training/cnn-with-bn-2000-k-2-m-005-out.txt &"
      ],
      "execution_count": null,
      "outputs": []
    },
    {
      "cell_type": "code",
      "metadata": {
        "id": "G13wq-QGzffB",
        "colab_type": "code",
        "colab": {
          "base_uri": "https://localhost:8080/",
          "height": 1000
        },
        "outputId": "2b581697-b8e0-47a0-fdea-25c9f4520de4"
      },
      "source": [
        "!while ! grep \"<Figure\" output/training/cnn-with-bn-2000-k-2-m-005-out.txt;do tail -n 30 output/training/cnn-with-bn-2000-k-2-m-005-out.txt; sleep 10;done"
      ],
      "execution_count": null,
      "outputs": []
    },
    {
      "cell_type": "code",
      "metadata": {
        "id": "gO8y6MMuzfVE",
        "colab_type": "code",
        "colab": {
          "base_uri": "https://localhost:8080/",
          "height": 748
        },
        "outputId": "1994689f-1f31-469e-db22-3ee5b613561e"
      },
      "source": [
        "!git status\n",
        "!git pull origin master\n",
        "!git add -A\n",
        "!git commit -am \"push cnn-with-bn-2000-k-2-m-005 results to github\"\n",
        "!git push origin master"
      ],
      "execution_count": null,
      "outputs": [
        {
          "output_type": "stream",
          "text": [
            "On branch master\n",
            "Changes not staged for commit:\n",
            "  (use \"git add <file>...\" to update what will be committed)\n",
            "  (use \"git checkout -- <file>...\" to discard changes in working directory)\n",
            "\n",
            "\t\u001b[31mmodified:   output/conf_list_ccdf0f.txt\u001b[m\n",
            "\n",
            "Untracked files:\n",
            "  (use \"git add <file>...\" to include in what will be committed)\n",
            "\n",
            "\t\u001b[31mmodels/summary/plot_prediction_ccdf0f_ConvolutionModelWithBatchNormalization.png\u001b[m\n",
            "\t\u001b[31mmodels/summary/plot_training_ccdf0f_ConvolutionModelWithBatchNormalization.png\u001b[m\n",
            "\t\u001b[31mmodels/weights/json/config_ccdf0f_ConvolutionModelWithBatchNormalization.json\u001b[m\n",
            "\t\u001b[31mmodels/weights/json/config_ccdf0f_ConvolutionModelWithBatchNormalization_best.json\u001b[m\n",
            "\t\u001b[31mmodels/weights/weights_epoch_ccdf0f_ConvolutionModelWithBatchNormalization.h5\u001b[m\n",
            "\t\u001b[31mmodels/weights/weights_epoch_ccdf0f_ConvolutionModelWithBatchNormalization_aux.h5\u001b[m\n",
            "\t\u001b[31mmodels/weights/weights_epoch_ccdf0f_ConvolutionModelWithBatchNormalization_best.h5\u001b[m\n",
            "\t\u001b[31moutput/training/cnn-with-bn-2000-k-2-m-005-out.txt\u001b[m\n",
            "\t\u001b[31mplots/ccdf0f_ConvolutionModelWithBatchNormalization_plot.png\u001b[m\n",
            "\n",
            "no changes added to commit (use \"git add\" and/or \"git commit -a\")\n",
            "From https://github.com/mrezende/concra\n",
            " * branch            master     -> FETCH_HEAD\n",
            "Already up to date.\n",
            "[master 7dda721] push cnn-with-bn-2000-k-2-m-005 results to github\n",
            " 10 files changed, 3255 insertions(+)\n",
            " create mode 100644 models/summary/plot_prediction_ccdf0f_ConvolutionModelWithBatchNormalization.png\n",
            " create mode 100644 models/summary/plot_training_ccdf0f_ConvolutionModelWithBatchNormalization.png\n",
            " create mode 100644 models/weights/json/config_ccdf0f_ConvolutionModelWithBatchNormalization.json\n",
            " create mode 100644 models/weights/json/config_ccdf0f_ConvolutionModelWithBatchNormalization_best.json\n",
            " create mode 100644 models/weights/weights_epoch_ccdf0f_ConvolutionModelWithBatchNormalization.h5\n",
            " create mode 100644 models/weights/weights_epoch_ccdf0f_ConvolutionModelWithBatchNormalization_aux.h5\n",
            " create mode 100644 models/weights/weights_epoch_ccdf0f_ConvolutionModelWithBatchNormalization_best.h5\n",
            " create mode 100644 output/training/cnn-with-bn-2000-k-2-m-005-out.txt\n",
            " create mode 100644 plots/ccdf0f_ConvolutionModelWithBatchNormalization_plot.png\n",
            "Counting objects: 15, done.\n",
            "Delta compression using up to 4 threads.\n",
            "Compressing objects: 100% (15/15), done.\n",
            "Writing objects: 100% (15/15), 55.68 MiB | 2.26 MiB/s, done.\n",
            "Total 15 (delta 7), reused 0 (delta 0)\n",
            "remote: Resolving deltas: 100% (7/7), completed with 7 local objects.\u001b[K\n",
            "To https://github.com/mrezende/concra.git\n",
            "   dcc423c..7dda721  master -> master\n"
          ],
          "name": "stdout"
        }
      ]
    },
    {
      "cell_type": "code",
      "metadata": {
        "id": "xgZWUvTczQdd",
        "colab_type": "code",
        "colab": {}
      },
      "source": [
        "!python3 stack_over_flow_qa_eval.py --model cnn-with-bn --conf_file conf/stack_over_flow_conf_f_2000_k_2_m_01.json &> output/training/cnn-with-bn-2000-k-2-m-01-out.txt &"
      ],
      "execution_count": null,
      "outputs": []
    },
    {
      "cell_type": "code",
      "metadata": {
        "id": "odmESku2zQUQ",
        "colab_type": "code",
        "colab": {
          "base_uri": "https://localhost:8080/",
          "height": 1000
        },
        "outputId": "1dedd3fc-45a7-401b-ba99-897c3617b6f3"
      },
      "source": [
        "!while ! grep \"<Figure\" output/training/cnn-with-bn-2000-k-2-m-01-out.txt;do tail -n 30 output/training/cnn-with-bn-2000-k-2-m-01-out.txt; sleep 10;done"
      ],
      "execution_count": null,
      "outputs": []
    },
    {
      "cell_type": "code",
      "metadata": {
        "id": "kfpb2WlbzQKp",
        "colab_type": "code",
        "colab": {
          "base_uri": "https://localhost:8080/",
          "height": 748
        },
        "outputId": "c2c21145-7d4d-4f2d-e2a9-24ceba97643a"
      },
      "source": [
        "!git status\n",
        "!git pull origin master\n",
        "!git add -A\n",
        "!git commit -am \"push cnn-with-bn-2000-k-2-m-01 results to github\"\n",
        "!git push origin master"
      ],
      "execution_count": null,
      "outputs": [
        {
          "output_type": "stream",
          "text": [
            "On branch master\n",
            "Changes not staged for commit:\n",
            "  (use \"git add <file>...\" to update what will be committed)\n",
            "  (use \"git checkout -- <file>...\" to discard changes in working directory)\n",
            "\n",
            "\t\u001b[31mmodified:   output/conf_list_452b42.txt\u001b[m\n",
            "\n",
            "Untracked files:\n",
            "  (use \"git add <file>...\" to include in what will be committed)\n",
            "\n",
            "\t\u001b[31mmodels/summary/plot_prediction_452b42_ConvolutionModelWithBatchNormalization.png\u001b[m\n",
            "\t\u001b[31mmodels/summary/plot_training_452b42_ConvolutionModelWithBatchNormalization.png\u001b[m\n",
            "\t\u001b[31mmodels/weights/json/config_452b42_ConvolutionModelWithBatchNormalization.json\u001b[m\n",
            "\t\u001b[31mmodels/weights/json/config_452b42_ConvolutionModelWithBatchNormalization_best.json\u001b[m\n",
            "\t\u001b[31mmodels/weights/weights_epoch_452b42_ConvolutionModelWithBatchNormalization.h5\u001b[m\n",
            "\t\u001b[31mmodels/weights/weights_epoch_452b42_ConvolutionModelWithBatchNormalization_aux.h5\u001b[m\n",
            "\t\u001b[31mmodels/weights/weights_epoch_452b42_ConvolutionModelWithBatchNormalization_best.h5\u001b[m\n",
            "\t\u001b[31moutput/training/cnn-with-bn-2000-k-2-m-01-out.txt\u001b[m\n",
            "\t\u001b[31mplots/452b42_ConvolutionModelWithBatchNormalization_plot.png\u001b[m\n",
            "\n",
            "no changes added to commit (use \"git add\" and/or \"git commit -a\")\n",
            "From https://github.com/mrezende/concra\n",
            " * branch            master     -> FETCH_HEAD\n",
            "Already up to date.\n",
            "[master c907771] push cnn-with-bn-2000-k-2-m-01 results to github\n",
            " 10 files changed, 3343 insertions(+)\n",
            " create mode 100644 models/summary/plot_prediction_452b42_ConvolutionModelWithBatchNormalization.png\n",
            " create mode 100644 models/summary/plot_training_452b42_ConvolutionModelWithBatchNormalization.png\n",
            " create mode 100644 models/weights/json/config_452b42_ConvolutionModelWithBatchNormalization.json\n",
            " create mode 100644 models/weights/json/config_452b42_ConvolutionModelWithBatchNormalization_best.json\n",
            " create mode 100644 models/weights/weights_epoch_452b42_ConvolutionModelWithBatchNormalization.h5\n",
            " create mode 100644 models/weights/weights_epoch_452b42_ConvolutionModelWithBatchNormalization_aux.h5\n",
            " create mode 100644 models/weights/weights_epoch_452b42_ConvolutionModelWithBatchNormalization_best.h5\n",
            " create mode 100644 output/training/cnn-with-bn-2000-k-2-m-01-out.txt\n",
            " create mode 100644 plots/452b42_ConvolutionModelWithBatchNormalization_plot.png\n",
            "Counting objects: 15, done.\n",
            "Delta compression using up to 4 threads.\n",
            "Compressing objects: 100% (15/15), done.\n",
            "Writing objects: 100% (15/15), 55.70 MiB | 5.31 MiB/s, done.\n",
            "Total 15 (delta 7), reused 0 (delta 0)\n",
            "remote: Resolving deltas: 100% (7/7), completed with 7 local objects.\u001b[K\n",
            "To https://github.com/mrezende/concra.git\n",
            "   7dda721..c907771  master -> master\n"
          ],
          "name": "stdout"
        }
      ]
    },
    {
      "cell_type": "code",
      "metadata": {
        "id": "w5_t_t_9zP9w",
        "colab_type": "code",
        "colab": {}
      },
      "source": [
        "!python3 stack_oveir_flow_qa_eval.py --model cnn-with-bn --conf_file conf/stack_over_flow_conf_f_2000_k_2_m_02.json &> output/training/cnn-with-bn-2000-k-2-m-02-out.txt &"
      ],
      "execution_count": null,
      "outputs": []
    },
    {
      "cell_type": "code",
      "metadata": {
        "id": "ZoGrm_14zPzn",
        "colab_type": "code",
        "colab": {
          "base_uri": "https://localhost:8080/",
          "height": 1000
        },
        "outputId": "ee251aea-5fbc-4c84-d20a-9efcc5252a0a"
      },
      "source": [
        "!while ! grep \"<Figure\" output/training/cnn-with-bn-2000-k-2-m-02-out.txt;do tail -n 30 output/training/cnn-with-bn-2000-k-2-m-02-out.txt; sleep 10;done"
      ],
      "execution_count": null,
      "outputs": []
    },
    {
      "cell_type": "code",
      "metadata": {
        "id": "JhY8s3S_zPqd",
        "colab_type": "code",
        "colab": {
          "base_uri": "https://localhost:8080/",
          "height": 765
        },
        "outputId": "e1f9971c-d5ec-426a-f07a-daccb0651df4"
      },
      "source": [
        "!git status\n",
        "!git pull origin master\n",
        "!git add -A\n",
        "!git commit -am \"push cnn-with-bn-2000-k-2-m-02 results to github\"\n",
        "!git push origin master"
      ],
      "execution_count": null,
      "outputs": [
        {
          "output_type": "stream",
          "text": [
            "On branch master\n",
            "Changes not staged for commit:\n",
            "  (use \"git add <file>...\" to update what will be committed)\n",
            "  (use \"git checkout -- <file>...\" to discard changes in working directory)\n",
            "\n",
            "\t\u001b[31mmodified:   output/conf_list_c790da.txt\u001b[m\n",
            "\n",
            "Untracked files:\n",
            "  (use \"git add <file>...\" to include in what will be committed)\n",
            "\n",
            "\t\u001b[31mmodels/summary/plot_prediction_c790da_ConvolutionModelWithBatchNormalization.png\u001b[m\n",
            "\t\u001b[31mmodels/summary/plot_training_c790da_ConvolutionModelWithBatchNormalization.png\u001b[m\n",
            "\t\u001b[31mmodels/weights/json/config_c790da_ConvolutionModelWithBatchNormalization.json\u001b[m\n",
            "\t\u001b[31mmodels/weights/json/config_c790da_ConvolutionModelWithBatchNormalization_best.json\u001b[m\n",
            "\t\u001b[31mmodels/weights/weights_epoch_c790da_ConvolutionModelWithBatchNormalization.h5\u001b[m\n",
            "\t\u001b[31mmodels/weights/weights_epoch_c790da_ConvolutionModelWithBatchNormalization_aux.h5\u001b[m\n",
            "\t\u001b[31mmodels/weights/weights_epoch_c790da_ConvolutionModelWithBatchNormalization_best.h5\u001b[m\n",
            "\t\u001b[31moutput/training/cnn-with-bn-2000-k-2-m-02-out.txt\u001b[m\n",
            "\t\u001b[31mplots/c790da_ConvolutionModelWithBatchNormalization_plot.png\u001b[m\n",
            "\n",
            "no changes added to commit (use \"git add\" and/or \"git commit -a\")\n",
            "From https://github.com/mrezende/concra\n",
            " * branch            master     -> FETCH_HEAD\n",
            " * [new branch]      master     -> origin/master\n",
            "Already up to date.\n",
            "[master 48e9274] push cnn-with-bn-2000-k-2-m-02 results to github\n",
            " 10 files changed, 3079 insertions(+)\n",
            " create mode 100644 models/summary/plot_prediction_c790da_ConvolutionModelWithBatchNormalization.png\n",
            " create mode 100644 models/summary/plot_training_c790da_ConvolutionModelWithBatchNormalization.png\n",
            " create mode 100644 models/weights/json/config_c790da_ConvolutionModelWithBatchNormalization.json\n",
            " create mode 100644 models/weights/json/config_c790da_ConvolutionModelWithBatchNormalization_best.json\n",
            " create mode 100644 models/weights/weights_epoch_c790da_ConvolutionModelWithBatchNormalization.h5\n",
            " create mode 100644 models/weights/weights_epoch_c790da_ConvolutionModelWithBatchNormalization_aux.h5\n",
            " create mode 100644 models/weights/weights_epoch_c790da_ConvolutionModelWithBatchNormalization_best.h5\n",
            " create mode 100644 output/training/cnn-with-bn-2000-k-2-m-02-out.txt\n",
            " create mode 100644 plots/c790da_ConvolutionModelWithBatchNormalization_plot.png\n",
            "Counting objects: 16, done.\n",
            "Delta compression using up to 4 threads.\n",
            "Compressing objects: 100% (16/16), done.\n",
            "Writing objects: 100% (16/16), 55.66 MiB | 4.13 MiB/s, done.\n",
            "Total 16 (delta 7), reused 0 (delta 0)\n",
            "remote: Resolving deltas: 100% (7/7), completed with 7 local objects.\u001b[K\n",
            "To https://github.com/mrezende/concra.git\n",
            "   c907771..48e9274  master -> master\n"
          ],
          "name": "stdout"
        }
      ]
    },
    {
      "cell_type": "code",
      "metadata": {
        "id": "j3rzkWKozPf-",
        "colab_type": "code",
        "colab": {}
      },
      "source": [
        "!python3 stack_over_flow_qa_eval.py --model cnn-with-bn --conf_file conf/stack_over_flow_conf_f_4000_k_2.json &> output/training/cnn-with-bn-4000-k-2-out.txt &"
      ],
      "execution_count": null,
      "outputs": []
    },
    {
      "cell_type": "code",
      "metadata": {
        "id": "p9slCRT7zPWm",
        "colab_type": "code",
        "colab": {
          "base_uri": "https://localhost:8080/",
          "height": 1000
        },
        "outputId": "9bfa3aa3-f180-4f47-a880-2861ad22ee63"
      },
      "source": [
        "!while ! grep \"<Figure\" output/training/cnn-with-bn-4000-k-2-out.txt;do tail -n 30 output/training/cnn-with-bn-4000-k-2-out.txt; sleep 10;done"
      ],
      "execution_count": null,
      "outputs": []
    },
    {
      "cell_type": "code",
      "metadata": {
        "id": "qC5s5JgtzPNZ",
        "colab_type": "code",
        "colab": {
          "base_uri": "https://localhost:8080/",
          "height": 748
        },
        "outputId": "9f88c7fd-8014-4562-9408-2dd79a1e4e59"
      },
      "source": [
        "!git status\n",
        "!git pull origin master\n",
        "!git add -A\n",
        "!git commit -am \"push cnn-with-bn-4000-k-2 results to github\"\n",
        "!git push origin master"
      ],
      "execution_count": null,
      "outputs": [
        {
          "output_type": "stream",
          "text": [
            "On branch master\n",
            "Changes not staged for commit:\n",
            "  (use \"git add <file>...\" to update what will be committed)\n",
            "  (use \"git checkout -- <file>...\" to discard changes in working directory)\n",
            "\n",
            "\t\u001b[31mmodified:   output/conf_list_5f3100.txt\u001b[m\n",
            "\n",
            "Untracked files:\n",
            "  (use \"git add <file>...\" to include in what will be committed)\n",
            "\n",
            "\t\u001b[31mmodels/summary/plot_prediction_5f3100_ConvolutionModelWithBatchNormalization.png\u001b[m\n",
            "\t\u001b[31mmodels/summary/plot_training_5f3100_ConvolutionModelWithBatchNormalization.png\u001b[m\n",
            "\t\u001b[31mmodels/weights/json/config_5f3100_ConvolutionModelWithBatchNormalization.json\u001b[m\n",
            "\t\u001b[31mmodels/weights/json/config_5f3100_ConvolutionModelWithBatchNormalization_best.json\u001b[m\n",
            "\t\u001b[31mmodels/weights/weights_epoch_5f3100_ConvolutionModelWithBatchNormalization.h5\u001b[m\n",
            "\t\u001b[31mmodels/weights/weights_epoch_5f3100_ConvolutionModelWithBatchNormalization_aux.h5\u001b[m\n",
            "\t\u001b[31mmodels/weights/weights_epoch_5f3100_ConvolutionModelWithBatchNormalization_best.h5\u001b[m\n",
            "\t\u001b[31moutput/training/cnn-with-bn-4000-k-2-out.txt\u001b[m\n",
            "\t\u001b[31mplots/5f3100_ConvolutionModelWithBatchNormalization_plot.png\u001b[m\n",
            "\n",
            "no changes added to commit (use \"git add\" and/or \"git commit -a\")\n",
            "From https://github.com/mrezende/concra\n",
            " * branch            master     -> FETCH_HEAD\n",
            "Already up to date.\n",
            "[master e9b0e43] push cnn-with-bn-4000-k-2 results to github\n",
            " 10 files changed, 3167 insertions(+)\n",
            " create mode 100644 models/summary/plot_prediction_5f3100_ConvolutionModelWithBatchNormalization.png\n",
            " create mode 100644 models/summary/plot_training_5f3100_ConvolutionModelWithBatchNormalization.png\n",
            " create mode 100644 models/weights/json/config_5f3100_ConvolutionModelWithBatchNormalization.json\n",
            " create mode 100644 models/weights/json/config_5f3100_ConvolutionModelWithBatchNormalization_best.json\n",
            " create mode 100644 models/weights/weights_epoch_5f3100_ConvolutionModelWithBatchNormalization.h5\n",
            " create mode 100644 models/weights/weights_epoch_5f3100_ConvolutionModelWithBatchNormalization_aux.h5\n",
            " create mode 100644 models/weights/weights_epoch_5f3100_ConvolutionModelWithBatchNormalization_best.h5\n",
            " create mode 100644 output/training/cnn-with-bn-4000-k-2-out.txt\n",
            " create mode 100644 plots/5f3100_ConvolutionModelWithBatchNormalization_plot.png\n",
            "Counting objects: 18, done.\n",
            "Delta compression using up to 4 threads.\n",
            "Compressing objects: 100% (18/18), done.\n",
            "Writing objects: 100% (18/18), 64.64 MiB | 11.10 MiB/s, done.\n",
            "Total 18 (delta 7), reused 0 (delta 0)\n",
            "remote: Resolving deltas: 100% (7/7), completed with 7 local objects.\u001b[K\n",
            "To https://github.com/mrezende/concra.git\n",
            "   48e9274..e9b0e43  master -> master\n"
          ],
          "name": "stdout"
        }
      ]
    },
    {
      "cell_type": "code",
      "metadata": {
        "id": "QYvx3lrezCmv",
        "colab_type": "code",
        "colab": {}
      },
      "source": [
        "!python3 stack_over_flow_qa_eval.py --model cnn-with-bn --conf_file conf/stack_over_flow_conf_f_4000_k_2_m_005.json &> output/training/cnn-with-bn-4000-k-2-m-005-out.txt &"
      ],
      "execution_count": null,
      "outputs": []
    },
    {
      "cell_type": "code",
      "metadata": {
        "id": "aR6-dBtZzCcv",
        "colab_type": "code",
        "colab": {
          "base_uri": "https://localhost:8080/",
          "height": 1000
        },
        "outputId": "c71bc58f-72fe-476e-e937-403cb611a72e"
      },
      "source": [
        "!while ! grep \"<Figure\" output/training/cnn-with-bn-4000-k-2-m-005-out.txt;do tail -n 30 output/training/cnn-with-bn-4000-k-2-m-005-out.txt; sleep 10;done"
      ],
      "execution_count": null,
      "outputs": []
    },
    {
      "cell_type": "code",
      "metadata": {
        "id": "MsEubuiezCRt",
        "colab_type": "code",
        "colab": {
          "base_uri": "https://localhost:8080/",
          "height": 748
        },
        "outputId": "905b36ed-7dbc-4ab7-f8b5-f344bcd72ee3"
      },
      "source": [
        "!git status\n",
        "!git pull origin master\n",
        "!git add -A\n",
        "!git commit -am \"push cnn-with-bn-4000-k-2-m-005 results to github\"\n",
        "!git push origin master"
      ],
      "execution_count": null,
      "outputs": [
        {
          "output_type": "stream",
          "text": [
            "On branch master\n",
            "Changes not staged for commit:\n",
            "  (use \"git add <file>...\" to update what will be committed)\n",
            "  (use \"git checkout -- <file>...\" to discard changes in working directory)\n",
            "\n",
            "\t\u001b[31mmodified:   output/conf_list_ca8cf5.txt\u001b[m\n",
            "\n",
            "Untracked files:\n",
            "  (use \"git add <file>...\" to include in what will be committed)\n",
            "\n",
            "\t\u001b[31mmodels/summary/plot_prediction_ca8cf5_ConvolutionModelWithBatchNormalization.png\u001b[m\n",
            "\t\u001b[31mmodels/summary/plot_training_ca8cf5_ConvolutionModelWithBatchNormalization.png\u001b[m\n",
            "\t\u001b[31mmodels/weights/json/config_ca8cf5_ConvolutionModelWithBatchNormalization.json\u001b[m\n",
            "\t\u001b[31mmodels/weights/json/config_ca8cf5_ConvolutionModelWithBatchNormalization_best.json\u001b[m\n",
            "\t\u001b[31mmodels/weights/weights_epoch_ca8cf5_ConvolutionModelWithBatchNormalization.h5\u001b[m\n",
            "\t\u001b[31mmodels/weights/weights_epoch_ca8cf5_ConvolutionModelWithBatchNormalization_aux.h5\u001b[m\n",
            "\t\u001b[31mmodels/weights/weights_epoch_ca8cf5_ConvolutionModelWithBatchNormalization_best.h5\u001b[m\n",
            "\t\u001b[31moutput/training/cnn-with-bn-4000-k-2-m-005-out.txt\u001b[m\n",
            "\t\u001b[31mplots/ca8cf5_ConvolutionModelWithBatchNormalization_plot.png\u001b[m\n",
            "\n",
            "no changes added to commit (use \"git add\" and/or \"git commit -a\")\n",
            "From https://github.com/mrezende/concra\n",
            " * branch            master     -> FETCH_HEAD\n",
            "Already up to date.\n",
            "[master 0a7cf1b] push cnn-with-bn-4000-k-2-m-005 results to github\n",
            " 10 files changed, 3167 insertions(+)\n",
            " create mode 100644 models/summary/plot_prediction_ca8cf5_ConvolutionModelWithBatchNormalization.png\n",
            " create mode 100644 models/summary/plot_training_ca8cf5_ConvolutionModelWithBatchNormalization.png\n",
            " create mode 100644 models/weights/json/config_ca8cf5_ConvolutionModelWithBatchNormalization.json\n",
            " create mode 100644 models/weights/json/config_ca8cf5_ConvolutionModelWithBatchNormalization_best.json\n",
            " create mode 100644 models/weights/weights_epoch_ca8cf5_ConvolutionModelWithBatchNormalization.h5\n",
            " create mode 100644 models/weights/weights_epoch_ca8cf5_ConvolutionModelWithBatchNormalization_aux.h5\n",
            " create mode 100644 models/weights/weights_epoch_ca8cf5_ConvolutionModelWithBatchNormalization_best.h5\n",
            " create mode 100644 output/training/cnn-with-bn-4000-k-2-m-005-out.txt\n",
            " create mode 100644 plots/ca8cf5_ConvolutionModelWithBatchNormalization_plot.png\n",
            "Counting objects: 15, done.\n",
            "Delta compression using up to 4 threads.\n",
            "Compressing objects: 100% (15/15), done.\n",
            "Writing objects: 100% (15/15), 64.25 MiB | 11.66 MiB/s, done.\n",
            "Total 15 (delta 7), reused 0 (delta 0)\n",
            "remote: Resolving deltas: 100% (7/7), completed with 7 local objects.\u001b[K\n",
            "To https://github.com/mrezende/concra.git\n",
            "   e9b0e43..0a7cf1b  master -> master\n"
          ],
          "name": "stdout"
        }
      ]
    },
    {
      "cell_type": "code",
      "metadata": {
        "id": "1lVv-K7vzCCR",
        "colab_type": "code",
        "colab": {}
      },
      "source": [
        "!python3 stack_over_flow_qa_eval.py --model cnn-with-bn --conf_file conf/stack_over_flow_conf_f_4000_k_2_m_01.json &> output/training/cnn-with-bn-4000-k-2-m-01-out.txt &"
      ],
      "execution_count": null,
      "outputs": []
    },
    {
      "cell_type": "code",
      "metadata": {
        "id": "iIC8SXUYzB4i",
        "colab_type": "code",
        "colab": {
          "base_uri": "https://localhost:8080/",
          "height": 1000
        },
        "outputId": "04022967-48d7-4c09-be57-df47b2f3b6b9"
      },
      "source": [
        "!while ! grep \"<Figure\" output/training/cnn-with-bn-4000-k-2-m-01-out.txt;do tail -n 30 output/training/cnn-with-bn-4000-k-2-m-01-out.txt; sleep 10;done"
      ],
      "execution_count": null,
      "outputs": []
    },
    {
      "cell_type": "code",
      "metadata": {
        "id": "XOn76YTszBva",
        "colab_type": "code",
        "colab": {
          "base_uri": "https://localhost:8080/",
          "height": 748
        },
        "outputId": "97109ced-b9c8-4eae-a16b-7756a2fcf7c4"
      },
      "source": [
        "!git status\n",
        "!git pull origin master\n",
        "!git add -A\n",
        "!git commit -am \"push cnn-with-bn-4000-k-2-m-01 results to github\"\n",
        "!git push origin master"
      ],
      "execution_count": null,
      "outputs": [
        {
          "output_type": "stream",
          "text": [
            "On branch master\n",
            "Changes not staged for commit:\n",
            "  (use \"git add <file>...\" to update what will be committed)\n",
            "  (use \"git checkout -- <file>...\" to discard changes in working directory)\n",
            "\n",
            "\t\u001b[31mmodified:   output/conf_list_3b34a4.txt\u001b[m\n",
            "\n",
            "Untracked files:\n",
            "  (use \"git add <file>...\" to include in what will be committed)\n",
            "\n",
            "\t\u001b[31mmodels/summary/plot_prediction_3b34a4_ConvolutionModelWithBatchNormalization.png\u001b[m\n",
            "\t\u001b[31mmodels/summary/plot_training_3b34a4_ConvolutionModelWithBatchNormalization.png\u001b[m\n",
            "\t\u001b[31mmodels/weights/json/config_3b34a4_ConvolutionModelWithBatchNormalization.json\u001b[m\n",
            "\t\u001b[31mmodels/weights/json/config_3b34a4_ConvolutionModelWithBatchNormalization_best.json\u001b[m\n",
            "\t\u001b[31mmodels/weights/weights_epoch_3b34a4_ConvolutionModelWithBatchNormalization.h5\u001b[m\n",
            "\t\u001b[31mmodels/weights/weights_epoch_3b34a4_ConvolutionModelWithBatchNormalization_aux.h5\u001b[m\n",
            "\t\u001b[31mmodels/weights/weights_epoch_3b34a4_ConvolutionModelWithBatchNormalization_best.h5\u001b[m\n",
            "\t\u001b[31moutput/training/cnn-with-bn-4000-k-2-m-01-out.txt\u001b[m\n",
            "\t\u001b[31mplots/3b34a4_ConvolutionModelWithBatchNormalization_plot.png\u001b[m\n",
            "\n",
            "no changes added to commit (use \"git add\" and/or \"git commit -a\")\n",
            "From https://github.com/mrezende/concra\n",
            " * branch            master     -> FETCH_HEAD\n",
            "Already up to date.\n",
            "[master 86b66d3] push cnn-with-bn-4000-k-2-m-01 results to github\n",
            " 10 files changed, 3087 insertions(+)\n",
            " create mode 100644 models/summary/plot_prediction_3b34a4_ConvolutionModelWithBatchNormalization.png\n",
            " create mode 100644 models/summary/plot_training_3b34a4_ConvolutionModelWithBatchNormalization.png\n",
            " create mode 100644 models/weights/json/config_3b34a4_ConvolutionModelWithBatchNormalization.json\n",
            " create mode 100644 models/weights/json/config_3b34a4_ConvolutionModelWithBatchNormalization_best.json\n",
            " create mode 100644 models/weights/weights_epoch_3b34a4_ConvolutionModelWithBatchNormalization.h5\n",
            " create mode 100644 models/weights/weights_epoch_3b34a4_ConvolutionModelWithBatchNormalization_aux.h5\n",
            " create mode 100644 models/weights/weights_epoch_3b34a4_ConvolutionModelWithBatchNormalization_best.h5\n",
            " create mode 100644 output/training/cnn-with-bn-4000-k-2-m-01-out.txt\n",
            " create mode 100644 plots/3b34a4_ConvolutionModelWithBatchNormalization_plot.png\n",
            "Counting objects: 15, done.\n",
            "Delta compression using up to 4 threads.\n",
            "Compressing objects: 100% (15/15), done.\n",
            "Writing objects: 100% (15/15), 64.25 MiB | 10.67 MiB/s, done.\n",
            "Total 15 (delta 7), reused 0 (delta 0)\n",
            "remote: Resolving deltas: 100% (7/7), completed with 7 local objects.\u001b[K\n",
            "To https://github.com/mrezende/concra.git\n",
            "   0a7cf1b..86b66d3  master -> master\n"
          ],
          "name": "stdout"
        }
      ]
    },
    {
      "cell_type": "code",
      "metadata": {
        "id": "NOQP8A50zBh8",
        "colab_type": "code",
        "colab": {}
      },
      "source": [
        "!python3 stack_over_flow_qa_eval.py --model cnn-with-bn --conf_file conf/stack_over_flow_conf_f_4000_k_2_m_02.json &> output/training/cnn-with-bn-4000-k-2-m-02-out.txt &"
      ],
      "execution_count": null,
      "outputs": []
    },
    {
      "cell_type": "code",
      "metadata": {
        "id": "Qk3niHuuzBOh",
        "colab_type": "code",
        "colab": {
          "base_uri": "https://localhost:8080/",
          "height": 1000
        },
        "outputId": "a4b83ec1-3d98-473e-9b86-43c43ec7b031"
      },
      "source": [
        "!while ! grep \"<Figure\" output/training/cnn-with-bn-4000-k-2-m-02-out.txt;do tail -n 30 output/training/cnn-with-bn-4000-k-2-m-02-out.txt; sleep 10;done"
      ],
      "execution_count": null,
      "outputs": []
    },
    {
      "cell_type": "code",
      "metadata": {
        "id": "YzTBl8Y1zA79",
        "colab_type": "code",
        "colab": {
          "base_uri": "https://localhost:8080/",
          "height": 748
        },
        "outputId": "5013522e-1800-46d1-bd27-2f909e9635f6"
      },
      "source": [
        "!git status\n",
        "!git pull origin master\n",
        "!git add -A\n",
        "!git commit -am \"push cnn-with-bn-4000-k-2-m-02 results to github\"\n",
        "!git push origin master"
      ],
      "execution_count": null,
      "outputs": [
        {
          "output_type": "stream",
          "text": [
            "On branch master\n",
            "Changes not staged for commit:\n",
            "  (use \"git add <file>...\" to update what will be committed)\n",
            "  (use \"git checkout -- <file>...\" to discard changes in working directory)\n",
            "\n",
            "\t\u001b[31mmodified:   output/conf_list_19af70.txt\u001b[m\n",
            "\n",
            "Untracked files:\n",
            "  (use \"git add <file>...\" to include in what will be committed)\n",
            "\n",
            "\t\u001b[31mmodels/summary/plot_prediction_19af70_ConvolutionModelWithBatchNormalization.png\u001b[m\n",
            "\t\u001b[31mmodels/summary/plot_training_19af70_ConvolutionModelWithBatchNormalization.png\u001b[m\n",
            "\t\u001b[31mmodels/weights/json/config_19af70_ConvolutionModelWithBatchNormalization.json\u001b[m\n",
            "\t\u001b[31mmodels/weights/json/config_19af70_ConvolutionModelWithBatchNormalization_best.json\u001b[m\n",
            "\t\u001b[31mmodels/weights/weights_epoch_19af70_ConvolutionModelWithBatchNormalization.h5\u001b[m\n",
            "\t\u001b[31mmodels/weights/weights_epoch_19af70_ConvolutionModelWithBatchNormalization_aux.h5\u001b[m\n",
            "\t\u001b[31mmodels/weights/weights_epoch_19af70_ConvolutionModelWithBatchNormalization_best.h5\u001b[m\n",
            "\t\u001b[31moutput/training/cnn-with-bn-4000-k-2-m-02-out.txt\u001b[m\n",
            "\t\u001b[31mplots/19af70_ConvolutionModelWithBatchNormalization_plot.png\u001b[m\n",
            "\n",
            "no changes added to commit (use \"git add\" and/or \"git commit -a\")\n",
            "From https://github.com/mrezende/concra\n",
            " * branch            master     -> FETCH_HEAD\n",
            "Already up to date.\n",
            "[master 76bba9b] push cnn-with-bn-4000-k-2-m-02 results to github\n",
            " 10 files changed, 2991 insertions(+)\n",
            " create mode 100644 models/summary/plot_prediction_19af70_ConvolutionModelWithBatchNormalization.png\n",
            " create mode 100644 models/summary/plot_training_19af70_ConvolutionModelWithBatchNormalization.png\n",
            " create mode 100644 models/weights/json/config_19af70_ConvolutionModelWithBatchNormalization.json\n",
            " create mode 100644 models/weights/json/config_19af70_ConvolutionModelWithBatchNormalization_best.json\n",
            " create mode 100644 models/weights/weights_epoch_19af70_ConvolutionModelWithBatchNormalization.h5\n",
            " create mode 100644 models/weights/weights_epoch_19af70_ConvolutionModelWithBatchNormalization_aux.h5\n",
            " create mode 100644 models/weights/weights_epoch_19af70_ConvolutionModelWithBatchNormalization_best.h5\n",
            " create mode 100644 output/training/cnn-with-bn-4000-k-2-m-02-out.txt\n",
            " create mode 100644 plots/19af70_ConvolutionModelWithBatchNormalization_plot.png\n",
            "Counting objects: 15, done.\n",
            "Delta compression using up to 4 threads.\n",
            "Compressing objects: 100% (15/15), done.\n",
            "Writing objects: 100% (15/15), 64.32 MiB | 4.39 MiB/s, done.\n",
            "Total 15 (delta 7), reused 0 (delta 0)\n",
            "remote: Resolving deltas: 100% (7/7), completed with 7 local objects.\u001b[K\n",
            "To https://github.com/mrezende/concra.git\n",
            "   86b66d3..76bba9b  master -> master\n"
          ],
          "name": "stdout"
        }
      ]
    }
  ]
}