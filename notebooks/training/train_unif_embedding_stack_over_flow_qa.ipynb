{
  "nbformat": 4,
  "nbformat_minor": 0,
  "metadata": {
    "colab": {
      "name": "train_unif_embedding_stack_over_flow_qa.ipynb",
      "provenance": [],
      "collapsed_sections": [],
      "machine_shape": "hm"
    },
    "kernelspec": {
      "name": "python3",
      "display_name": "Python 3"
    },
    "accelerator": "GPU"
  },
  "cells": [
    {
      "cell_type": "markdown",
      "metadata": {
        "id": "oxuEMO3OMWZm",
        "colab_type": "text"
      },
      "source": [
        "Specifying tensorflow version"
      ]
    },
    {
      "cell_type": "code",
      "metadata": {
        "id": "F0BvjKT5Maob",
        "colab_type": "code",
        "colab": {
          "base_uri": "https://localhost:8080/",
          "height": 34
        },
        "outputId": "9c32b0e8-55ee-4062-e4d4-580e141aaa7b"
      },
      "source": [
        "%tensorflow_version 1.x"
      ],
      "execution_count": null,
      "outputs": [
        {
          "output_type": "stream",
          "text": [
            "TensorFlow 1.x selected.\n"
          ],
          "name": "stdout"
        }
      ]
    },
    {
      "cell_type": "markdown",
      "metadata": {
        "id": "JquYQliaUJkZ",
        "colab_type": "text"
      },
      "source": [
        "Retrieving dataset repository"
      ]
    },
    {
      "cell_type": "code",
      "metadata": {
        "id": "1xx7efUpQxd-",
        "colab_type": "code",
        "colab": {
          "base_uri": "https://localhost:8080/",
          "height": 119
        },
        "outputId": "23411c88-419e-4aad-bef3-cf1f091fa8c1"
      },
      "source": [
        "!git clone https://github.com/mrezende/concra.git"
      ],
      "execution_count": null,
      "outputs": [
        {
          "output_type": "stream",
          "text": [
            "Cloning into 'concra'...\n",
            "remote: Enumerating objects: 1166, done.\u001b[K\n",
            "remote: Total 1166 (delta 0), reused 0 (delta 0), pack-reused 1166\u001b[K\n",
            "Receiving objects: 100% (1166/1166), 3.25 GiB | 37.51 MiB/s, done.\n",
            "Resolving deltas: 100% (748/748), done.\n",
            "Checking out files: 100% (688/688), done.\n"
          ],
          "name": "stdout"
        }
      ]
    },
    {
      "cell_type": "markdown",
      "metadata": {
        "id": "LrcYsIKFRObs",
        "colab_type": "text"
      },
      "source": [
        "Setting STACK_OVER_FLOW_QA variable"
      ]
    },
    {
      "cell_type": "code",
      "metadata": {
        "id": "oRSoa6CeReSj",
        "colab_type": "code",
        "colab": {}
      },
      "source": [
        "import os\n",
        "os.environ['STACK_OVER_FLOW_QA'] = '/content/concra/data/'"
      ],
      "execution_count": null,
      "outputs": []
    },
    {
      "cell_type": "markdown",
      "metadata": {
        "id": "P--8gnq4SVqb",
        "colab_type": "text"
      },
      "source": [
        "Run code from yacra repository"
      ]
    },
    {
      "cell_type": "code",
      "metadata": {
        "id": "gqC5B_OuSdE8",
        "colab_type": "code",
        "colab": {
          "base_uri": "https://localhost:8080/",
          "height": 34
        },
        "outputId": "bcb02ee5-f1c5-4553-9d6f-08525f46f9a6"
      },
      "source": [
        "%cd concra/"
      ],
      "execution_count": null,
      "outputs": [
        {
          "output_type": "stream",
          "text": [
            "/content/concra\n"
          ],
          "name": "stdout"
        }
      ]
    },
    {
      "cell_type": "markdown",
      "metadata": {
        "id": "y8Qm0emE4_X7",
        "colab_type": "text"
      },
      "source": [
        "Define user and name to push files to Github"
      ]
    },
    {
      "cell_type": "code",
      "metadata": {
        "id": "CeoY9dAa41ej",
        "colab_type": "code",
        "colab": {}
      },
      "source": [
        "!git config --global user.email \"rezende.martins@gmail.com\"\n",
        "!git config --global user.name \"Marcelo Martins\""
      ],
      "execution_count": null,
      "outputs": []
    },
    {
      "cell_type": "code",
      "metadata": {
        "id": "QbKo_tiG6wUE",
        "colab_type": "code",
        "colab": {}
      },
      "source": [
        "!git remote rm origin"
      ],
      "execution_count": null,
      "outputs": []
    },
    {
      "cell_type": "code",
      "metadata": {
        "id": "z-mqhNrl-3ts",
        "colab_type": "code",
        "colab": {}
      },
      "source": [
        "!git remote add origin <REMOTE ORIGIN ADRESS>"
      ],
      "execution_count": null,
      "outputs": []
    },
    {
      "cell_type": "markdown",
      "metadata": {
        "id": "3j0UO368ylzg",
        "colab_type": "text"
      },
      "source": [
        "--------- embedding --------------"
      ]
    },
    {
      "cell_type": "code",
      "metadata": {
        "id": "wfQqcKkRoRuH",
        "colab_type": "code",
        "colab": {}
      },
      "source": [
        "!python3 stack_over_flow_qa_eval.py --model embedding --conf_file conf/stack_over_flow_conf_f_4000_k_2.json &> output/training/embedding-4000-k-2-out.txt &"
      ],
      "execution_count": null,
      "outputs": []
    },
    {
      "cell_type": "code",
      "metadata": {
        "id": "AVZR6gSqoRkP",
        "colab_type": "code",
        "colab": {
          "base_uri": "https://localhost:8080/",
          "height": 1000
        },
        "outputId": "08a1c598-d2eb-460e-aac9-bae01ae32c1f"
      },
      "source": [
        "!while ! grep \"<Figure\" output/training/embedding-4000-k-2-out.txt;do tail -n 30 output/training/embedding-4000-k-2-out.txt; sleep 10;done"
      ],
      "execution_count": null,
      "outputs": []
    },
    {
      "cell_type": "code",
      "metadata": {
        "id": "2O3OAd2AoRaf",
        "colab_type": "code",
        "colab": {
          "base_uri": "https://localhost:8080/",
          "height": 765
        },
        "outputId": "2f0a2ad2-8fd9-4427-c382-0d13f64d016d"
      },
      "source": [
        "!git status\n",
        "!git pull origin master\n",
        "!git add -A\n",
        "!git commit -am \"push embedding-4000-k-2 results to github\"\n",
        "!git push origin master"
      ],
      "execution_count": null,
      "outputs": [
        {
          "output_type": "stream",
          "text": [
            "On branch master\n",
            "Changes not staged for commit:\n",
            "  (use \"git add <file>...\" to update what will be committed)\n",
            "  (use \"git checkout -- <file>...\" to discard changes in working directory)\n",
            "\n",
            "\t\u001b[31mmodified:   output/conf_list_5f3100.txt\u001b[m\n",
            "\n",
            "Untracked files:\n",
            "  (use \"git add <file>...\" to include in what will be committed)\n",
            "\n",
            "\t\u001b[31mmodels/summary/plot_prediction_5f3100_EmbeddingModel.png\u001b[m\n",
            "\t\u001b[31mmodels/summary/plot_training_5f3100_EmbeddingModel.png\u001b[m\n",
            "\t\u001b[31mmodels/weights/json/config_5f3100_EmbeddingModel.json\u001b[m\n",
            "\t\u001b[31mmodels/weights/json/config_5f3100_EmbeddingModel_best.json\u001b[m\n",
            "\t\u001b[31mmodels/weights/weights_epoch_5f3100_EmbeddingModel.h5\u001b[m\n",
            "\t\u001b[31mmodels/weights/weights_epoch_5f3100_EmbeddingModel_aux.h5\u001b[m\n",
            "\t\u001b[31mmodels/weights/weights_epoch_5f3100_EmbeddingModel_best.h5\u001b[m\n",
            "\t\u001b[31moutput/training/embedding-4000-k-2-out.txt\u001b[m\n",
            "\t\u001b[31mplots/5f3100_EmbeddingModel_plot.png\u001b[m\n",
            "\n",
            "no changes added to commit (use \"git add\" and/or \"git commit -a\")\n",
            "From https://github.com/mrezende/concra\n",
            " * branch            master     -> FETCH_HEAD\n",
            " * [new branch]      master     -> origin/master\n",
            "Already up to date.\n",
            "[master fafa09d] push embedding-4000-k-2 results to github\n",
            " 10 files changed, 4763 insertions(+)\n",
            " create mode 100644 models/summary/plot_prediction_5f3100_EmbeddingModel.png\n",
            " create mode 100644 models/summary/plot_training_5f3100_EmbeddingModel.png\n",
            " create mode 100644 models/weights/json/config_5f3100_EmbeddingModel.json\n",
            " create mode 100644 models/weights/json/config_5f3100_EmbeddingModel_best.json\n",
            " create mode 100644 models/weights/weights_epoch_5f3100_EmbeddingModel.h5\n",
            " create mode 100644 models/weights/weights_epoch_5f3100_EmbeddingModel_aux.h5\n",
            " create mode 100644 models/weights/weights_epoch_5f3100_EmbeddingModel_best.h5\n",
            " create mode 100644 output/training/embedding-4000-k-2-out.txt\n",
            " create mode 100644 plots/5f3100_EmbeddingModel_plot.png\n",
            "Counting objects: 18, done.\n",
            "Delta compression using up to 4 threads.\n",
            "Compressing objects: 100% (18/18), done.\n",
            "Writing objects: 100% (18/18), 13.78 MiB | 4.68 MiB/s, done.\n",
            "Total 18 (delta 10), reused 0 (delta 0)\n",
            "remote: Resolving deltas: 100% (10/10), completed with 8 local objects.\u001b[K\n",
            "To https://github.com/mrezende/concra.git\n",
            "   e73af4f..fafa09d  master -> master\n"
          ],
          "name": "stdout"
        }
      ]
    },
    {
      "cell_type": "code",
      "metadata": {
        "id": "Nj5nsnNrn62i",
        "colab_type": "code",
        "colab": {}
      },
      "source": [
        "!python3 stack_over_flow_qa_eval.py --model embedding --conf_file conf/stack_over_flow_conf_f_4000_k_2_m_005.json &> output/training/embedding-4000-k-2-m-005-out.txt &"
      ],
      "execution_count": null,
      "outputs": []
    },
    {
      "cell_type": "code",
      "metadata": {
        "id": "PsB5aiPHn7im",
        "colab_type": "code",
        "colab": {
          "base_uri": "https://localhost:8080/",
          "height": 1000
        },
        "outputId": "428e8fb1-9591-463b-cd5f-45158e6bc712"
      },
      "source": [
        "!while ! grep \"<Figure\" output/training/embedding-4000-k-2-m-005-out.txt;do tail -n 30 output/training/embedding-4000-k-2-m-005-out.txt; sleep 10;done"
      ],
      "execution_count": null,
      "outputs": []
    },
    {
      "cell_type": "code",
      "metadata": {
        "id": "6lElPoh5n7xb",
        "colab_type": "code",
        "colab": {
          "base_uri": "https://localhost:8080/",
          "height": 748
        },
        "outputId": "96e14c12-11d0-4f7f-d4e3-ac0579795e54"
      },
      "source": [
        "!git status\n",
        "!git pull origin master\n",
        "!git add -A\n",
        "!git commit -am \"push embedding-4000-k-2-m-005 results to github\"\n",
        "!git push origin master"
      ],
      "execution_count": null,
      "outputs": [
        {
          "output_type": "stream",
          "text": [
            "On branch master\n",
            "Changes not staged for commit:\n",
            "  (use \"git add <file>...\" to update what will be committed)\n",
            "  (use \"git checkout -- <file>...\" to discard changes in working directory)\n",
            "\n",
            "\t\u001b[31mmodified:   output/conf_list_ca8cf5.txt\u001b[m\n",
            "\n",
            "Untracked files:\n",
            "  (use \"git add <file>...\" to include in what will be committed)\n",
            "\n",
            "\t\u001b[31mmodels/summary/plot_prediction_ca8cf5_EmbeddingModel.png\u001b[m\n",
            "\t\u001b[31mmodels/summary/plot_training_ca8cf5_EmbeddingModel.png\u001b[m\n",
            "\t\u001b[31mmodels/weights/json/config_ca8cf5_EmbeddingModel.json\u001b[m\n",
            "\t\u001b[31mmodels/weights/json/config_ca8cf5_EmbeddingModel_best.json\u001b[m\n",
            "\t\u001b[31mmodels/weights/weights_epoch_ca8cf5_EmbeddingModel.h5\u001b[m\n",
            "\t\u001b[31mmodels/weights/weights_epoch_ca8cf5_EmbeddingModel_aux.h5\u001b[m\n",
            "\t\u001b[31mmodels/weights/weights_epoch_ca8cf5_EmbeddingModel_best.h5\u001b[m\n",
            "\t\u001b[31moutput/training/embedding-4000-k-2-m-005-out.txt\u001b[m\n",
            "\t\u001b[31mplots/ca8cf5_EmbeddingModel_plot.png\u001b[m\n",
            "\n",
            "no changes added to commit (use \"git add\" and/or \"git commit -a\")\n",
            "From https://github.com/mrezende/concra\n",
            " * branch            master     -> FETCH_HEAD\n",
            "Already up to date.\n",
            "[master e7d5540] push embedding-4000-k-2-m-005 results to github\n",
            " 10 files changed, 4333 insertions(+)\n",
            " create mode 100644 models/summary/plot_prediction_ca8cf5_EmbeddingModel.png\n",
            " create mode 100644 models/summary/plot_training_ca8cf5_EmbeddingModel.png\n",
            " create mode 100644 models/weights/json/config_ca8cf5_EmbeddingModel.json\n",
            " create mode 100644 models/weights/json/config_ca8cf5_EmbeddingModel_best.json\n",
            " create mode 100644 models/weights/weights_epoch_ca8cf5_EmbeddingModel.h5\n",
            " create mode 100644 models/weights/weights_epoch_ca8cf5_EmbeddingModel_aux.h5\n",
            " create mode 100644 models/weights/weights_epoch_ca8cf5_EmbeddingModel_best.h5\n",
            " create mode 100644 output/training/embedding-4000-k-2-m-005-out.txt\n",
            " create mode 100644 plots/ca8cf5_EmbeddingModel_plot.png\n",
            "Counting objects: 16, done.\n",
            "Delta compression using up to 4 threads.\n",
            "Compressing objects: 100% (16/16), done.\n",
            "Writing objects: 100% (16/16), 16.66 MiB | 3.00 MiB/s, done.\n",
            "Total 16 (delta 10), reused 0 (delta 0)\n",
            "remote: Resolving deltas: 100% (10/10), completed with 8 local objects.\u001b[K\n",
            "To https://github.com/mrezende/concra.git\n",
            "   fafa09d..e7d5540  master -> master\n"
          ],
          "name": "stdout"
        }
      ]
    },
    {
      "cell_type": "code",
      "metadata": {
        "id": "KOr39-Kkn79z",
        "colab_type": "code",
        "colab": {}
      },
      "source": [
        "!python3 stack_over_flow_qa_eval.py --model embedding --conf_file conf/stack_over_flow_conf_f_4000_k_2_m_01.json &> output/training/embedding-4000-k-2-m-01-out.txt &"
      ],
      "execution_count": null,
      "outputs": []
    },
    {
      "cell_type": "code",
      "metadata": {
        "id": "tjcrbL3gn8G6",
        "colab_type": "code",
        "colab": {
          "base_uri": "https://localhost:8080/",
          "height": 1000
        },
        "outputId": "1a8f45b3-6ff1-4315-a992-29fb297ed2c0"
      },
      "source": [
        "!while ! grep \"<Figure\" output/training/embedding-4000-k-2-m-01-out.txt;do tail -n 30 output/training/embedding-4000-k-2-m-01-out.txt; sleep 10;done"
      ],
      "execution_count": null,
      "outputs": []
    },
    {
      "cell_type": "code",
      "metadata": {
        "id": "O6scUREan8Qh",
        "colab_type": "code",
        "colab": {
          "base_uri": "https://localhost:8080/",
          "height": 748
        },
        "outputId": "cedf4509-5e57-4ae5-a997-c1f9138017a8"
      },
      "source": [
        "!git status\n",
        "!git pull origin master\n",
        "!git add -A\n",
        "!git commit -am \"push embedding-4000-k-2-m-01 results to github\"\n",
        "!git push origin master"
      ],
      "execution_count": null,
      "outputs": [
        {
          "output_type": "stream",
          "text": [
            "On branch master\n",
            "Changes not staged for commit:\n",
            "  (use \"git add <file>...\" to update what will be committed)\n",
            "  (use \"git checkout -- <file>...\" to discard changes in working directory)\n",
            "\n",
            "\t\u001b[31mmodified:   output/conf_list_3b34a4.txt\u001b[m\n",
            "\n",
            "Untracked files:\n",
            "  (use \"git add <file>...\" to include in what will be committed)\n",
            "\n",
            "\t\u001b[31mmodels/summary/plot_prediction_3b34a4_EmbeddingModel.png\u001b[m\n",
            "\t\u001b[31mmodels/summary/plot_training_3b34a4_EmbeddingModel.png\u001b[m\n",
            "\t\u001b[31mmodels/weights/json/config_3b34a4_EmbeddingModel.json\u001b[m\n",
            "\t\u001b[31mmodels/weights/json/config_3b34a4_EmbeddingModel_best.json\u001b[m\n",
            "\t\u001b[31mmodels/weights/weights_epoch_3b34a4_EmbeddingModel.h5\u001b[m\n",
            "\t\u001b[31mmodels/weights/weights_epoch_3b34a4_EmbeddingModel_aux.h5\u001b[m\n",
            "\t\u001b[31mmodels/weights/weights_epoch_3b34a4_EmbeddingModel_best.h5\u001b[m\n",
            "\t\u001b[31moutput/training/embedding-4000-k-2-m-01-out.txt\u001b[m\n",
            "\t\u001b[31mplots/3b34a4_EmbeddingModel_plot.png\u001b[m\n",
            "\n",
            "no changes added to commit (use \"git add\" and/or \"git commit -a\")\n",
            "From https://github.com/mrezende/concra\n",
            " * branch            master     -> FETCH_HEAD\n",
            "Already up to date.\n",
            "[master ecfff05] push embedding-4000-k-2-m-01 results to github\n",
            " 10 files changed, 4853 insertions(+)\n",
            " create mode 100644 models/summary/plot_prediction_3b34a4_EmbeddingModel.png\n",
            " create mode 100644 models/summary/plot_training_3b34a4_EmbeddingModel.png\n",
            " create mode 100644 models/weights/json/config_3b34a4_EmbeddingModel.json\n",
            " create mode 100644 models/weights/json/config_3b34a4_EmbeddingModel_best.json\n",
            " create mode 100644 models/weights/weights_epoch_3b34a4_EmbeddingModel.h5\n",
            " create mode 100644 models/weights/weights_epoch_3b34a4_EmbeddingModel_aux.h5\n",
            " create mode 100644 models/weights/weights_epoch_3b34a4_EmbeddingModel_best.h5\n",
            " create mode 100644 output/training/embedding-4000-k-2-m-01-out.txt\n",
            " create mode 100644 plots/3b34a4_EmbeddingModel_plot.png\n",
            "Counting objects: 15, done.\n",
            "Delta compression using up to 4 threads.\n",
            "Compressing objects: 100% (15/15), done.\n",
            "Writing objects: 100% (15/15), 18.06 MiB | 3.04 MiB/s, done.\n",
            "Total 15 (delta 10), reused 0 (delta 0)\n",
            "remote: Resolving deltas: 100% (10/10), completed with 8 local objects.\u001b[K\n",
            "To https://github.com/mrezende/concra.git\n",
            "   e7d5540..ecfff05  master -> master\n"
          ],
          "name": "stdout"
        }
      ]
    },
    {
      "cell_type": "code",
      "metadata": {
        "id": "IvRT0s6hn8Zp",
        "colab_type": "code",
        "colab": {}
      },
      "source": [
        "!python3 stack_over_flow_qa_eval.py --model embedding --conf_file conf/stack_over_flow_conf_f_4000_k_2_m_02.json &> output/training/embedding-4000-k-2-m-02-out.txt &"
      ],
      "execution_count": null,
      "outputs": []
    },
    {
      "cell_type": "code",
      "metadata": {
        "id": "klmfVuCpn8ig",
        "colab_type": "code",
        "colab": {
          "base_uri": "https://localhost:8080/",
          "height": 1000
        },
        "outputId": "6eb44aba-15c7-47af-d322-95c22f40a2b2"
      },
      "source": [
        "!while ! grep \"<Figure\" output/training/embedding-4000-k-2-m-02-out.txt;do tail -n 30 output/training/embedding-4000-k-2-m-02-out.txt; sleep 10;done"
      ],
      "execution_count": null,
      "outputs": []
    },
    {
      "cell_type": "code",
      "metadata": {
        "id": "2K4DCch6n8wA",
        "colab_type": "code",
        "colab": {
          "base_uri": "https://localhost:8080/",
          "height": 748
        },
        "outputId": "6a19a35e-91bc-492d-c968-e0e8267ffc1d"
      },
      "source": [
        "!git status\n",
        "!git pull origin master\n",
        "!git add -A\n",
        "!git commit -am \"push embedding-4000-k-2-m-02 results to github\"\n",
        "!git push origin master"
      ],
      "execution_count": null,
      "outputs": [
        {
          "output_type": "stream",
          "text": [
            "On branch master\n",
            "Changes not staged for commit:\n",
            "  (use \"git add <file>...\" to update what will be committed)\n",
            "  (use \"git checkout -- <file>...\" to discard changes in working directory)\n",
            "\n",
            "\t\u001b[31mmodified:   output/conf_list_19af70.txt\u001b[m\n",
            "\n",
            "Untracked files:\n",
            "  (use \"git add <file>...\" to include in what will be committed)\n",
            "\n",
            "\t\u001b[31mmodels/summary/plot_prediction_19af70_EmbeddingModel.png\u001b[m\n",
            "\t\u001b[31mmodels/summary/plot_training_19af70_EmbeddingModel.png\u001b[m\n",
            "\t\u001b[31mmodels/weights/json/config_19af70_EmbeddingModel.json\u001b[m\n",
            "\t\u001b[31mmodels/weights/json/config_19af70_EmbeddingModel_best.json\u001b[m\n",
            "\t\u001b[31mmodels/weights/weights_epoch_19af70_EmbeddingModel.h5\u001b[m\n",
            "\t\u001b[31mmodels/weights/weights_epoch_19af70_EmbeddingModel_aux.h5\u001b[m\n",
            "\t\u001b[31mmodels/weights/weights_epoch_19af70_EmbeddingModel_best.h5\u001b[m\n",
            "\t\u001b[31moutput/training/embedding-4000-k-2-m-02-out.txt\u001b[m\n",
            "\t\u001b[31mplots/19af70_EmbeddingModel_plot.png\u001b[m\n",
            "\n",
            "no changes added to commit (use \"git add\" and/or \"git commit -a\")\n",
            "From https://github.com/mrezende/concra\n",
            " * branch            master     -> FETCH_HEAD\n",
            "Already up to date.\n",
            "[master 3532b79] push embedding-4000-k-2-m-02 results to github\n",
            " 10 files changed, 6243 insertions(+)\n",
            " create mode 100644 models/summary/plot_prediction_19af70_EmbeddingModel.png\n",
            " create mode 100644 models/summary/plot_training_19af70_EmbeddingModel.png\n",
            " create mode 100644 models/weights/json/config_19af70_EmbeddingModel.json\n",
            " create mode 100644 models/weights/json/config_19af70_EmbeddingModel_best.json\n",
            " create mode 100644 models/weights/weights_epoch_19af70_EmbeddingModel.h5\n",
            " create mode 100644 models/weights/weights_epoch_19af70_EmbeddingModel_aux.h5\n",
            " create mode 100644 models/weights/weights_epoch_19af70_EmbeddingModel_best.h5\n",
            " create mode 100644 output/training/embedding-4000-k-2-m-02-out.txt\n",
            " create mode 100644 plots/19af70_EmbeddingModel_plot.png\n",
            "Counting objects: 15, done.\n",
            "Delta compression using up to 4 threads.\n",
            "Compressing objects: 100% (15/15), done.\n",
            "Writing objects: 100% (15/15), 23.09 MiB | 4.64 MiB/s, done.\n",
            "Total 15 (delta 10), reused 0 (delta 0)\n",
            "remote: Resolving deltas: 100% (10/10), completed with 8 local objects.\u001b[K\n",
            "To https://github.com/mrezende/concra.git\n",
            "   ecfff05..3532b79  master -> master\n"
          ],
          "name": "stdout"
        }
      ]
    },
    {
      "cell_type": "markdown",
      "metadata": {
        "id": "kh68ZwKao4jj",
        "colab_type": "text"
      },
      "source": [
        "--------- attention --------------"
      ]
    },
    {
      "cell_type": "code",
      "metadata": {
        "id": "AQhWjcWToyDD",
        "colab_type": "code",
        "colab": {}
      },
      "source": [
        "!python3 stack_over_flow_qa_eval.py --model attention --conf_file conf/stack_over_flow_conf_f_4000_k_2.json &> output/training/attention-4000-k-2-out.txt &"
      ],
      "execution_count": null,
      "outputs": []
    },
    {
      "cell_type": "code",
      "metadata": {
        "id": "UOshrzRzoyfF",
        "colab_type": "code",
        "colab": {
          "base_uri": "https://localhost:8080/",
          "height": 1000
        },
        "outputId": "33a50919-eb11-45ad-f40b-abae36541dfa"
      },
      "source": [
        "!while ! grep \"<Figure\" output/training/attention-4000-k-2-out.txt;do tail -n 30 output/training/attention-4000-k-2-out.txt; sleep 10;done"
      ],
      "execution_count": null,
      "outputs": []
    },
    {
      "cell_type": "code",
      "metadata": {
        "id": "_CTAoqw5oypm",
        "colab_type": "code",
        "colab": {
          "base_uri": "https://localhost:8080/",
          "height": 748
        },
        "outputId": "7e400da2-b578-48bf-d895-43ca36f4921c"
      },
      "source": [
        "!git status\n",
        "!git pull origin master\n",
        "!git add -A\n",
        "!git commit -am \"push attention-4000-k-2 results to github\"\n",
        "!git push origin master"
      ],
      "execution_count": null,
      "outputs": [
        {
          "output_type": "stream",
          "text": [
            "On branch master\n",
            "Changes not staged for commit:\n",
            "  (use \"git add <file>...\" to update what will be committed)\n",
            "  (use \"git checkout -- <file>...\" to discard changes in working directory)\n",
            "\n",
            "\t\u001b[31mmodified:   output/conf_list_5f3100.txt\u001b[m\n",
            "\n",
            "Untracked files:\n",
            "  (use \"git add <file>...\" to include in what will be committed)\n",
            "\n",
            "\t\u001b[31mmodels/summary/plot_prediction_5f3100_UnifModel.png\u001b[m\n",
            "\t\u001b[31mmodels/summary/plot_training_5f3100_UnifModel.png\u001b[m\n",
            "\t\u001b[31mmodels/weights/json/config_5f3100_UnifModel.json\u001b[m\n",
            "\t\u001b[31mmodels/weights/json/config_5f3100_UnifModel_best.json\u001b[m\n",
            "\t\u001b[31mmodels/weights/weights_epoch_5f3100_UnifModel.h5\u001b[m\n",
            "\t\u001b[31mmodels/weights/weights_epoch_5f3100_UnifModel_aux.h5\u001b[m\n",
            "\t\u001b[31mmodels/weights/weights_epoch_5f3100_UnifModel_best.h5\u001b[m\n",
            "\t\u001b[31moutput/training/attention-4000-k-2-out.txt\u001b[m\n",
            "\t\u001b[31mplots/5f3100_UnifModel_plot.png\u001b[m\n",
            "\n",
            "no changes added to commit (use \"git add\" and/or \"git commit -a\")\n",
            "From https://github.com/mrezende/concra\n",
            " * branch            master     -> FETCH_HEAD\n",
            "Already up to date.\n",
            "[master 4c85ae1] push attention-4000-k-2 results to github\n",
            " 10 files changed, 3535 insertions(+)\n",
            " create mode 100644 models/summary/plot_prediction_5f3100_UnifModel.png\n",
            " create mode 100644 models/summary/plot_training_5f3100_UnifModel.png\n",
            " create mode 100644 models/weights/json/config_5f3100_UnifModel.json\n",
            " create mode 100644 models/weights/json/config_5f3100_UnifModel_best.json\n",
            " create mode 100644 models/weights/weights_epoch_5f3100_UnifModel.h5\n",
            " create mode 100644 models/weights/weights_epoch_5f3100_UnifModel_aux.h5\n",
            " create mode 100644 models/weights/weights_epoch_5f3100_UnifModel_best.h5\n",
            " create mode 100644 output/training/attention-4000-k-2-out.txt\n",
            " create mode 100644 plots/5f3100_UnifModel_plot.png\n",
            "Counting objects: 18, done.\n",
            "Delta compression using up to 4 threads.\n",
            "Compressing objects: 100% (18/18), done.\n",
            "Writing objects: 100% (18/18), 30.64 MiB | 3.90 MiB/s, done.\n",
            "Total 18 (delta 10), reused 0 (delta 0)\n",
            "remote: Resolving deltas: 100% (10/10), completed with 8 local objects.\u001b[K\n",
            "To https://github.com/mrezende/concra.git\n",
            "   3532b79..4c85ae1  master -> master\n"
          ],
          "name": "stdout"
        }
      ]
    },
    {
      "cell_type": "code",
      "metadata": {
        "id": "DyOVxA0QoiyI",
        "colab_type": "code",
        "colab": {}
      },
      "source": [
        "!python3 stack_over_flow_qa_eval.py --model attention --conf_file conf/stack_over_flow_conf_f_4000_k_2_m_005.json &> output/training/attention-4000-k-2-m-005-out.txt &"
      ],
      "execution_count": null,
      "outputs": []
    },
    {
      "cell_type": "code",
      "metadata": {
        "id": "rhyrWQ--ojEH",
        "colab_type": "code",
        "colab": {
          "base_uri": "https://localhost:8080/",
          "height": 1000
        },
        "outputId": "580c2cb8-37d5-40fb-92f4-685e48390cfc"
      },
      "source": [
        "!while ! grep \"<Figure\" output/training/attention-4000-k-2-m-005-out.txt;do tail -n 30 output/training/attention-4000-k-2-m-005-out.txt; sleep 10;done"
      ],
      "execution_count": null,
      "outputs": []
    },
    {
      "cell_type": "code",
      "metadata": {
        "id": "sp0v8sYeojR2",
        "colab_type": "code",
        "colab": {
          "base_uri": "https://localhost:8080/",
          "height": 748
        },
        "outputId": "1f22dc63-6dff-4022-cfb5-eccb4796eaa2"
      },
      "source": [
        "!git status\n",
        "!git pull origin master\n",
        "!git add -A\n",
        "!git commit -am \"push attention-4000-k-2-m-005 results to github\"\n",
        "!git push origin master"
      ],
      "execution_count": null,
      "outputs": [
        {
          "output_type": "stream",
          "text": [
            "On branch master\n",
            "Changes not staged for commit:\n",
            "  (use \"git add <file>...\" to update what will be committed)\n",
            "  (use \"git checkout -- <file>...\" to discard changes in working directory)\n",
            "\n",
            "\t\u001b[31mmodified:   output/conf_list_ca8cf5.txt\u001b[m\n",
            "\n",
            "Untracked files:\n",
            "  (use \"git add <file>...\" to include in what will be committed)\n",
            "\n",
            "\t\u001b[31mmodels/summary/plot_prediction_ca8cf5_UnifModel.png\u001b[m\n",
            "\t\u001b[31mmodels/summary/plot_training_ca8cf5_UnifModel.png\u001b[m\n",
            "\t\u001b[31mmodels/weights/json/config_ca8cf5_UnifModel.json\u001b[m\n",
            "\t\u001b[31mmodels/weights/json/config_ca8cf5_UnifModel_best.json\u001b[m\n",
            "\t\u001b[31mmodels/weights/weights_epoch_ca8cf5_UnifModel.h5\u001b[m\n",
            "\t\u001b[31mmodels/weights/weights_epoch_ca8cf5_UnifModel_aux.h5\u001b[m\n",
            "\t\u001b[31mmodels/weights/weights_epoch_ca8cf5_UnifModel_best.h5\u001b[m\n",
            "\t\u001b[31moutput/training/attention-4000-k-2-m-005-out.txt\u001b[m\n",
            "\t\u001b[31mplots/ca8cf5_UnifModel_plot.png\u001b[m\n",
            "\n",
            "no changes added to commit (use \"git add\" and/or \"git commit -a\")\n",
            "From https://github.com/mrezende/concra\n",
            " * branch            master     -> FETCH_HEAD\n",
            "Already up to date.\n",
            "[master b675008] push attention-4000-k-2-m-005 results to github\n",
            " 10 files changed, 3367 insertions(+)\n",
            " create mode 100644 models/summary/plot_prediction_ca8cf5_UnifModel.png\n",
            " create mode 100644 models/summary/plot_training_ca8cf5_UnifModel.png\n",
            " create mode 100644 models/weights/json/config_ca8cf5_UnifModel.json\n",
            " create mode 100644 models/weights/json/config_ca8cf5_UnifModel_best.json\n",
            " create mode 100644 models/weights/weights_epoch_ca8cf5_UnifModel.h5\n",
            " create mode 100644 models/weights/weights_epoch_ca8cf5_UnifModel_aux.h5\n",
            " create mode 100644 models/weights/weights_epoch_ca8cf5_UnifModel_best.h5\n",
            " create mode 100644 output/training/attention-4000-k-2-m-005-out.txt\n",
            " create mode 100644 plots/ca8cf5_UnifModel_plot.png\n",
            "Counting objects: 15, done.\n",
            "Delta compression using up to 4 threads.\n",
            "Compressing objects: 100% (15/15), done.\n",
            "Writing objects: 100% (15/15), 26.02 MiB | 5.99 MiB/s, done.\n",
            "Total 15 (delta 10), reused 0 (delta 0)\n",
            "remote: Resolving deltas: 100% (10/10), completed with 8 local objects.\u001b[K\n",
            "To https://github.com/mrezende/concra.git\n",
            "   4c85ae1..b675008  master -> master\n"
          ],
          "name": "stdout"
        }
      ]
    },
    {
      "cell_type": "code",
      "metadata": {
        "id": "pdfFx7Kiojim",
        "colab_type": "code",
        "colab": {}
      },
      "source": [
        "!python3 stack_over_flow_qa_eval.py --model attention --conf_file conf/stack_over_flow_conf_f_4000_k_2_m_01.json &> output/training/attention-4000-k-2-m-01-out.txt &"
      ],
      "execution_count": null,
      "outputs": []
    },
    {
      "cell_type": "code",
      "metadata": {
        "id": "yTkSyFh-ojtf",
        "colab_type": "code",
        "colab": {
          "base_uri": "https://localhost:8080/",
          "height": 1000
        },
        "outputId": "888d6a85-705f-43ca-b154-6f6d168d5856"
      },
      "source": [
        "!while ! grep \"<Figure\" output/training/attention-4000-k-2-m-01-out.txt;do tail -n 30 output/training/attention-4000-k-2-m-01-out.txt; sleep 10;done"
      ],
      "execution_count": null,
      "outputs": []
    },
    {
      "cell_type": "code",
      "metadata": {
        "id": "MPSbhfDXoj3t",
        "colab_type": "code",
        "colab": {
          "base_uri": "https://localhost:8080/",
          "height": 748
        },
        "outputId": "f7184c84-8381-4bfc-cd7d-5c780e5bc4ce"
      },
      "source": [
        "!git status\n",
        "!git pull origin master\n",
        "!git add -A\n",
        "!git commit -am \"push attention-4000-k-2-m-01 results to github\"\n",
        "!git push origin master"
      ],
      "execution_count": null,
      "outputs": [
        {
          "output_type": "stream",
          "text": [
            "On branch master\n",
            "Changes not staged for commit:\n",
            "  (use \"git add <file>...\" to update what will be committed)\n",
            "  (use \"git checkout -- <file>...\" to discard changes in working directory)\n",
            "\n",
            "\t\u001b[31mmodified:   output/conf_list_3b34a4.txt\u001b[m\n",
            "\n",
            "Untracked files:\n",
            "  (use \"git add <file>...\" to include in what will be committed)\n",
            "\n",
            "\t\u001b[31mmodels/summary/plot_prediction_3b34a4_UnifModel.png\u001b[m\n",
            "\t\u001b[31mmodels/summary/plot_training_3b34a4_UnifModel.png\u001b[m\n",
            "\t\u001b[31mmodels/weights/json/config_3b34a4_UnifModel.json\u001b[m\n",
            "\t\u001b[31mmodels/weights/json/config_3b34a4_UnifModel_best.json\u001b[m\n",
            "\t\u001b[31mmodels/weights/weights_epoch_3b34a4_UnifModel.h5\u001b[m\n",
            "\t\u001b[31mmodels/weights/weights_epoch_3b34a4_UnifModel_aux.h5\u001b[m\n",
            "\t\u001b[31mmodels/weights/weights_epoch_3b34a4_UnifModel_best.h5\u001b[m\n",
            "\t\u001b[31moutput/training/attention-4000-k-2-m-01-out.txt\u001b[m\n",
            "\t\u001b[31mplots/3b34a4_UnifModel_plot.png\u001b[m\n",
            "\n",
            "no changes added to commit (use \"git add\" and/or \"git commit -a\")\n",
            "From https://github.com/mrezende/concra\n",
            " * branch            master     -> FETCH_HEAD\n",
            "Already up to date.\n",
            "[master 52b2a3b] push attention-4000-k-2-m-01 results to github\n",
            " 10 files changed, 3529 insertions(+)\n",
            " create mode 100644 models/summary/plot_prediction_3b34a4_UnifModel.png\n",
            " create mode 100644 models/summary/plot_training_3b34a4_UnifModel.png\n",
            " create mode 100644 models/weights/json/config_3b34a4_UnifModel.json\n",
            " create mode 100644 models/weights/json/config_3b34a4_UnifModel_best.json\n",
            " create mode 100644 models/weights/weights_epoch_3b34a4_UnifModel.h5\n",
            " create mode 100644 models/weights/weights_epoch_3b34a4_UnifModel_aux.h5\n",
            " create mode 100644 models/weights/weights_epoch_3b34a4_UnifModel_best.h5\n",
            " create mode 100644 output/training/attention-4000-k-2-m-01-out.txt\n",
            " create mode 100644 plots/3b34a4_UnifModel_plot.png\n",
            "Counting objects: 15, done.\n",
            "Delta compression using up to 4 threads.\n",
            "Compressing objects: 100% (15/15), done.\n",
            "Writing objects: 100% (15/15), 33.10 MiB | 6.66 MiB/s, done.\n",
            "Total 15 (delta 10), reused 0 (delta 0)\n",
            "remote: Resolving deltas: 100% (10/10), completed with 8 local objects.\u001b[K\n",
            "To https://github.com/mrezende/concra.git\n",
            "   b675008..52b2a3b  master -> master\n"
          ],
          "name": "stdout"
        }
      ]
    },
    {
      "cell_type": "code",
      "metadata": {
        "id": "j6QSjvemokCj",
        "colab_type": "code",
        "colab": {}
      },
      "source": [
        "!python3 stack_over_flow_qa_eval.py --model attention --conf_file conf/stack_over_flow_conf_f_4000_k_2_m_02.json &> output/training/attention-4000-k-2-m-02-out.txt &"
      ],
      "execution_count": null,
      "outputs": []
    },
    {
      "cell_type": "code",
      "metadata": {
        "id": "LNthYiKOokNU",
        "colab_type": "code",
        "colab": {
          "base_uri": "https://localhost:8080/",
          "height": 1000
        },
        "outputId": "503b5f75-d6a5-47bd-f58e-93c1276faff1"
      },
      "source": [
        "!while ! grep \"<Figure\" output/training/attention-4000-k-2-m-02-out.txt;do tail -n 30 output/training/attention-4000-k-2-m-02-out.txt; sleep 10;done"
      ],
      "execution_count": null,
      "outputs": []
    },
    {
      "cell_type": "code",
      "metadata": {
        "id": "RHqXeDYqokdF",
        "colab_type": "code",
        "colab": {
          "base_uri": "https://localhost:8080/",
          "height": 748
        },
        "outputId": "9976ce7f-2f84-4466-f20f-ee3596144ecf"
      },
      "source": [
        "!git status\n",
        "!git pull origin master\n",
        "!git add -A\n",
        "!git commit -am \"push attention-4000-k-2-m-02 results to github\"\n",
        "!git push origin master"
      ],
      "execution_count": null,
      "outputs": [
        {
          "output_type": "stream",
          "text": [
            "On branch master\n",
            "Changes not staged for commit:\n",
            "  (use \"git add <file>...\" to update what will be committed)\n",
            "  (use \"git checkout -- <file>...\" to discard changes in working directory)\n",
            "\n",
            "\t\u001b[31mmodified:   output/conf_list_19af70.txt\u001b[m\n",
            "\n",
            "Untracked files:\n",
            "  (use \"git add <file>...\" to include in what will be committed)\n",
            "\n",
            "\t\u001b[31mmodels/summary/plot_prediction_19af70_UnifModel.png\u001b[m\n",
            "\t\u001b[31mmodels/summary/plot_training_19af70_UnifModel.png\u001b[m\n",
            "\t\u001b[31mmodels/weights/json/config_19af70_UnifModel.json\u001b[m\n",
            "\t\u001b[31mmodels/weights/json/config_19af70_UnifModel_best.json\u001b[m\n",
            "\t\u001b[31mmodels/weights/weights_epoch_19af70_UnifModel.h5\u001b[m\n",
            "\t\u001b[31mmodels/weights/weights_epoch_19af70_UnifModel_aux.h5\u001b[m\n",
            "\t\u001b[31mmodels/weights/weights_epoch_19af70_UnifModel_best.h5\u001b[m\n",
            "\t\u001b[31moutput/training/attention-4000-k-2-m-02-out.txt\u001b[m\n",
            "\t\u001b[31mplots/19af70_UnifModel_plot.png\u001b[m\n",
            "\n",
            "no changes added to commit (use \"git add\" and/or \"git commit -a\")\n",
            "From https://github.com/mrezende/concra\n",
            " * branch            master     -> FETCH_HEAD\n",
            "Already up to date.\n",
            "[master c384ad8] push attention-4000-k-2-m-02 results to github\n",
            " 10 files changed, 4319 insertions(+)\n",
            " create mode 100644 models/summary/plot_prediction_19af70_UnifModel.png\n",
            " create mode 100644 models/summary/plot_training_19af70_UnifModel.png\n",
            " create mode 100644 models/weights/json/config_19af70_UnifModel.json\n",
            " create mode 100644 models/weights/json/config_19af70_UnifModel_best.json\n",
            " create mode 100644 models/weights/weights_epoch_19af70_UnifModel.h5\n",
            " create mode 100644 models/weights/weights_epoch_19af70_UnifModel_aux.h5\n",
            " create mode 100644 models/weights/weights_epoch_19af70_UnifModel_best.h5\n",
            " create mode 100644 output/training/attention-4000-k-2-m-02-out.txt\n",
            " create mode 100644 plots/19af70_UnifModel_plot.png\n",
            "Counting objects: 15, done.\n",
            "Delta compression using up to 4 threads.\n",
            "Compressing objects: 100% (15/15), done.\n",
            "Writing objects: 100% (15/15), 34.46 MiB | 6.53 MiB/s, done.\n",
            "Total 15 (delta 10), reused 0 (delta 0)\n",
            "remote: Resolving deltas: 100% (10/10), completed with 8 local objects.\u001b[K\n",
            "To https://github.com/mrezende/concra.git\n",
            "   52b2a3b..c384ad8  master -> master\n"
          ],
          "name": "stdout"
        }
      ]
    },
    {
      "cell_type": "markdown",
      "metadata": {
        "id": "0Cxu8lzPo9aE",
        "colab_type": "text"
      },
      "source": [
        "--------- attentions-with-bn --------------"
      ]
    },
    {
      "cell_type": "code",
      "metadata": {
        "id": "sI_OsZwFpF9U",
        "colab_type": "code",
        "colab": {}
      },
      "source": [
        "!python3 stack_over_flow_qa_eval.py --model attention-with-bn --conf_file conf/stack_over_flow_conf_f_4000_k_2.json &> output/training/attention-with-bn-4000-k-2-out.txt &"
      ],
      "execution_count": null,
      "outputs": []
    },
    {
      "cell_type": "code",
      "metadata": {
        "id": "l6W3oIOTpGTx",
        "colab_type": "code",
        "colab": {
          "base_uri": "https://localhost:8080/",
          "height": 1000
        },
        "outputId": "22907928-12d2-4cbf-a9f8-e33fe087b423"
      },
      "source": [
        "!while ! grep \"<Figure\" output/training/attention-with-bn-4000-k-2-out.txt;do tail -n 30 output/training/attention-with-bn-4000-k-2-out.txt; sleep 10;done"
      ],
      "execution_count": null,
      "outputs": []
    },
    {
      "cell_type": "code",
      "metadata": {
        "id": "MkAssIXXpGdy",
        "colab_type": "code",
        "colab": {
          "base_uri": "https://localhost:8080/",
          "height": 748
        },
        "outputId": "fe617ef0-2646-4bac-886f-0a9b08ade585"
      },
      "source": [
        "!git status\n",
        "!git pull origin master\n",
        "!git add -A\n",
        "!git commit -am \"push attention-with-bn-4000-k-2 results to github\"\n",
        "!git push origin master"
      ],
      "execution_count": null,
      "outputs": [
        {
          "output_type": "stream",
          "text": [
            "On branch master\n",
            "Changes not staged for commit:\n",
            "  (use \"git add <file>...\" to update what will be committed)\n",
            "  (use \"git checkout -- <file>...\" to discard changes in working directory)\n",
            "\n",
            "\t\u001b[31mmodified:   output/conf_list_5f3100.txt\u001b[m\n",
            "\n",
            "Untracked files:\n",
            "  (use \"git add <file>...\" to include in what will be committed)\n",
            "\n",
            "\t\u001b[31mmodels/summary/plot_prediction_5f3100_UnifModelWithBatchNormalization.png\u001b[m\n",
            "\t\u001b[31mmodels/summary/plot_training_5f3100_UnifModelWithBatchNormalization.png\u001b[m\n",
            "\t\u001b[31mmodels/weights/json/config_5f3100_UnifModelWithBatchNormalization.json\u001b[m\n",
            "\t\u001b[31mmodels/weights/json/config_5f3100_UnifModelWithBatchNormalization_best.json\u001b[m\n",
            "\t\u001b[31mmodels/weights/weights_epoch_5f3100_UnifModelWithBatchNormalization.h5\u001b[m\n",
            "\t\u001b[31mmodels/weights/weights_epoch_5f3100_UnifModelWithBatchNormalization_aux.h5\u001b[m\n",
            "\t\u001b[31mmodels/weights/weights_epoch_5f3100_UnifModelWithBatchNormalization_best.h5\u001b[m\n",
            "\t\u001b[31moutput/training/attention-with-bn-4000-k-2-out.txt\u001b[m\n",
            "\t\u001b[31mplots/5f3100_UnifModelWithBatchNormalization_plot.png\u001b[m\n",
            "\n",
            "no changes added to commit (use \"git add\" and/or \"git commit -a\")\n",
            "From https://github.com/mrezende/concra\n",
            " * branch            master     -> FETCH_HEAD\n",
            "Already up to date.\n",
            "[master ce0a753] push attention-with-bn-4000-k-2 results to github\n",
            " 10 files changed, 5103 insertions(+)\n",
            " create mode 100644 models/summary/plot_prediction_5f3100_UnifModelWithBatchNormalization.png\n",
            " create mode 100644 models/summary/plot_training_5f3100_UnifModelWithBatchNormalization.png\n",
            " create mode 100644 models/weights/json/config_5f3100_UnifModelWithBatchNormalization.json\n",
            " create mode 100644 models/weights/json/config_5f3100_UnifModelWithBatchNormalization_best.json\n",
            " create mode 100644 models/weights/weights_epoch_5f3100_UnifModelWithBatchNormalization.h5\n",
            " create mode 100644 models/weights/weights_epoch_5f3100_UnifModelWithBatchNormalization_aux.h5\n",
            " create mode 100644 models/weights/weights_epoch_5f3100_UnifModelWithBatchNormalization_best.h5\n",
            " create mode 100644 output/training/attention-with-bn-4000-k-2-out.txt\n",
            " create mode 100644 plots/5f3100_UnifModelWithBatchNormalization_plot.png\n",
            "Counting objects: 18, done.\n",
            "Delta compression using up to 4 threads.\n",
            "Compressing objects: 100% (18/18), done.\n",
            "Writing objects: 100% (18/18), 36.52 MiB | 4.08 MiB/s, done.\n",
            "Total 18 (delta 10), reused 0 (delta 0)\n",
            "remote: Resolving deltas: 100% (10/10), completed with 8 local objects.\u001b[K\n",
            "To https://github.com/mrezende/concra.git\n",
            "   c384ad8..ce0a753  master -> master\n"
          ],
          "name": "stdout"
        }
      ]
    },
    {
      "cell_type": "code",
      "metadata": {
        "id": "d5k5RRYepGok",
        "colab_type": "code",
        "colab": {}
      },
      "source": [
        "!python3 stack_over_flow_qa_eval.py --model attention-with-bn --conf_file conf/stack_over_flow_conf_f_4000_k_2_m_005.json &> output/training/attention-with-bn-4000-k-2-m-005-out.txt &"
      ],
      "execution_count": null,
      "outputs": []
    },
    {
      "cell_type": "code",
      "metadata": {
        "id": "cm5pK_PIpGy8",
        "colab_type": "code",
        "colab": {
          "base_uri": "https://localhost:8080/",
          "height": 1000
        },
        "outputId": "245d1acb-7a62-4e74-f581-7d89a738808a"
      },
      "source": [
        "!while ! grep \"<Figure\" output/training/attention-with-bn-4000-k-2-m-005-out.txt;do tail -n 30 output/training/attention-with-bn-4000-k-2-m-005-out.txt; sleep 10;done"
      ],
      "execution_count": null,
      "outputs": []
    },
    {
      "cell_type": "code",
      "metadata": {
        "id": "Fz9xbtE2pG9U",
        "colab_type": "code",
        "colab": {
          "base_uri": "https://localhost:8080/",
          "height": 748
        },
        "outputId": "013c641f-f00e-4231-8943-69029d48c1e2"
      },
      "source": [
        "!git status\n",
        "!git pull origin master\n",
        "!git add -A\n",
        "!git commit -am \"push attention-with-bn-4000-k-2-m-005 results to github\"\n",
        "!git push origin master"
      ],
      "execution_count": null,
      "outputs": [
        {
          "output_type": "stream",
          "text": [
            "On branch master\n",
            "Changes not staged for commit:\n",
            "  (use \"git add <file>...\" to update what will be committed)\n",
            "  (use \"git checkout -- <file>...\" to discard changes in working directory)\n",
            "\n",
            "\t\u001b[31mmodified:   output/conf_list_ca8cf5.txt\u001b[m\n",
            "\n",
            "Untracked files:\n",
            "  (use \"git add <file>...\" to include in what will be committed)\n",
            "\n",
            "\t\u001b[31mmodels/summary/plot_prediction_ca8cf5_UnifModelWithBatchNormalization.png\u001b[m\n",
            "\t\u001b[31mmodels/summary/plot_training_ca8cf5_UnifModelWithBatchNormalization.png\u001b[m\n",
            "\t\u001b[31mmodels/weights/json/config_ca8cf5_UnifModelWithBatchNormalization.json\u001b[m\n",
            "\t\u001b[31mmodels/weights/json/config_ca8cf5_UnifModelWithBatchNormalization_best.json\u001b[m\n",
            "\t\u001b[31mmodels/weights/weights_epoch_ca8cf5_UnifModelWithBatchNormalization.h5\u001b[m\n",
            "\t\u001b[31mmodels/weights/weights_epoch_ca8cf5_UnifModelWithBatchNormalization_aux.h5\u001b[m\n",
            "\t\u001b[31mmodels/weights/weights_epoch_ca8cf5_UnifModelWithBatchNormalization_best.h5\u001b[m\n",
            "\t\u001b[31moutput/training/attention-with-bn-4000-k-2-m-005-out.txt\u001b[m\n",
            "\t\u001b[31mplots/ca8cf5_UnifModelWithBatchNormalization_plot.png\u001b[m\n",
            "\n",
            "no changes added to commit (use \"git add\" and/or \"git commit -a\")\n",
            "From https://github.com/mrezende/concra\n",
            " * branch            master     -> FETCH_HEAD\n",
            "Already up to date.\n",
            "[master 9aeee50] push attention-with-bn-4000-k-2-m-005 results to github\n",
            " 10 files changed, 5103 insertions(+)\n",
            " create mode 100644 models/summary/plot_prediction_ca8cf5_UnifModelWithBatchNormalization.png\n",
            " create mode 100644 models/summary/plot_training_ca8cf5_UnifModelWithBatchNormalization.png\n",
            " create mode 100644 models/weights/json/config_ca8cf5_UnifModelWithBatchNormalization.json\n",
            " create mode 100644 models/weights/json/config_ca8cf5_UnifModelWithBatchNormalization_best.json\n",
            " create mode 100644 models/weights/weights_epoch_ca8cf5_UnifModelWithBatchNormalization.h5\n",
            " create mode 100644 models/weights/weights_epoch_ca8cf5_UnifModelWithBatchNormalization_aux.h5\n",
            " create mode 100644 models/weights/weights_epoch_ca8cf5_UnifModelWithBatchNormalization_best.h5\n",
            " create mode 100644 output/training/attention-with-bn-4000-k-2-m-005-out.txt\n",
            " create mode 100644 plots/ca8cf5_UnifModelWithBatchNormalization_plot.png\n",
            "Counting objects: 15, done.\n",
            "Delta compression using up to 4 threads.\n",
            "Compressing objects: 100% (15/15), done.\n",
            "Writing objects: 100% (15/15), 35.10 MiB | 7.14 MiB/s, done.\n",
            "Total 15 (delta 10), reused 0 (delta 0)\n",
            "remote: Resolving deltas: 100% (10/10), completed with 8 local objects.\u001b[K\n",
            "To https://github.com/mrezende/concra.git\n",
            "   ce0a753..9aeee50  master -> master\n"
          ],
          "name": "stdout"
        }
      ]
    },
    {
      "cell_type": "code",
      "metadata": {
        "id": "-7ZkUN_ApHIE",
        "colab_type": "code",
        "colab": {}
      },
      "source": [
        "!python3 stack_over_flow_qa_eval.py --model attention-with-bn --conf_file conf/stack_over_flow_conf_f_4000_k_2_m_01.json &> output/training/attention-with-bn-4000-k-2-m-01-out.txt &"
      ],
      "execution_count": null,
      "outputs": []
    },
    {
      "cell_type": "code",
      "metadata": {
        "id": "WE8GqObrpHVF",
        "colab_type": "code",
        "colab": {
          "base_uri": "https://localhost:8080/",
          "height": 1000
        },
        "outputId": "ef637b7b-592c-4b6f-97ed-c3af9c2f6703"
      },
      "source": [
        "!while ! grep \"<Figure\" output/training/attention-with-bn-4000-k-2-m-01-out.txt;do tail -n 30 output/training/attention-with-bn-4000-k-2-m-01-out.txt; sleep 10;done"
      ],
      "execution_count": null,
      "outputs": []
    },
    {
      "cell_type": "code",
      "metadata": {
        "id": "WKYsBkz3pHiN",
        "colab_type": "code",
        "colab": {
          "base_uri": "https://localhost:8080/",
          "height": 748
        },
        "outputId": "960bcb43-511d-4110-def4-8f1e278c1a4c"
      },
      "source": [
        "!git status\n",
        "!git pull origin master\n",
        "!git add -A\n",
        "!git commit -am \"push attention-with-bn-4000-k-2-m-01 results to github\"\n",
        "!git push origin master"
      ],
      "execution_count": null,
      "outputs": [
        {
          "output_type": "stream",
          "text": [
            "On branch master\n",
            "Changes not staged for commit:\n",
            "  (use \"git add <file>...\" to update what will be committed)\n",
            "  (use \"git checkout -- <file>...\" to discard changes in working directory)\n",
            "\n",
            "\t\u001b[31mmodified:   output/conf_list_3b34a4.txt\u001b[m\n",
            "\n",
            "Untracked files:\n",
            "  (use \"git add <file>...\" to include in what will be committed)\n",
            "\n",
            "\t\u001b[31mmodels/summary/plot_prediction_3b34a4_UnifModelWithBatchNormalization.png\u001b[m\n",
            "\t\u001b[31mmodels/summary/plot_training_3b34a4_UnifModelWithBatchNormalization.png\u001b[m\n",
            "\t\u001b[31mmodels/weights/json/config_3b34a4_UnifModelWithBatchNormalization.json\u001b[m\n",
            "\t\u001b[31mmodels/weights/json/config_3b34a4_UnifModelWithBatchNormalization_best.json\u001b[m\n",
            "\t\u001b[31mmodels/weights/weights_epoch_3b34a4_UnifModelWithBatchNormalization.h5\u001b[m\n",
            "\t\u001b[31mmodels/weights/weights_epoch_3b34a4_UnifModelWithBatchNormalization_aux.h5\u001b[m\n",
            "\t\u001b[31mmodels/weights/weights_epoch_3b34a4_UnifModelWithBatchNormalization_best.h5\u001b[m\n",
            "\t\u001b[31moutput/training/attention-with-bn-4000-k-2-m-01-out.txt\u001b[m\n",
            "\t\u001b[31mplots/3b34a4_UnifModelWithBatchNormalization_plot.png\u001b[m\n",
            "\n",
            "no changes added to commit (use \"git add\" and/or \"git commit -a\")\n",
            "From https://github.com/mrezende/concra\n",
            " * branch            master     -> FETCH_HEAD\n",
            "Already up to date.\n",
            "[master 6ca5173] push attention-with-bn-4000-k-2-m-01 results to github\n",
            " 10 files changed, 7271 insertions(+)\n",
            " create mode 100644 models/summary/plot_prediction_3b34a4_UnifModelWithBatchNormalization.png\n",
            " create mode 100644 models/summary/plot_training_3b34a4_UnifModelWithBatchNormalization.png\n",
            " create mode 100644 models/weights/json/config_3b34a4_UnifModelWithBatchNormalization.json\n",
            " create mode 100644 models/weights/json/config_3b34a4_UnifModelWithBatchNormalization_best.json\n",
            " create mode 100644 models/weights/weights_epoch_3b34a4_UnifModelWithBatchNormalization.h5\n",
            " create mode 100644 models/weights/weights_epoch_3b34a4_UnifModelWithBatchNormalization_aux.h5\n",
            " create mode 100644 models/weights/weights_epoch_3b34a4_UnifModelWithBatchNormalization_best.h5\n",
            " create mode 100644 output/training/attention-with-bn-4000-k-2-m-01-out.txt\n",
            " create mode 100644 plots/3b34a4_UnifModelWithBatchNormalization_plot.png\n",
            "Counting objects: 15, done.\n",
            "Delta compression using up to 4 threads.\n",
            "Compressing objects: 100% (15/15), done.\n",
            "Writing objects: 100% (15/15), 37.04 MiB | 7.02 MiB/s, done.\n",
            "Total 15 (delta 10), reused 0 (delta 0)\n",
            "remote: Resolving deltas: 100% (10/10), completed with 8 local objects.\u001b[K\n",
            "To https://github.com/mrezende/concra.git\n",
            "   9aeee50..6ca5173  master -> master\n"
          ],
          "name": "stdout"
        }
      ]
    },
    {
      "cell_type": "code",
      "metadata": {
        "id": "FIwPv2aypHwU",
        "colab_type": "code",
        "colab": {}
      },
      "source": [
        "!python3 stack_over_flow_qa_eval.py --model attention-with-bn --conf_file conf/stack_over_flow_conf_f_4000_k_2_m_02.json &> output/training/attention-with-bn-4000-k-2-m-02-out.txt &"
      ],
      "execution_count": null,
      "outputs": []
    },
    {
      "cell_type": "code",
      "metadata": {
        "id": "-syMOUz2pH8k",
        "colab_type": "code",
        "colab": {
          "base_uri": "https://localhost:8080/",
          "height": 1000
        },
        "outputId": "06538674-1454-4f9c-c428-bc88926fd647"
      },
      "source": [
        "!while ! grep \"<Figure\" output/training/attention-with-bn-4000-k-2-m-02-out.txt;do tail -n 30 output/training/attention-with-bn-4000-k-2-m-02-out.txt; sleep 10;done"
      ],
      "execution_count": null,
      "outputs": []
    },
    {
      "cell_type": "code",
      "metadata": {
        "id": "wyEAmGXlpIKU",
        "colab_type": "code",
        "colab": {
          "base_uri": "https://localhost:8080/",
          "height": 748
        },
        "outputId": "beca1778-adf8-4e9e-aada-4e71f98b4d04"
      },
      "source": [
        "!git status\n",
        "!git pull origin master\n",
        "!git add -A\n",
        "!git commit -am \"push attention-with-bn-4000-k-2-m-02 results to github\"\n",
        "!git push origin master"
      ],
      "execution_count": null,
      "outputs": [
        {
          "output_type": "stream",
          "text": [
            "On branch master\n",
            "Changes not staged for commit:\n",
            "  (use \"git add <file>...\" to update what will be committed)\n",
            "  (use \"git checkout -- <file>...\" to discard changes in working directory)\n",
            "\n",
            "\t\u001b[31mmodified:   output/conf_list_19af70.txt\u001b[m\n",
            "\n",
            "Untracked files:\n",
            "  (use \"git add <file>...\" to include in what will be committed)\n",
            "\n",
            "\t\u001b[31mmodels/summary/plot_prediction_19af70_UnifModelWithBatchNormalization.png\u001b[m\n",
            "\t\u001b[31mmodels/summary/plot_training_19af70_UnifModelWithBatchNormalization.png\u001b[m\n",
            "\t\u001b[31mmodels/weights/json/config_19af70_UnifModelWithBatchNormalization.json\u001b[m\n",
            "\t\u001b[31mmodels/weights/json/config_19af70_UnifModelWithBatchNormalization_best.json\u001b[m\n",
            "\t\u001b[31mmodels/weights/weights_epoch_19af70_UnifModelWithBatchNormalization.h5\u001b[m\n",
            "\t\u001b[31mmodels/weights/weights_epoch_19af70_UnifModelWithBatchNormalization_aux.h5\u001b[m\n",
            "\t\u001b[31mmodels/weights/weights_epoch_19af70_UnifModelWithBatchNormalization_best.h5\u001b[m\n",
            "\t\u001b[31moutput/training/attention-with-bn-4000-k-2-m-02-out.txt\u001b[m\n",
            "\t\u001b[31mplots/19af70_UnifModelWithBatchNormalization_plot.png\u001b[m\n",
            "\n",
            "no changes added to commit (use \"git add\" and/or \"git commit -a\")\n",
            "From https://github.com/mrezende/concra\n",
            " * branch            master     -> FETCH_HEAD\n",
            "Already up to date.\n",
            "[master a76dd1f] push attention-with-bn-4000-k-2-m-02 results to github\n",
            " 10 files changed, 6927 insertions(+)\n",
            " create mode 100644 models/summary/plot_prediction_19af70_UnifModelWithBatchNormalization.png\n",
            " create mode 100644 models/summary/plot_training_19af70_UnifModelWithBatchNormalization.png\n",
            " create mode 100644 models/weights/json/config_19af70_UnifModelWithBatchNormalization.json\n",
            " create mode 100644 models/weights/json/config_19af70_UnifModelWithBatchNormalization_best.json\n",
            " create mode 100644 models/weights/weights_epoch_19af70_UnifModelWithBatchNormalization.h5\n",
            " create mode 100644 models/weights/weights_epoch_19af70_UnifModelWithBatchNormalization_aux.h5\n",
            " create mode 100644 models/weights/weights_epoch_19af70_UnifModelWithBatchNormalization_best.h5\n",
            " create mode 100644 output/training/attention-with-bn-4000-k-2-m-02-out.txt\n",
            " create mode 100644 plots/19af70_UnifModelWithBatchNormalization_plot.png\n",
            "Counting objects: 15, done.\n",
            "Delta compression using up to 4 threads.\n",
            "Compressing objects: 100% (15/15), done.\n",
            "Writing objects: 100% (15/15), 40.57 MiB | 8.45 MiB/s, done.\n",
            "Total 15 (delta 9), reused 0 (delta 0)\n",
            "remote: Resolving deltas: 100% (9/9), completed with 8 local objects.\u001b[K\n",
            "To https://github.com/mrezende/concra.git\n",
            "   6ca5173..a76dd1f  master -> master\n"
          ],
          "name": "stdout"
        }
      ]
    }
  ]
}